{
 "cells": [
  {
   "cell_type": "markdown",
   "metadata": {},
   "source": [
    "# Sentiment Analysis of Element Coffee Shop Reviews"
   ]
  },
  {
   "cell_type": "code",
   "execution_count": 6,
   "metadata": {},
   "outputs": [],
   "source": [
    "import os.path\n",
    "import requests\n",
    "import pickle\n",
    "\n",
    "from googleapiclient.discovery import build\n",
    "from google_auth_oauthlib.flow import InstalledAppFlow\n",
    "from google.auth.transport.requests import Request\n",
    "\n",
    "import pandas as pd\n",
    "import numpy as np\n",
    "import matplotlib.pyplot as plt\n",
    "import seaborn as sns\n",
    "\n",
    "from transformers import pipeline\n",
    "\n",
    "%matplotlib inline"
   ]
  },
  {
   "cell_type": "code",
   "execution_count": 3,
   "metadata": {},
   "outputs": [],
   "source": [
    "# Mrauhut/\n",
    "from googleapiclient import sample_tools\n",
    "from googleapiclient.http import build_http\n",
    "import sys\n",
    "import json\n",
    "import pandas as pd\n",
    "import csv\n",
    "from pandas.io.json import json_normalize\n",
    "from datetime import datetime, timedelta"
   ]
  },
  {
   "cell_type": "markdown",
   "metadata": {},
   "source": [
    "\n"
   ]
  },
  {
   "cell_type": "markdown",
   "metadata": {},
   "source": [
    "### Obtain Data with Google Business API"
   ]
  },
  {
   "cell_type": "code",
   "execution_count": null,
   "metadata": {},
   "outputs": [],
   "source": [
    "!python -m http.server 8000"
   ]
  },
  {
   "cell_type": "code",
   "execution_count": 5,
   "metadata": {},
   "outputs": [
    {
     "ename": "NameError",
     "evalue": "name '__file__' is not defined",
     "output_type": "error",
     "traceback": [
      "\u001b[1;31m---------------------------------------------------------------------------\u001b[0m",
      "\u001b[1;31mNameError\u001b[0m                                 Traceback (most recent call last)",
      "\u001b[1;32m<ipython-input-5-ee94eee4b1ff>\u001b[0m in \u001b[0;36masync-def-wrapper\u001b[1;34m()\u001b[0m\n\u001b[0;32m      5\u001b[0m                                       \u001b[0mscope\u001b[0m\u001b[1;33m=\u001b[0m\u001b[1;34m\"https://www.googleapis.com/auth/business.manage\"\u001b[0m\u001b[1;33m,\u001b[0m\u001b[1;33m\u001b[0m\u001b[1;33m\u001b[0m\u001b[0m\n\u001b[0;32m      6\u001b[0m                                       discovery_filename=discovery_doc)\n",
      "\u001b[1;31mNameError\u001b[0m: name '__file__' is not defined"
     ]
    }
   ],
   "source": [
    " # Use the discovery doc to build a service that we can use to make\n",
    "    # MyBusiness API calls, and authenticate the user so we can access their\n",
    "    # account\n",
    "    service, flags = sample_tools.init(\"mybusiness\", \"v4\", __doc__, __file__, \n",
    "                                       scope=\"https://www.googleapis.com/auth/business.manage\", \n",
    "                                       discovery_filename=discovery_doc)"
   ]
  },
  {
   "cell_type": "code",
   "execution_count": null,
   "metadata": {},
   "outputs": [],
   "source": []
  },
  {
   "cell_type": "code",
   "execution_count": null,
   "metadata": {},
   "outputs": [],
   "source": []
  },
  {
   "cell_type": "markdown",
   "metadata": {},
   "source": [
    "## developer docs for google drive API"
   ]
  },
  {
   "cell_type": "code",
   "execution_count": 2,
   "metadata": {},
   "outputs": [],
   "source": [
    "# If modifying these scopes, delete the file token.pickle.\n",
    "SCOPES = ['https://www.googleapis.com/auth/business.manage']"
   ]
  },
  {
   "cell_type": "code",
   "execution_count": 6,
   "metadata": {},
   "outputs": [
    {
     "name": "stdout",
     "output_type": "stream",
     "text": [
      "Please visit this URL to authorize this application: https://accounts.google.com/o/oauth2/auth?response_type=code&client_id=634188717068-unqb3q8t0is3e7nnc2gch1ljd9so0etj.apps.googleusercontent.com&redirect_uri=http%3A%2F%2Flocalhost%3A56743%2F&scope=https%3A%2F%2Fwww.googleapis.com%2Fauth%2Fbusiness.manage&state=7vcBGDmCOFLxaNrIcDOEAKGuEE1NkD&access_type=offline\n"
     ]
    },
    {
     "ename": "HttpError",
     "evalue": "<HttpError 403 when requesting https://mybusiness.googleapis.com/$discovery/rest?version=v4 returned \"The request is missing a valid API key.\">",
     "output_type": "error",
     "traceback": [
      "\u001b[1;31m---------------------------------------------------------------------------\u001b[0m",
      "\u001b[1;31mHttpError\u001b[0m                                 Traceback (most recent call last)",
      "\u001b[1;32m<ipython-input-6-36ba764afce3>\u001b[0m in \u001b[0;36m<module>\u001b[1;34m\u001b[0m\n\u001b[0;32m     18\u001b[0m             \u001b[0mpickle\u001b[0m\u001b[1;33m.\u001b[0m\u001b[0mdump\u001b[0m\u001b[1;33m(\u001b[0m\u001b[0mcreds\u001b[0m\u001b[1;33m,\u001b[0m \u001b[0mtoken\u001b[0m\u001b[1;33m)\u001b[0m\u001b[1;33m\u001b[0m\u001b[1;33m\u001b[0m\u001b[0m\n\u001b[0;32m     19\u001b[0m \u001b[1;33m\u001b[0m\u001b[0m\n\u001b[1;32m---> 20\u001b[1;33m     \u001b[0mservice\u001b[0m \u001b[1;33m=\u001b[0m \u001b[0mbuild\u001b[0m\u001b[1;33m(\u001b[0m\u001b[1;34m'mybusiness'\u001b[0m\u001b[1;33m,\u001b[0m \u001b[1;34m'v4'\u001b[0m\u001b[1;33m,\u001b[0m \u001b[0mcredentials\u001b[0m\u001b[1;33m=\u001b[0m\u001b[0mcreds\u001b[0m\u001b[1;33m)\u001b[0m\u001b[1;33m\u001b[0m\u001b[1;33m\u001b[0m\u001b[0m\n\u001b[0m\u001b[0;32m     21\u001b[0m \u001b[1;33m\u001b[0m\u001b[0m\n\u001b[0;32m     22\u001b[0m     \u001b[1;31m# Call the gmb v4 API\u001b[0m\u001b[1;33m\u001b[0m\u001b[1;33m\u001b[0m\u001b[1;33m\u001b[0m\u001b[0m\n",
      "\u001b[1;32m~\\anaconda3\\envs\\learn-env\\lib\\site-packages\\googleapiclient\\_helpers.py\u001b[0m in \u001b[0;36mpositional_wrapper\u001b[1;34m(*args, **kwargs)\u001b[0m\n\u001b[0;32m    132\u001b[0m                 \u001b[1;32melif\u001b[0m \u001b[0mpositional_parameters_enforcement\u001b[0m \u001b[1;33m==\u001b[0m \u001b[0mPOSITIONAL_WARNING\u001b[0m\u001b[1;33m:\u001b[0m\u001b[1;33m\u001b[0m\u001b[1;33m\u001b[0m\u001b[0m\n\u001b[0;32m    133\u001b[0m                     \u001b[0mlogger\u001b[0m\u001b[1;33m.\u001b[0m\u001b[0mwarning\u001b[0m\u001b[1;33m(\u001b[0m\u001b[0mmessage\u001b[0m\u001b[1;33m)\u001b[0m\u001b[1;33m\u001b[0m\u001b[1;33m\u001b[0m\u001b[0m\n\u001b[1;32m--> 134\u001b[1;33m             \u001b[1;32mreturn\u001b[0m \u001b[0mwrapped\u001b[0m\u001b[1;33m(\u001b[0m\u001b[1;33m*\u001b[0m\u001b[0margs\u001b[0m\u001b[1;33m,\u001b[0m \u001b[1;33m**\u001b[0m\u001b[0mkwargs\u001b[0m\u001b[1;33m)\u001b[0m\u001b[1;33m\u001b[0m\u001b[1;33m\u001b[0m\u001b[0m\n\u001b[0m\u001b[0;32m    135\u001b[0m \u001b[1;33m\u001b[0m\u001b[0m\n\u001b[0;32m    136\u001b[0m         \u001b[1;32mreturn\u001b[0m \u001b[0mpositional_wrapper\u001b[0m\u001b[1;33m\u001b[0m\u001b[1;33m\u001b[0m\u001b[0m\n",
      "\u001b[1;32m~\\anaconda3\\envs\\learn-env\\lib\\site-packages\\googleapiclient\\discovery.py\u001b[0m in \u001b[0;36mbuild\u001b[1;34m(serviceName, version, http, discoveryServiceUrl, developerKey, model, requestBuilder, credentials, cache_discovery, cache, client_options, adc_cert_path, adc_key_path, num_retries)\u001b[0m\n\u001b[0;32m    293\u001b[0m                 \u001b[1;32mcontinue\u001b[0m\u001b[1;33m\u001b[0m\u001b[1;33m\u001b[0m\u001b[0m\n\u001b[0;32m    294\u001b[0m             \u001b[1;32melse\u001b[0m\u001b[1;33m:\u001b[0m\u001b[1;33m\u001b[0m\u001b[1;33m\u001b[0m\u001b[0m\n\u001b[1;32m--> 295\u001b[1;33m                 \u001b[1;32mraise\u001b[0m \u001b[0me\u001b[0m\u001b[1;33m\u001b[0m\u001b[1;33m\u001b[0m\u001b[0m\n\u001b[0m\u001b[0;32m    296\u001b[0m \u001b[1;33m\u001b[0m\u001b[0m\n\u001b[0;32m    297\u001b[0m     \u001b[1;31m# If discovery_http was created by this function, we are done with it\u001b[0m\u001b[1;33m\u001b[0m\u001b[1;33m\u001b[0m\u001b[1;33m\u001b[0m\u001b[0m\n",
      "\u001b[1;32m~\\anaconda3\\envs\\learn-env\\lib\\site-packages\\googleapiclient\\discovery.py\u001b[0m in \u001b[0;36mbuild\u001b[1;34m(serviceName, version, http, discoveryServiceUrl, developerKey, model, requestBuilder, credentials, cache_discovery, cache, client_options, adc_cert_path, adc_key_path, num_retries)\u001b[0m\n\u001b[0;32m    274\u001b[0m                 \u001b[0mcache\u001b[0m\u001b[1;33m,\u001b[0m\u001b[1;33m\u001b[0m\u001b[1;33m\u001b[0m\u001b[0m\n\u001b[0;32m    275\u001b[0m                 \u001b[0mdeveloperKey\u001b[0m\u001b[1;33m,\u001b[0m\u001b[1;33m\u001b[0m\u001b[1;33m\u001b[0m\u001b[0m\n\u001b[1;32m--> 276\u001b[1;33m                 \u001b[0mnum_retries\u001b[0m\u001b[1;33m=\u001b[0m\u001b[0mnum_retries\u001b[0m\u001b[1;33m,\u001b[0m\u001b[1;33m\u001b[0m\u001b[1;33m\u001b[0m\u001b[0m\n\u001b[0m\u001b[0;32m    277\u001b[0m             )\n\u001b[0;32m    278\u001b[0m             service = build_from_document(\n",
      "\u001b[1;32m~\\anaconda3\\envs\\learn-env\\lib\\site-packages\\googleapiclient\\discovery.py\u001b[0m in \u001b[0;36m_retrieve_discovery_doc\u001b[1;34m(url, http, cache_discovery, cache, developerKey, num_retries)\u001b[0m\n\u001b[0;32m    374\u001b[0m     \u001b[1;31m# Note that it will already raise an error if we don't get a 2xx response\u001b[0m\u001b[1;33m\u001b[0m\u001b[1;33m\u001b[0m\u001b[1;33m\u001b[0m\u001b[0m\n\u001b[0;32m    375\u001b[0m     \u001b[0mreq\u001b[0m \u001b[1;33m=\u001b[0m \u001b[0mHttpRequest\u001b[0m\u001b[1;33m(\u001b[0m\u001b[0mhttp\u001b[0m\u001b[1;33m,\u001b[0m \u001b[0mHttpRequest\u001b[0m\u001b[1;33m.\u001b[0m\u001b[0mnull_postproc\u001b[0m\u001b[1;33m,\u001b[0m \u001b[0mactual_url\u001b[0m\u001b[1;33m)\u001b[0m\u001b[1;33m\u001b[0m\u001b[1;33m\u001b[0m\u001b[0m\n\u001b[1;32m--> 376\u001b[1;33m     \u001b[0mresp\u001b[0m\u001b[1;33m,\u001b[0m \u001b[0mcontent\u001b[0m \u001b[1;33m=\u001b[0m \u001b[0mreq\u001b[0m\u001b[1;33m.\u001b[0m\u001b[0mexecute\u001b[0m\u001b[1;33m(\u001b[0m\u001b[0mnum_retries\u001b[0m\u001b[1;33m=\u001b[0m\u001b[0mnum_retries\u001b[0m\u001b[1;33m)\u001b[0m\u001b[1;33m\u001b[0m\u001b[1;33m\u001b[0m\u001b[0m\n\u001b[0m\u001b[0;32m    377\u001b[0m \u001b[1;33m\u001b[0m\u001b[0m\n\u001b[0;32m    378\u001b[0m     \u001b[1;32mtry\u001b[0m\u001b[1;33m:\u001b[0m\u001b[1;33m\u001b[0m\u001b[1;33m\u001b[0m\u001b[0m\n",
      "\u001b[1;32m~\\anaconda3\\envs\\learn-env\\lib\\site-packages\\googleapiclient\\_helpers.py\u001b[0m in \u001b[0;36mpositional_wrapper\u001b[1;34m(*args, **kwargs)\u001b[0m\n\u001b[0;32m    132\u001b[0m                 \u001b[1;32melif\u001b[0m \u001b[0mpositional_parameters_enforcement\u001b[0m \u001b[1;33m==\u001b[0m \u001b[0mPOSITIONAL_WARNING\u001b[0m\u001b[1;33m:\u001b[0m\u001b[1;33m\u001b[0m\u001b[1;33m\u001b[0m\u001b[0m\n\u001b[0;32m    133\u001b[0m                     \u001b[0mlogger\u001b[0m\u001b[1;33m.\u001b[0m\u001b[0mwarning\u001b[0m\u001b[1;33m(\u001b[0m\u001b[0mmessage\u001b[0m\u001b[1;33m)\u001b[0m\u001b[1;33m\u001b[0m\u001b[1;33m\u001b[0m\u001b[0m\n\u001b[1;32m--> 134\u001b[1;33m             \u001b[1;32mreturn\u001b[0m \u001b[0mwrapped\u001b[0m\u001b[1;33m(\u001b[0m\u001b[1;33m*\u001b[0m\u001b[0margs\u001b[0m\u001b[1;33m,\u001b[0m \u001b[1;33m**\u001b[0m\u001b[0mkwargs\u001b[0m\u001b[1;33m)\u001b[0m\u001b[1;33m\u001b[0m\u001b[1;33m\u001b[0m\u001b[0m\n\u001b[0m\u001b[0;32m    135\u001b[0m \u001b[1;33m\u001b[0m\u001b[0m\n\u001b[0;32m    136\u001b[0m         \u001b[1;32mreturn\u001b[0m \u001b[0mpositional_wrapper\u001b[0m\u001b[1;33m\u001b[0m\u001b[1;33m\u001b[0m\u001b[0m\n",
      "\u001b[1;32m~\\anaconda3\\envs\\learn-env\\lib\\site-packages\\googleapiclient\\http.py\u001b[0m in \u001b[0;36mexecute\u001b[1;34m(self, http, num_retries)\u001b[0m\n\u001b[0;32m    905\u001b[0m             \u001b[0mcallback\u001b[0m\u001b[1;33m(\u001b[0m\u001b[0mresp\u001b[0m\u001b[1;33m)\u001b[0m\u001b[1;33m\u001b[0m\u001b[1;33m\u001b[0m\u001b[0m\n\u001b[0;32m    906\u001b[0m         \u001b[1;32mif\u001b[0m \u001b[0mresp\u001b[0m\u001b[1;33m.\u001b[0m\u001b[0mstatus\u001b[0m \u001b[1;33m>=\u001b[0m \u001b[1;36m300\u001b[0m\u001b[1;33m:\u001b[0m\u001b[1;33m\u001b[0m\u001b[1;33m\u001b[0m\u001b[0m\n\u001b[1;32m--> 907\u001b[1;33m             \u001b[1;32mraise\u001b[0m \u001b[0mHttpError\u001b[0m\u001b[1;33m(\u001b[0m\u001b[0mresp\u001b[0m\u001b[1;33m,\u001b[0m \u001b[0mcontent\u001b[0m\u001b[1;33m,\u001b[0m \u001b[0muri\u001b[0m\u001b[1;33m=\u001b[0m\u001b[0mself\u001b[0m\u001b[1;33m.\u001b[0m\u001b[0muri\u001b[0m\u001b[1;33m)\u001b[0m\u001b[1;33m\u001b[0m\u001b[1;33m\u001b[0m\u001b[0m\n\u001b[0m\u001b[0;32m    908\u001b[0m         \u001b[1;32mreturn\u001b[0m \u001b[0mself\u001b[0m\u001b[1;33m.\u001b[0m\u001b[0mpostproc\u001b[0m\u001b[1;33m(\u001b[0m\u001b[0mresp\u001b[0m\u001b[1;33m,\u001b[0m \u001b[0mcontent\u001b[0m\u001b[1;33m)\u001b[0m\u001b[1;33m\u001b[0m\u001b[1;33m\u001b[0m\u001b[0m\n\u001b[0;32m    909\u001b[0m \u001b[1;33m\u001b[0m\u001b[0m\n",
      "\u001b[1;31mHttpError\u001b[0m: <HttpError 403 when requesting https://mybusiness.googleapis.com/$discovery/rest?version=v4 returned \"The request is missing a valid API key.\">"
     ]
    }
   ],
   "source": [
    "creds = None\n",
    "# The file token.pickle stores the user's access and refresh tokens, and is\n",
    "# created automatically when the authorization flow completes for the first\n",
    "# time.\n",
    "if os.path.exists('token.pickle'):\n",
    "    with open('token.pickle') as token:\n",
    "        creds = pickle.load(token)\n",
    "# If there are no (valid) credentials available, let the user log in.\n",
    "if not creds or not creds.valid:\n",
    "    if creds and creds.expired and creds.refresh_token:\n",
    "        creds.refresh(Request())\n",
    "    else:\n",
    "        flow = InstalledAppFlow.from_client_secrets_file(\n",
    "                'credentials.json', SCOPES)\n",
    "        creds=flow.run_local_server(port=0)\n",
    "        # Save the credentials for the next run\n",
    "        with open('token.pickle', 'wb') as token:\n",
    "            pickle.dump(creds, token)\n",
    "    \n",
    "    service = build('mybusiness', 'v4', credentials=creds)\n",
    "    \n",
    "    # Call the gmb v4 API\n",
    "    results = f'https://mybusiness.googleapis.com/v4/accounts/{accountId}/locations/{locationId}/reviews?pageSize=50'\n",
    "    \n",
    "    if not results:\n",
    "        print('No files found.')\n",
    "    else:\n",
    "        print(results.txt)"
   ]
  },
  {
   "cell_type": "markdown",
   "metadata": {},
   "source": [
    "## Accessing Data with google Auth 2.0 Playground:"
   ]
  },
  {
   "cell_type": "code",
   "execution_count": 67,
   "metadata": {},
   "outputs": [
    {
     "ename": "SyntaxError",
     "evalue": "EOL while scanning string literal (<ipython-input-67-bf47162d4779>, line 2)",
     "output_type": "error",
     "traceback": [
      "\u001b[1;36m  File \u001b[1;32m\"<ipython-input-67-bf47162d4779>\"\u001b[1;36m, line \u001b[1;32m2\u001b[0m\n\u001b[1;33m    URI = f'https://mybusiness.googleapis.com/v4/accounts/\u001b[0m\n\u001b[1;37m                                                          ^\u001b[0m\n\u001b[1;31mSyntaxError\u001b[0m\u001b[1;31m:\u001b[0m EOL while scanning string literal\n"
     ]
    }
   ],
   "source": [
    "# Cell missing data intentionally\n",
    "URI = f'https://mybusiness.googleapis.com/v4/accounts/\n",
    "r = requests.get(URI, headers=headers)\n",
    "\n",
    "r.status_code"
   ]
  },
  {
   "cell_type": "code",
   "execution_count": 18,
   "metadata": {},
   "outputs": [
    {
     "data": {
      "text/plain": [
       "200"
      ]
     },
     "execution_count": 18,
     "metadata": {},
     "output_type": "execute_result"
    }
   ],
   "source": [
    "result = r.json()\n",
    "result"
   ]
  },
  {
   "cell_type": "code",
   "execution_count": 20,
   "metadata": {},
   "outputs": [],
   "source": [
    "df1 = pd.DataFrame(result['reviews'])"
   ]
  },
  {
   "cell_type": "code",
   "execution_count": 28,
   "metadata": {},
   "outputs": [],
   "source": [
    "# Cell missing data intentionally\n",
    "\n",
    "headers = {'Authorization': ''\n",
    "}\n",
    "URI = f'https://mybusiness.googleapis.com/v4/accounts//locations//reviews?pageToken={result['pageToken']}'\n",
    "r = requests.get(URI, headers=headers)\n",
    "r.status_code\n",
    "\n"
   ]
  },
  {
   "cell_type": "code",
   "execution_count": 26,
   "metadata": {
    "collapsed": true,
    "jupyter": {
     "outputs_hidden": true
    }
   },
   "outputs": [
    {
     "data": {
      "text/plain": [
       "dict_values([[{'reviewId': 'AIe9_BFL0OZrFaHgoJtqifT1GHrIjTXWiSjNZvpGing97-GDAxtJvDNRbUSQLn4ZSTVR2DNPr2TOPoboeY0D1u-Lqan91Ay56s1F3XfQk6oHoVyYXZ3NhPM', 'reviewer': {'profilePhotoUrl': 'https://lh3.googleusercontent.com/-LUL_U6xRumk/AAAAAAAAAAI/AAAAAAAAAAA/AMZuuclP9hlLc8Khjg29XWthHiU9HvrvUQ/c0x00000000-cc-rp/photo.jpg', 'displayName': 'Loren Jordan'}, 'starRating': 'FIVE', 'comment': 'Fantastic coffee but been closed since covid.  Rumour is they won the lotto and retired in Caribbean.', 'createTime': '2020-09-13T19:30:58.215Z', 'updateTime': '2020-09-13T19:30:58.215Z', 'name': 'accounts/103081671806813149550/locations/10162385833102214158/reviews/AIe9_BFL0OZrFaHgoJtqifT1GHrIjTXWiSjNZvpGing97-GDAxtJvDNRbUSQLn4ZSTVR2DNPr2TOPoboeY0D1u-Lqan91Ay56s1F3XfQk6oHoVyYXZ3NhPM'}, {'reviewId': 'AIe9_BH-Y7Lwr6IxuH7aUb2G6RG2IMPCd3mi-DY1Ws9ehxhvsoXE0sr4ArxXiawM4WK33wstlK86AoNXPDACKB2WSQEyOo8rSIOHvoZYeVlPt0mcqXbRB_g', 'reviewer': {'profilePhotoUrl': 'https://lh3.googleusercontent.com/a-/AOh14GikMkHtFBSUdr3hkrUf6GLF0KtY-bsMOFDbrBReHg=c0x00000000-cc-rp', 'displayName': 'Tom Bridge'}, 'starRating': 'FIVE', 'comment': 'Really good coffee. Very passionate about what they do.', 'createTime': '2020-09-10T21:06:15.054Z', 'updateTime': '2020-09-10T21:06:15.054Z', 'name': 'accounts/103081671806813149550/locations/10162385833102214158/reviews/AIe9_BH-Y7Lwr6IxuH7aUb2G6RG2IMPCd3mi-DY1Ws9ehxhvsoXE0sr4ArxXiawM4WK33wstlK86AoNXPDACKB2WSQEyOo8rSIOHvoZYeVlPt0mcqXbRB_g'}, {'reviewId': 'AIe9_BGErQpX2pRNZrXBy5NOsH0eCtyW3yibiPBG4weYMP1ri4sBHwriGroq6dhqbR1gz6D-Zhi3kbMxgHSw5T7gbCgyXhAdEMbAnwmoNFrpQWyPQ44iN-I', 'reviewer': {'profilePhotoUrl': 'https://lh3.googleusercontent.com/a-/AOh14Gh49ctHJFMWbHG5CDy-kV_zuvXB1l1Ri9w-Eup40_I=c0x00000000-cc-rp-ba3', 'displayName': 'Amrik Bhogal'}, 'starRating': 'FIVE', 'comment': 'Lovely place to relax and have a coffee. They really know their stuff when it comes to coffee and the food delicacies have really been thought about. Makes a change from the large coffee chains full of laptops and generic food, this is where you find quality coffee with a nice environment to relax!', 'createTime': '2020-08-20T07:42:04.657Z', 'updateTime': '2020-08-20T07:42:04.657Z', 'name': 'accounts/103081671806813149550/locations/10162385833102214158/reviews/AIe9_BGErQpX2pRNZrXBy5NOsH0eCtyW3yibiPBG4weYMP1ri4sBHwriGroq6dhqbR1gz6D-Zhi3kbMxgHSw5T7gbCgyXhAdEMbAnwmoNFrpQWyPQ44iN-I'}, {'reviewId': 'AIe9_BGErQpX2pRNZrXBy5NOsH0eDADH6rBJaxaNqCKygzY5qaYWyFVViM8HXFAQca2iTsg7wvPUKp_OkQTHEpgjoe3QwPuuqm3nJZBR-AFGF4-IuiNVs5o', 'reviewer': {'profilePhotoUrl': 'https://lh3.googleusercontent.com/a-/AOh14GiKQ1OWhOcor6yVvbX1a1IPzMlUGzfoUPsTGcSuGg=c0x00000000-cc-rp', 'displayName': 'Paul Shulver'}, 'starRating': 'FIVE', 'comment': 'Staff are some of the most interesting and friendly people you could ever hope to meet. Great place to spend an afternoon.', 'createTime': '2020-08-17T18:23:04.249Z', 'updateTime': '2020-08-17T18:23:04.249Z', 'name': 'accounts/103081671806813149550/locations/10162385833102214158/reviews/AIe9_BGErQpX2pRNZrXBy5NOsH0eDADH6rBJaxaNqCKygzY5qaYWyFVViM8HXFAQca2iTsg7wvPUKp_OkQTHEpgjoe3QwPuuqm3nJZBR-AFGF4-IuiNVs5o'}, {'reviewId': 'AIe9_BHAFUK2tNBZL25dLQ0jVdh0N0OM7D0pqpTx4hEPEOmFKBF8LM05IqfxpkYnTaQmS-5791oAFKPesebFHNgo_dAabd9C_iFwqV9XT2lgYUJwR1UfwZc', 'reviewer': {'profilePhotoUrl': 'https://lh3.googleusercontent.com/a-/AOh14GhskmXbuYbmUranWv-NPKbo5cRrqEDyek7ur47QkQ=c0x00000000-cc-rp', 'displayName': 'Patricia K'}, 'starRating': 'FIVE', 'comment': 'Absolutely love this place! The staff is great and the coffee and snacks are fantastic. Definitely one of my favourite places to get a caffeine fix.', 'createTime': '2020-08-16T11:12:35.362Z', 'updateTime': '2020-08-16T11:12:35.362Z', 'name': 'accounts/103081671806813149550/locations/10162385833102214158/reviews/AIe9_BHAFUK2tNBZL25dLQ0jVdh0N0OM7D0pqpTx4hEPEOmFKBF8LM05IqfxpkYnTaQmS-5791oAFKPesebFHNgo_dAabd9C_iFwqV9XT2lgYUJwR1UfwZc'}, {'reviewId': 'AIe9_BGZuRKHeO1iYrcf4B001kE2gQtz4dKyofMy2A_JLpdAYP2KO8_mAGc28zusaPBFyyF7YYLo8kaDiqF06OwQeiN_-bBIy8gug7R5eJ7s2JkLWjJtlZY', 'reviewer': {'profilePhotoUrl': 'https://lh3.googleusercontent.com/-8dRwiLvQFSA/AAAAAAAAAAI/AAAAAAAAAAA/AMZuucltuvZTJMmLz0vtV55I7WjxhwOAZQ/c0x00000000-cc-rp/photo.jpg', 'displayName': 'RJ1185 RJ1185'}, 'starRating': 'FIVE', 'comment': 'Great coffee, great food, and great staff!\\n\\nNow great coffee to make at home from their excellent roastery!', 'createTime': '2020-08-15T09:55:07.941Z', 'updateTime': '2020-08-15T09:55:07.941Z', 'name': 'accounts/103081671806813149550/locations/10162385833102214158/reviews/AIe9_BGZuRKHeO1iYrcf4B001kE2gQtz4dKyofMy2A_JLpdAYP2KO8_mAGc28zusaPBFyyF7YYLo8kaDiqF06OwQeiN_-bBIy8gug7R5eJ7s2JkLWjJtlZY'}, {'reviewId': 'AIe9_BFl89CEg3-ah5_8iIgQFwgZsLZiE3BXR9kcrmMxt_ROwWapojyaavvR4f1kkLmsXaz-Zyha5Ymu-bMC_h_y8_mo5v8zY3tsxJpbNIUJEx1xjlDnO8o', 'reviewer': {'profilePhotoUrl': 'https://lh4.googleusercontent.com/-khO1jHIRnO0/AAAAAAAAAAI/AAAAAAAAAAA/AMZuuckZxtpLgtmhbKuHet4tFD12kEgyww/c0x00000000-cc-rp/photo.jpg', 'displayName': 'Tessa Vale'}, 'starRating': 'FIVE', 'comment': 'This is a great little place...serving their own delicious coffee microbrewed locally.Four different delicious roasts.Lovely selection of sandwiches,a daily salad,baked goods,muffins and cake.Lovely owners Louis and Nat.Highly recommend.', 'createTime': '2020-08-13T12:34:31.662Z', 'updateTime': '2020-08-13T12:34:31.662Z', 'name': 'accounts/103081671806813149550/locations/10162385833102214158/reviews/AIe9_BFl89CEg3-ah5_8iIgQFwgZsLZiE3BXR9kcrmMxt_ROwWapojyaavvR4f1kkLmsXaz-Zyha5Ymu-bMC_h_y8_mo5v8zY3tsxJpbNIUJEx1xjlDnO8o'}, {'reviewId': 'AIe9_BFmRFRFwJGRfUDOW8jG3rXnPB4v95-5-bfvwhvt_lM2-GBNWQDZc3G5nCPGU2FSE5yUpTqJ67VQAgh-4MH7jYv-0Nw3Og_vyaPCdcpZfLS9TcZbVbw', 'reviewer': {'profilePhotoUrl': 'https://lh3.googleusercontent.com/a-/AOh14GgFU2pl87SRF7ODqLX-itUkPgn0IiRUnPOMzlBxMA=c0x00000000-cc-rp-ba2', 'displayName': 'Taylor Stewart'}, 'starRating': 'FIVE', 'createTime': '2020-08-13T07:09:08.504Z', 'updateTime': '2020-08-13T07:09:08.504Z', 'name': 'accounts/103081671806813149550/locations/10162385833102214158/reviews/AIe9_BFmRFRFwJGRfUDOW8jG3rXnPB4v95-5-bfvwhvt_lM2-GBNWQDZc3G5nCPGU2FSE5yUpTqJ67VQAgh-4MH7jYv-0Nw3Og_vyaPCdcpZfLS9TcZbVbw'}, {'reviewId': 'AIe9_BFu3rdicGrPrzdyu4PDXmqMFbSaR4Ai73crJx8GY1ktZecPAyp-JnXVTDW5--huAjxS_ZOSn8pp0I6FUt_2WPETS_P5qAuCuH7bPKZFyIDwRYtBdhM', 'reviewer': {'profilePhotoUrl': 'https://lh3.googleusercontent.com/a-/AOh14GjWEyelPa_cdghC2q1-fxhgtijhNKrHsvwifS2sxLo=c0x00000000-cc-rp', 'displayName': 'David Shackleton'}, 'starRating': 'FIVE', 'createTime': '2020-03-17T14:56:49.862Z', 'updateTime': '2020-03-17T14:56:49.862Z', 'name': 'accounts/103081671806813149550/locations/10162385833102214158/reviews/AIe9_BFu3rdicGrPrzdyu4PDXmqMFbSaR4Ai73crJx8GY1ktZecPAyp-JnXVTDW5--huAjxS_ZOSn8pp0I6FUt_2WPETS_P5qAuCuH7bPKZFyIDwRYtBdhM'}, {'reviewId': 'AIe9_BH3gZxYpIxBZcqAOO5HuBVkBpS_g83s5SbBIKQLCZrmCLBRWssAmaRMqr83zpWrh1YjKx8mPF7YyD60lYP4LJFjchIcB49L5PPvd4OGP6hkd2bgTYk', 'reviewer': {'profilePhotoUrl': 'https://lh3.googleusercontent.com/a-/AOh14Gja46vUKwkkODGh8MRcbNyKN_J6dAEsjjbDFFrW-jI=c0x00000000-cc-rp-ba3', 'displayName': 'Rowan Gillette-Fussell'}, 'starRating': 'FIVE', 'comment': 'Great drinks and staff.', 'createTime': '2020-03-16T12:44:23.200Z', 'updateTime': '2020-03-16T12:44:23.200Z', 'name': 'accounts/103081671806813149550/locations/10162385833102214158/reviews/AIe9_BH3gZxYpIxBZcqAOO5HuBVkBpS_g83s5SbBIKQLCZrmCLBRWssAmaRMqr83zpWrh1YjKx8mPF7YyD60lYP4LJFjchIcB49L5PPvd4OGP6hkd2bgTYk'}, {'reviewId': 'AIe9_BGTHfLB7ZAtvlQmidaL-PvDHq53yh44XfP7uHJGmXeCtiMx-e-J_jkWOOvoZ_Z1M5QC56pZcJoZkz2luH4fi5tjuFyjDWyqpW5rEtUe5YXkdnC-HDo', 'reviewer': {'profilePhotoUrl': 'https://lh3.googleusercontent.com/a-/AOh14GjOWdK1B6fy3hpcMlrfwyM6EpAxBxwIMYxZg_w2=c0x00000000-cc-rp', 'displayName': 'Anne Maningas'}, 'starRating': 'FIVE', 'comment': \"Amazing coffee and amazing staff, with dairy-free options available. The coffee shop has a great chilled-out vibe too. Some lovely cakes and treats available too with a fair few options for those with dietary requests/allergies. Conveniently located over the road from Northfields Station too (and directly next to the Ealing-bound E2/E3 bus stop), so there really is no excuse to skip this place if you're after decent coffee.\\n\\nUpdate 13/03/2020: The shop continues to go from strength to strength. One year since opening and the range of fresh food and coffee has greatly expanded and Nat and Louis have done great things with the shop, such as opening a little stand selling curated items, coffee, CBD products and small gifts. Nothing has changed in terms of the relaxed and friendly atmosphere, and I hope this place stays a good while yet.\", 'createTime': '2020-03-13T15:48:24.418Z', 'updateTime': '2020-03-13T15:48:24.418Z', 'name': 'accounts/103081671806813149550/locations/10162385833102214158/reviews/AIe9_BGTHfLB7ZAtvlQmidaL-PvDHq53yh44XfP7uHJGmXeCtiMx-e-J_jkWOOvoZ_Z1M5QC56pZcJoZkz2luH4fi5tjuFyjDWyqpW5rEtUe5YXkdnC-HDo'}, {'reviewId': 'AIe9_BG84YPnR8vhxeJfV_lAYVNiEmeaIZWd6Q6QZVlRkexJqiMPzyTaYRWb9I76xa__zrdiCNVdAsryPF33zarPuUviMUPCPYlhkliPzoNG38IZNcwcUbM', 'reviewer': {'profilePhotoUrl': 'https://lh3.googleusercontent.com/-fYiMgABlWlU/AAAAAAAAAAI/AAAAAAAAAAA/AMZuucnVAuKOf8G2C5vikZJFbPKnTmXZ8w/c0x00000000-cc-rp/photo.jpg', 'displayName': 'Elizabeth S'}, 'starRating': 'ONE', 'comment': 'The worst, most overpriced coffee in Ealing.', 'createTime': '2020-03-04T09:06:30.695Z', 'updateTime': '2020-03-04T09:06:30.695Z', 'reviewReply': {'comment': \"Hi Elizabeth, we're sorry to hear you feel this way. We believe our prices reflect our quality, and our mission to support a responsible and ethical coffee trade.\\nFeel free to pop in or send us a message so we can find out exactly what went wrong.\", 'updateTime': '2020-03-09T17:31:27.638Z'}, 'name': 'accounts/103081671806813149550/locations/10162385833102214158/reviews/AIe9_BG84YPnR8vhxeJfV_lAYVNiEmeaIZWd6Q6QZVlRkexJqiMPzyTaYRWb9I76xa__zrdiCNVdAsryPF33zarPuUviMUPCPYlhkliPzoNG38IZNcwcUbM'}, {'reviewId': 'AIe9_BEHZ7lh7y1sP-UInhkpmlIpZaqZeOu9kLwTGKWIxD8G_R9ZMuqvPDtddk6ZnHaroBjBY25wCRjs158Xyonp24goSnoKM90tOUd8jU6gCSpZjUiZ_rg', 'reviewer': {'profilePhotoUrl': 'https://lh3.googleusercontent.com/a-/AOh14GhpL-x576_5Vj6HHTLZ3t2D0MAnSLWWMbCBHKWNTYc=c0x00000000-cc-rp-ba4', 'displayName': 'Riccardo Novaglia'}, 'starRating': 'FIVE', 'createTime': '2020-02-29T14:33:25.269Z', 'updateTime': '2020-02-29T14:33:25.269Z', 'name': 'accounts/103081671806813149550/locations/10162385833102214158/reviews/AIe9_BEHZ7lh7y1sP-UInhkpmlIpZaqZeOu9kLwTGKWIxD8G_R9ZMuqvPDtddk6ZnHaroBjBY25wCRjs158Xyonp24goSnoKM90tOUd8jU6gCSpZjUiZ_rg'}, {'reviewId': 'AIe9_BHVBnWjBJvk55vq2QEm0wl-h__0Vn8o7zllA-2f3N1ehcTG6YqSdKvf28rIdS6cHw74J5bXxNbdaG46VPE-Za3Od5JE6KnTgnWWIjlJXsNibHU_2Yo', 'reviewer': {'profilePhotoUrl': 'https://lh3.googleusercontent.com/a-/AOh14Giu5RKXr4qrln42wGNfiRMlelhUhenFEnuXh0JtBA=c0x00000000-cc-rp', 'displayName': 'Patrycja S'}, 'starRating': 'FIVE', 'comment': 'On my walk, I have noticed that little cafe. A really cosy place and delicious coffee. I’ll definitely come back to that place to have something to eat.', 'createTime': '2020-02-24T17:22:41.625Z', 'updateTime': '2020-02-24T17:22:41.625Z', 'name': 'accounts/103081671806813149550/locations/10162385833102214158/reviews/AIe9_BHVBnWjBJvk55vq2QEm0wl-h__0Vn8o7zllA-2f3N1ehcTG6YqSdKvf28rIdS6cHw74J5bXxNbdaG46VPE-Za3Od5JE6KnTgnWWIjlJXsNibHU_2Yo'}, {'reviewId': 'AIe9_BHVBnWjBJvk55vq2QEm0wl-UpAMLeAlIqqdnqd5T4kizxxoZ1zVeNQVwLRUfNLlB86oeL1YxvR_q-8NNJXDXlRnbXZM4i6S2slW70WDxUmQljSlyY0', 'reviewer': {'profilePhotoUrl': 'https://lh6.googleusercontent.com/-Av0g9ZzhlVk/AAAAAAAAAAI/AAAAAAAAAAA/AMZuuclgtWmhBzGrtxu1MWOpINaEJ6YgWw/c0x00000000-cc-rp-ba3/photo.jpg', 'displayName': 'Justin Rodger'}, 'starRating': 'FIVE', 'comment': 'Best cafe in Northfields. Few peers in Ealing. The staff are brilliant. In Michelan stars terms, it is worth a detour.', 'createTime': '2020-02-23T16:04:28.885Z', 'updateTime': '2020-02-23T16:04:28.885Z', 'name': 'accounts/103081671806813149550/locations/10162385833102214158/reviews/AIe9_BHVBnWjBJvk55vq2QEm0wl-UpAMLeAlIqqdnqd5T4kizxxoZ1zVeNQVwLRUfNLlB86oeL1YxvR_q-8NNJXDXlRnbXZM4i6S2slW70WDxUmQljSlyY0'}, {'reviewId': 'AIe9_BHkHJRvhG8n5BjqdcMSKR_FP1h2Knr_VsERtpBu6pWAr8fSzWTfuH6qd2S301woK_518kWea5mNwynVdNKXQ-Ctf7fOw5iGTcsGUjqTnZZCjZFvtmQ', 'reviewer': {'profilePhotoUrl': 'https://lh3.googleusercontent.com/a-/AOh14Ggx5hmtBMSyuR0T5FBd16onux-Se93W6iwvhKuQhsE=c0x00000000-cc-rp-ba5', 'displayName': 'Rosalind Alexander'}, 'starRating': 'FIVE', 'comment': 'Lovely cafe, tasty coffee and snacks.', 'createTime': '2020-02-23T14:57:56.039Z', 'updateTime': '2020-02-23T14:57:56.039Z', 'name': 'accounts/103081671806813149550/locations/10162385833102214158/reviews/AIe9_BHkHJRvhG8n5BjqdcMSKR_FP1h2Knr_VsERtpBu6pWAr8fSzWTfuH6qd2S301woK_518kWea5mNwynVdNKXQ-Ctf7fOw5iGTcsGUjqTnZZCjZFvtmQ'}, {'reviewId': 'AIe9_BHR7p0hPy1flx1br0TYdEUB-KlA43EnAY29z2HXYP_nVyfg9e1RinCYGDHe0-h4mcSLH1-edadI0gWJ6ihzAcoUfQ-LQnP1tWP5Zru1LrT40W7HqRQ', 'reviewer': {'profilePhotoUrl': 'https://lh3.googleusercontent.com/a-/AOh14GhQjG-6gOvQ65wHTqkjA-TCVBP0okB-ITYtZ0QNxA=c0x00000000-cc-rp-ba4', 'displayName': 'O A'}, 'starRating': 'FIVE', 'comment': 'A neighborhood gem, the coffee is great and the staff are extremely friendly. The best local cafe.', 'createTime': '2020-02-18T00:15:49.224Z', 'updateTime': '2020-02-18T00:15:49.224Z', 'name': 'accounts/103081671806813149550/locations/10162385833102214158/reviews/AIe9_BHR7p0hPy1flx1br0TYdEUB-KlA43EnAY29z2HXYP_nVyfg9e1RinCYGDHe0-h4mcSLH1-edadI0gWJ6ihzAcoUfQ-LQnP1tWP5Zru1LrT40W7HqRQ'}, {'reviewId': 'AIe9_BHZM2k_MpOhRgkb8w5Bn_ur_ZDqKDMdl-d-fZjiNlkJdmTgOXaeSYEfAk_k1yN1-QPGJi7zPtrAUdMUUW3pVK_l4HVn_bMM15RNK0JcujdrhJkcq7A', 'reviewer': {'profilePhotoUrl': 'https://lh3.googleusercontent.com/a-/AOh14GiSs7wfmel6aWyvn6-1TuizJQ0gqRRnbetWkH2jCw=c0x00000000-cc-rp', 'displayName': 'KeshaX'}, 'starRating': 'FIVE', 'comment': \"This place is amazing. The staff are always friendly and welcoming. The coffee is always fresh and delicious, and there's always a tasty variety of teas as well as desserts and savoury food (vegan and other wise!).\\nIt's a great cosy venue on a winter rainy day, but also lovely in the summer when you can sit outside and pet the local dogs that walk by ❤️🐶\\nHighly recommend!\", 'createTime': '2020-02-14T15:34:14.215Z', 'updateTime': '2020-02-14T15:34:14.215Z', 'name': 'accounts/103081671806813149550/locations/10162385833102214158/reviews/AIe9_BHZM2k_MpOhRgkb8w5Bn_ur_ZDqKDMdl-d-fZjiNlkJdmTgOXaeSYEfAk_k1yN1-QPGJi7zPtrAUdMUUW3pVK_l4HVn_bMM15RNK0JcujdrhJkcq7A'}, {'reviewId': 'AIe9_BGvUJd9etQojwpjZIMsiFneMsvLFF6ZLgZZI3sCoP6Z8RCXsCcF3Yuf_xvwoAN7iHC2PlIeOmXCU4PZcYxfn_Q6Lo3ElRXZs547HyV8qPs3glzjEYE', 'reviewer': {'profilePhotoUrl': 'https://lh6.googleusercontent.com/-oBabTgTGc2o/AAAAAAAAAAI/AAAAAAAAAAA/AMZuuclAxXrGd3GN0rRefAilRopdKzQ3ow/c0x00000000-cc-rp/photo.jpg', 'displayName': 'Soori boori'}, 'starRating': 'FIVE', 'comment': 'Best coffee , nice little place and friendly owners', 'createTime': '2020-02-14T15:02:35.863Z', 'updateTime': '2020-02-14T15:02:35.863Z', 'name': 'accounts/103081671806813149550/locations/10162385833102214158/reviews/AIe9_BGvUJd9etQojwpjZIMsiFneMsvLFF6ZLgZZI3sCoP6Z8RCXsCcF3Yuf_xvwoAN7iHC2PlIeOmXCU4PZcYxfn_Q6Lo3ElRXZs547HyV8qPs3glzjEYE'}, {'reviewId': 'AIe9_BGlY-BaOO_aND3JZqxJBS1R2bC53HXZXtxKr8ogXjEQ20jDkS1EhDNjfsDX2UHZTcq0iM05Zeety5pzuidTGAtE7mBan8t-nbqbysc4xpBxabjUd9Y', 'reviewer': {'profilePhotoUrl': 'https://lh6.googleusercontent.com/-IOGL_FW2e3U/AAAAAAAAAAI/AAAAAAAAAAA/AMZuucmwI9aVzHbDD8BMcug1qgUsj8c_6g/c0x00000000-cc-rp/photo.jpg', 'displayName': 'Saipriya Ramji'}, 'starRating': 'FIVE', 'comment': 'Great coffee.', 'createTime': '2020-01-28T18:07:36.509Z', 'updateTime': '2020-01-28T18:07:36.509Z', 'name': 'accounts/103081671806813149550/locations/10162385833102214158/reviews/AIe9_BGlY-BaOO_aND3JZqxJBS1R2bC53HXZXtxKr8ogXjEQ20jDkS1EhDNjfsDX2UHZTcq0iM05Zeety5pzuidTGAtE7mBan8t-nbqbysc4xpBxabjUd9Y'}, {'reviewId': 'AIe9_BEV1VP1woYvuPRixSBHlWg47S7sSYkEKZ4SL1KY7_wy22G5gt4Wiw2JVIRFZy0x08DGj2yE9pYeJpiQLHu4VniUMccene-eZf6s4dgXqwFx2Oj0B9Q', 'reviewer': {'profilePhotoUrl': 'https://lh4.googleusercontent.com/-1Au84PEWdGg/AAAAAAAAAAI/AAAAAAAAAAA/AMZuucmt8RHNC2wNea0zNguJv7_41VPVfw/c0x00000000-cc-rp-ba4/photo.jpg', 'displayName': 'daniel tabandjov'}, 'starRating': 'FOUR', 'createTime': '2020-01-25T01:19:08.904Z', 'updateTime': '2020-01-25T01:19:08.904Z', 'name': 'accounts/103081671806813149550/locations/10162385833102214158/reviews/AIe9_BEV1VP1woYvuPRixSBHlWg47S7sSYkEKZ4SL1KY7_wy22G5gt4Wiw2JVIRFZy0x08DGj2yE9pYeJpiQLHu4VniUMccene-eZf6s4dgXqwFx2Oj0B9Q'}, {'reviewId': 'AIe9_BGIy_plKfaZrItPyyQZNLvs_XjZnYeVrtlOx6K-JlGrGyXN4NeZrgnmiMXG3X2tRUop86QLb6PU4B3S3Zs95lGg8NdesVF-7ziv7QreDluVSMntZ7c', 'reviewer': {'profilePhotoUrl': 'https://lh3.googleusercontent.com/a-/AOh14GiuBLTbn-GdyXna6-HKxznOQVxos3c5hnB5aObDmA=c0x00000000-cc-rp', 'displayName': 'Pen Ken'}, 'starRating': 'FIVE', 'createTime': '2020-01-21T15:13:09.182Z', 'updateTime': '2020-01-21T15:13:09.182Z', 'name': 'accounts/103081671806813149550/locations/10162385833102214158/reviews/AIe9_BGIy_plKfaZrItPyyQZNLvs_XjZnYeVrtlOx6K-JlGrGyXN4NeZrgnmiMXG3X2tRUop86QLb6PU4B3S3Zs95lGg8NdesVF-7ziv7QreDluVSMntZ7c'}, {'reviewId': 'AIe9_BH-Y7Lwr6IxuH7aUb2G6RG2RSnYELdi8Espdoq-RrYKcJUfbFrQUArXCCdq0Vp7m8QcAUOQgfqB5kXaqSs5efQWu969mMhfdxegIPXSmIH0kxAfs0U', 'reviewer': {'profilePhotoUrl': 'https://lh3.googleusercontent.com/-Noa9wVVxmb0/AAAAAAAAAAI/AAAAAAAAAAA/AMZuucnrHbN6nnWzH6CtjYCbm12Pzto4CQ/c0x00000000-cc-rp/photo.jpg', 'displayName': 'niall finucane'}, 'starRating': 'FOUR', 'comment': 'New place, good coffee, food enjoyable', 'createTime': '2020-01-15T15:02:23.182Z', 'updateTime': '2020-01-15T15:02:23.182Z', 'name': 'accounts/103081671806813149550/locations/10162385833102214158/reviews/AIe9_BH-Y7Lwr6IxuH7aUb2G6RG2RSnYELdi8Espdoq-RrYKcJUfbFrQUArXCCdq0Vp7m8QcAUOQgfqB5kXaqSs5efQWu969mMhfdxegIPXSmIH0kxAfs0U'}, {'reviewId': 'AIe9_BF8X4EpR_fF6mwcYdso9awgnLofWnOF_L9-37k5oPCRpx9vVeW3ACUW9DzPSzU0bEoHAyaBE-IV2aqlYXGO0o8kAeMdb9OU8pwzHDWEkMuWKuCpqsk', 'reviewer': {'profilePhotoUrl': 'https://lh4.googleusercontent.com/-SrUTPS7JdnE/AAAAAAAAAAI/AAAAAAAAAAA/AMZuuck3btJgrEuD59fcptXZyO25LnqaWw/c0x00000000-cc-rp/photo.jpg', 'displayName': 'Anna Barras'}, 'starRating': 'FIVE', 'createTime': '2020-01-04T11:18:44.929Z', 'updateTime': '2020-01-04T11:18:44.929Z', 'name': 'accounts/103081671806813149550/locations/10162385833102214158/reviews/AIe9_BF8X4EpR_fF6mwcYdso9awgnLofWnOF_L9-37k5oPCRpx9vVeW3ACUW9DzPSzU0bEoHAyaBE-IV2aqlYXGO0o8kAeMdb9OU8pwzHDWEkMuWKuCpqsk'}, {'reviewId': 'AIe9_BFLWlqwz3qGBnCfbAsLD0lVynz6T23rCcYHQ0RQb7bXGfOgeko8VHdDjNJARi2inrEMAsOYEQHF-qPyZiAkUPYSYS_tsXOlupGA1Nqocdlu1HJOtnU', 'reviewer': {'profilePhotoUrl': 'https://lh3.googleusercontent.com/a-/AOh14GhBhxqTtfNU9YQW-nLhOAOMBdciC0cjGD8i8W9PJg=c0x00000000-cc-rp-ba2', 'displayName': 'Sergey Bartunov'}, 'starRating': 'FIVE', 'createTime': '2019-12-26T10:45:45.936Z', 'updateTime': '2019-12-26T10:45:45.936Z', 'name': 'accounts/103081671806813149550/locations/10162385833102214158/reviews/AIe9_BFLWlqwz3qGBnCfbAsLD0lVynz6T23rCcYHQ0RQb7bXGfOgeko8VHdDjNJARi2inrEMAsOYEQHF-qPyZiAkUPYSYS_tsXOlupGA1Nqocdlu1HJOtnU'}, {'reviewId': 'AIe9_BH3gZxYpIxBZcqAOO5HuBVk0c5qAzGFwZXZJPI7SdTQq11I3s2GnmiO-KOKodWn_PZXdOYxUH_Y9_08nstpdU6ck5WjswzxtguqVA4wyRqnrjb--as', 'reviewer': {'profilePhotoUrl': 'https://lh3.googleusercontent.com/a-/AOh14Gi6uYPMEeA7lBBgn-jzuGy5DO_V5AnQkpTR57JzcQ=c0x00000000-cc-rp-ba3', 'displayName': 'Mariella King'}, 'starRating': 'FOUR', 'createTime': '2019-12-17T15:30:33.040Z', 'updateTime': '2019-12-17T15:30:33.040Z', 'name': 'accounts/103081671806813149550/locations/10162385833102214158/reviews/AIe9_BH3gZxYpIxBZcqAOO5HuBVk0c5qAzGFwZXZJPI7SdTQq11I3s2GnmiO-KOKodWn_PZXdOYxUH_Y9_08nstpdU6ck5WjswzxtguqVA4wyRqnrjb--as'}, {'reviewId': 'AIe9_BFu3rdicGrPrzdyu4PDXmqMT57fNSgTQxuH4Vy3UzWCBXm0MvqzODiXPj8q56G4bfCpBwKp-95dam-m5ZVlQ0yxarNaqybY6iVeZvrf6o5MXgyLuuE', 'reviewer': {'profilePhotoUrl': 'https://lh4.googleusercontent.com/-G6fp4CD0Otw/AAAAAAAAAAI/AAAAAAAAAAA/AMZuuclFv5pOEO8LVUU06WkgGEA7EY5hZg/c0x00000000-cc-rp/photo.jpg', 'displayName': 'Emma Noller'}, 'starRating': 'FIVE', 'comment': 'Coffee if fantastic! Which as an Aussie I have sometimes struggled to find here outside the city. Food also great and lovely barista! Definitely going back!', 'createTime': '2019-12-12T08:10:46.848Z', 'updateTime': '2019-12-12T08:10:46.848Z', 'name': 'accounts/103081671806813149550/locations/10162385833102214158/reviews/AIe9_BFu3rdicGrPrzdyu4PDXmqMT57fNSgTQxuH4Vy3UzWCBXm0MvqzODiXPj8q56G4bfCpBwKp-95dam-m5ZVlQ0yxarNaqybY6iVeZvrf6o5MXgyLuuE'}, {'reviewId': 'AIe9_BHkHJRvhG8n5BjqdcMSKR_FRbRUAHuaIc91iCFZkMyTBA9uddLXNOfoiZ4g7_K75lo90C6Na-c1Y10C4Ky41bmNiNBdDZ1yy0PwoaAaciAPdTV3kGM', 'reviewer': {'profilePhotoUrl': 'https://lh3.googleusercontent.com/a-/AOh14GhGu8He56gzeP6TqMywoq0sb5nEpcMCQOibS5Rw=c0x00000000-cc-rp', 'displayName': 'Lydia Howarth'}, 'starRating': 'FIVE', 'comment': 'Great coffee shop with lovely staff and amazing cakes.', 'createTime': '2019-12-08T15:05:19.626Z', 'updateTime': '2019-12-08T15:05:19.626Z', 'name': 'accounts/103081671806813149550/locations/10162385833102214158/reviews/AIe9_BHkHJRvhG8n5BjqdcMSKR_FRbRUAHuaIc91iCFZkMyTBA9uddLXNOfoiZ4g7_K75lo90C6Na-c1Y10C4Ky41bmNiNBdDZ1yy0PwoaAaciAPdTV3kGM'}, {'reviewId': 'AIe9_BFrHfJ2dmEi-Vy2qpFFGM-S9UkXf-nZwzItyqIFMSq2oWHSKvLroIZa1IaxJsBPKFAiOxk3N6r-kOl5n_D1dlRvK36Uoh6jv6rHYwJexwEytU5Mb_o', 'reviewer': {'profilePhotoUrl': 'https://lh6.googleusercontent.com/-0wXx1EjhrPs/AAAAAAAAAAI/AAAAAAAAACI/AMZuuckFPpTPRSg52DfG_cCBV9K86KJJqg/c0x00000000-cc-rp/photo.jpg', 'displayName': 'Finn George'}, 'starRating': 'FIVE', 'createTime': '2019-12-05T12:41:44.017Z', 'updateTime': '2019-12-05T12:41:44.017Z', 'name': 'accounts/103081671806813149550/locations/10162385833102214158/reviews/AIe9_BFrHfJ2dmEi-Vy2qpFFGM-S9UkXf-nZwzItyqIFMSq2oWHSKvLroIZa1IaxJsBPKFAiOxk3N6r-kOl5n_D1dlRvK36Uoh6jv6rHYwJexwEytU5Mb_o'}, {'reviewId': 'AIe9_BGhYIk2KhOdF8fekWDvq8JUBGxue7Q-NV1H3g7mtzMYVdk41PxUWd4SHs8ingl5cCdv4Gc5yZax-Si2aDa2maFrjBnv76Vv0zLBKv6HKd_TXtfyj0s', 'reviewer': {'profilePhotoUrl': 'https://lh5.googleusercontent.com/-50yQwtHKCN8/AAAAAAAAAAI/AAAAAAAAAZs/AMZuucl4mL0_TlT9GdV_NORusefaoOMw3g/c0x00000000-cc-rp/photo.jpg', 'displayName': 'Smemosauras'}, 'starRating': 'FIVE', 'comment': 'Great coffee, great people.', 'createTime': '2019-12-04T12:41:02.362Z', 'updateTime': '2019-12-04T12:41:02.362Z', 'name': 'accounts/103081671806813149550/locations/10162385833102214158/reviews/AIe9_BGhYIk2KhOdF8fekWDvq8JUBGxue7Q-NV1H3g7mtzMYVdk41PxUWd4SHs8ingl5cCdv4Gc5yZax-Si2aDa2maFrjBnv76Vv0zLBKv6HKd_TXtfyj0s'}, {'reviewId': 'AIe9_BH3gZxYpIxBZcqAOO5HuBVkT0T7gQUq6aDef80htrKr_RLYj4Ac7yI2AG8hlWre43EceZBB6llqM5Ys3S51jQDSNE1B1evneOv4E6uxtHaPtryVm8I', 'reviewer': {'profilePhotoUrl': 'https://lh5.googleusercontent.com/-hRW8L0JAXl0/AAAAAAAAAAI/AAAAAAAAAAA/AMZuucneeIfc3n4r7JaO3rqwFbTX32W0tA/c0x00000000-cc-rp/photo.jpg', 'displayName': 'Stephen Pile'}, 'starRating': 'FIVE', 'comment': 'Vgood service and v good coffee and cake', 'createTime': '2019-11-25T14:36:00.850Z', 'updateTime': '2019-11-25T14:36:00.850Z', 'name': 'accounts/103081671806813149550/locations/10162385833102214158/reviews/AIe9_BH3gZxYpIxBZcqAOO5HuBVkT0T7gQUq6aDef80htrKr_RLYj4Ac7yI2AG8hlWre43EceZBB6llqM5Ys3S51jQDSNE1B1evneOv4E6uxtHaPtryVm8I'}, {'reviewId': 'AIe9_BGIy_plKfaZrItPyyQZNLvsSlk5rj1iyYwUJESTTTZk-2OAcF0z3gO9MelpNt09eObH2LVtD9c9Exh4NBGdvvmHgfOkKDHJLP3ao7lhWsCYwfc0wNg', 'reviewer': {'profilePhotoUrl': 'https://lh3.googleusercontent.com/a-/AOh14GijdqQmqtnJuPeNVblU7dkAfDv99EzyZKpEq4lemg=c0x00000000-cc-rp', 'displayName': 'Adam Timlett'}, 'starRating': 'FOUR', 'createTime': '2019-11-24T13:21:42.183Z', 'updateTime': '2019-11-24T13:21:42.183Z', 'name': 'accounts/103081671806813149550/locations/10162385833102214158/reviews/AIe9_BGIy_plKfaZrItPyyQZNLvsSlk5rj1iyYwUJESTTTZk-2OAcF0z3gO9MelpNt09eObH2LVtD9c9Exh4NBGdvvmHgfOkKDHJLP3ao7lhWsCYwfc0wNg'}, {'reviewId': 'AIe9_BExcxslmE1rr7n5jMcadSKekidqsG6iE2jZHIYRonC5ugX3BXHzBaCMB8Hf1CyHdn26f2Lh_Gz81xHkUiIqvpI-8230o0_JNXMmBb9IdJKQ0HHe6Fg', 'reviewer': {'profilePhotoUrl': 'https://lh3.googleusercontent.com/a-/AOh14GgQZMkPHPmm9smu_1LIpn7iWD4k9ffLHdVVI1wiCw=c0x00000000-cc-rp', 'displayName': 'Aaron Newton'}, 'starRating': 'FIVE', 'comment': 'Amazing coffee and snacks you must popin...', 'createTime': '2019-11-17T14:57:09.983Z', 'updateTime': '2019-11-17T14:57:09.983Z', 'name': 'accounts/103081671806813149550/locations/10162385833102214158/reviews/AIe9_BExcxslmE1rr7n5jMcadSKekidqsG6iE2jZHIYRonC5ugX3BXHzBaCMB8Hf1CyHdn26f2Lh_Gz81xHkUiIqvpI-8230o0_JNXMmBb9IdJKQ0HHe6Fg'}, {'reviewId': 'AIe9_BFLHEJ8hYqd4VCbbc-EtvgM0zog1x-NwzXpuaCRvb-5-Zjc8UMx-TEnXnwcLCtOcsVI2KyG-wxaw-dZeDEVwi71q7jQM7SnlIbaXk9nF_04UVUQYYc', 'reviewer': {'profilePhotoUrl': 'https://lh3.googleusercontent.com/a-/AOh14GirUfAgBGD-NG1kt9UTmZrQKqWw6wDIwaapun2mLzQ=c0x00000000-cc-rp-ba2', 'displayName': 'Vix Brand'}, 'starRating': 'FIVE', 'comment': \"Lovely atmosphere, staff are super friendly and wonderful people. Lovely range of food and drinks. I can't wait to come back.\", 'createTime': '2019-11-12T17:09:33.197Z', 'updateTime': '2019-11-12T17:09:33.197Z', 'name': 'accounts/103081671806813149550/locations/10162385833102214158/reviews/AIe9_BFLHEJ8hYqd4VCbbc-EtvgM0zog1x-NwzXpuaCRvb-5-Zjc8UMx-TEnXnwcLCtOcsVI2KyG-wxaw-dZeDEVwi71q7jQM7SnlIbaXk9nF_04UVUQYYc'}, {'reviewId': 'AIe9_BGhYIk2KhOdF8fekWDvq8JU1R8XNoWKWSgxWd74fq-A7HhmbTM-HTbiKdK03FUrWe4TMIFgeiWSuYi3w2kXUuxWcpbANzsWDqzUbPm1CPfXNWcAa7k', 'reviewer': {'profilePhotoUrl': 'https://lh3.googleusercontent.com/a-/AOh14GhsykXuaVcQVppmSuIrkxVrnjc3oqcJR3rK2XTk1A=c0x00000000-cc-rp-ba3', 'displayName': 'Jason Butler'}, 'starRating': 'FIVE', 'comment': \"Cute coffee shop and lovely staff, coffee is amazing and they're very on top of new trends and food is great quality, highly recommend to anyone.\", 'createTime': '2019-11-12T07:40:12.423Z', 'updateTime': '2019-11-12T07:40:12.423Z', 'name': 'accounts/103081671806813149550/locations/10162385833102214158/reviews/AIe9_BGhYIk2KhOdF8fekWDvq8JU1R8XNoWKWSgxWd74fq-A7HhmbTM-HTbiKdK03FUrWe4TMIFgeiWSuYi3w2kXUuxWcpbANzsWDqzUbPm1CPfXNWcAa7k'}, {'reviewId': 'AIe9_BFhqAtkXvUqdYNeMuBBGjaAHPBMTwUmQhDMmlazezfCuGmxsWStcc3tAO2eWAG1yqmH9I7dvKXGEWrbNbVC7hdUkd_VzDDUhvUgDzVAZAH2vvqBt1I', 'reviewer': {'profilePhotoUrl': 'https://lh6.googleusercontent.com/-Vk-cdKveuy4/AAAAAAAAAAI/AAAAAAAAAAA/AMZuucmjlex_AgT3f-mhd6yR9IQXiUFNHg/c0x00000000-cc-rp/photo.jpg', 'displayName': 'Carleton Corrales'}, 'starRating': 'FIVE', 'createTime': '2019-11-09T13:06:50.234Z', 'updateTime': '2019-11-09T13:06:50.234Z', 'name': 'accounts/103081671806813149550/locations/10162385833102214158/reviews/AIe9_BFhqAtkXvUqdYNeMuBBGjaAHPBMTwUmQhDMmlazezfCuGmxsWStcc3tAO2eWAG1yqmH9I7dvKXGEWrbNbVC7hdUkd_VzDDUhvUgDzVAZAH2vvqBt1I'}, {'reviewId': 'AIe9_BGErQpX2pRNZrXBy5NOsH0eP9S6MW34xg3MOQBQQ49Lsd5V3FdtesRtiNjGs4PW_45nbxhzWvtqyGD3B6-3I7VOvYjLlr02hF53VkhOARKFskY9idk', 'reviewer': {'profilePhotoUrl': 'https://lh3.googleusercontent.com/a-/AOh14GiIZjCbRWeL0cWysRD09hQC1OyOlSD7-zn4hO-D_w=c0x00000000-cc-rp', 'displayName': 'Sumit Sharma'}, 'starRating': 'FIVE', 'comment': 'If you are out and about Northfields station, show them some love. Great ambience, great music, great service. We felt transported to Provincetown.', 'createTime': '2019-10-26T13:25:57.212Z', 'updateTime': '2019-10-26T13:25:57.212Z', 'name': 'accounts/103081671806813149550/locations/10162385833102214158/reviews/AIe9_BGErQpX2pRNZrXBy5NOsH0eP9S6MW34xg3MOQBQQ49Lsd5V3FdtesRtiNjGs4PW_45nbxhzWvtqyGD3B6-3I7VOvYjLlr02hF53VkhOARKFskY9idk'}, {'reviewId': 'AIe9_BFqh_zr355jzGaEpH7666zctH26960zj57h-S4YuK_Rz3eXT2Hcmeti8JHunGVCL1Bw1Clf_GsuklLsfuKwImjdDSBwCnBzErC1SpN2_W3SvME9V0I', 'reviewer': {'profilePhotoUrl': 'https://lh3.googleusercontent.com/a-/AOh14Gjm7CVFXK3LOiLvqjTIQGTwlP7GX24XUxbj1iYwKQ=c0x00000000-cc-rp', 'displayName': 'Thea C'}, 'starRating': 'FIVE', 'createTime': '2019-10-24T10:40:32.640Z', 'updateTime': '2019-10-24T10:40:32.640Z', 'name': 'accounts/103081671806813149550/locations/10162385833102214158/reviews/AIe9_BFqh_zr355jzGaEpH7666zctH26960zj57h-S4YuK_Rz3eXT2Hcmeti8JHunGVCL1Bw1Clf_GsuklLsfuKwImjdDSBwCnBzErC1SpN2_W3SvME9V0I'}, {'reviewId': 'AIe9_BFmRFRFwJGRfUDOW8jG3rXnadpKGoxnBJo11NLHJaGrU8txLAFpEcNO9vA1wWQ_QaKQ5AZlHOZekcIWSAY43EeOQqtvgxH80qCBam12louBh1OW204', 'reviewer': {'profilePhotoUrl': 'https://lh6.googleusercontent.com/-HqtfPU3tbDA/AAAAAAAAAAI/AAAAAAAAAAA/AMZuucm6_A_NvFJNLIRjxXpyzdrcCOca_A/c0x00000000-cc-rp/photo.jpg', 'displayName': 'Ofeibea Russell'}, 'starRating': 'FIVE', 'comment': 'I absolutely adore this coffee shop! I work in a busy NHS dental practice and I would not make it through my day without the amazing coffee and wonderful service from this cafe. Keep up the amazing work! It’s always lovely to see a happy face in the morning, the entire staff at element coffee are always cheerful, helpful, and always brighten up my day.', 'createTime': '2019-10-17T07:50:03.902Z', 'updateTime': '2019-10-17T07:50:03.902Z', 'name': 'accounts/103081671806813149550/locations/10162385833102214158/reviews/AIe9_BFmRFRFwJGRfUDOW8jG3rXnadpKGoxnBJo11NLHJaGrU8txLAFpEcNO9vA1wWQ_QaKQ5AZlHOZekcIWSAY43EeOQqtvgxH80qCBam12louBh1OW204'}, {'reviewId': 'AIe9_BGZuRKHeO1iYrcf4B001kE2pW6etcvFGN6P4tmgkgcsOWU0qIh4HLhcRPV54jkRX5RQEIRqauDbq-Nauilf5zbiRnBCFO05ipdmjti5QDkhDU2ryAA', 'reviewer': {'profilePhotoUrl': 'https://lh3.googleusercontent.com/a-/AOh14Gi9sdLgV5eJNB-fVJkA9b-49nI_epGGsrfZ-Cswlw=c0x00000000-cc-rp', 'displayName': 'The London Lens Project'}, 'starRating': 'FIVE', 'comment': 'Always excellent coffee and always friendly staff + great vibe :D', 'createTime': '2019-10-15T13:54:46.429Z', 'updateTime': '2019-10-15T13:54:46.429Z', 'name': 'accounts/103081671806813149550/locations/10162385833102214158/reviews/AIe9_BGZuRKHeO1iYrcf4B001kE2pW6etcvFGN6P4tmgkgcsOWU0qIh4HLhcRPV54jkRX5RQEIRqauDbq-Nauilf5zbiRnBCFO05ipdmjti5QDkhDU2ryAA'}, {'reviewId': 'AIe9_BFu3rdicGrPrzdyu4PDXmqMFttEiNBDesVynrm6dUChMsFQfOYRhy0MTJ_-ibkRAgjmpcvSvALQVE81wir4taxYhSPit-N5W37dsXAAK8hBPk6xTfM', 'reviewer': {'profilePhotoUrl': 'https://lh6.googleusercontent.com/-CnDbyau-K84/AAAAAAAAAAI/AAAAAAAAAAA/AMZuucnV6WsO_N7_8nxv2QMHvcCIXkXMQQ/c0x00000000-cc-rp/photo.jpg', 'displayName': 'Mark Hintze'}, 'starRating': 'FOUR', 'createTime': '2019-10-13T07:54:51.117Z', 'updateTime': '2019-10-13T07:54:51.117Z', 'name': 'accounts/103081671806813149550/locations/10162385833102214158/reviews/AIe9_BFu3rdicGrPrzdyu4PDXmqMFttEiNBDesVynrm6dUChMsFQfOYRhy0MTJ_-ibkRAgjmpcvSvALQVE81wir4taxYhSPit-N5W37dsXAAK8hBPk6xTfM'}, {'reviewId': 'AIe9_BExcxslmE1rr7n5jMcadSKe9k99pdmYbCuR9re4gL4b1ALNAsdjC0xFdesQ4Ua0Nz5nNTDy5Gu9bFjPMIyCAtpleIa21clmS5Bb_grRkgjzcN6s1t8', 'reviewer': {'profilePhotoUrl': 'https://lh3.googleusercontent.com/a-/AOh14Gi1NUSr_AcoIr242OFxwWts64jigzCsG0IZ1TjONA=c0x00000000-cc-rp-ba3', 'displayName': 'Laura Begg'}, 'starRating': 'FIVE', 'comment': 'love Element Coffee and the staff are lovely and welcoming best coffee in Northfields by far', 'createTime': '2019-09-18T20:21:35.669Z', 'updateTime': '2019-09-18T20:21:35.669Z', 'name': 'accounts/103081671806813149550/locations/10162385833102214158/reviews/AIe9_BExcxslmE1rr7n5jMcadSKe9k99pdmYbCuR9re4gL4b1ALNAsdjC0xFdesQ4Ua0Nz5nNTDy5Gu9bFjPMIyCAtpleIa21clmS5Bb_grRkgjzcN6s1t8'}, {'reviewId': 'AIe9_BEV1VP1woYvuPRixSBHlWg40-Opl3ZXZFXwrfz4OezNqk0AarGO7CfU6wvj5EniNu4yariYOA6NuP1JkOWpNBPCFBnInSYibmB7CBsKgkBRADp9afs', 'reviewer': {'profilePhotoUrl': 'https://lh3.googleusercontent.com/-GwNLgTH9oDQ/AAAAAAAAAAI/AAAAAAAAACQ/AMZuucl-hgJP_WeVqiiS5Uc51i5fn0naYg/c0x00000000-cc-rp-ba2/photo.jpg', 'displayName': 'Brad Bohall'}, 'starRating': 'FIVE', 'comment': 'Element Coffee is excellent. The owners are very skilled, knowledgeable, and friendly. The coffee selection (and preparation) is superb, the food offerings are delicious, and the prices are fair. The owners have put a tremendous amount of thought into every detail, and it makes for an outstanding experience. Definitely worth checking out.', 'createTime': '2019-09-17T18:38:19.480Z', 'updateTime': '2019-09-17T18:38:19.480Z', 'name': 'accounts/103081671806813149550/locations/10162385833102214158/reviews/AIe9_BEV1VP1woYvuPRixSBHlWg40-Opl3ZXZFXwrfz4OezNqk0AarGO7CfU6wvj5EniNu4yariYOA6NuP1JkOWpNBPCFBnInSYibmB7CBsKgkBRADp9afs'}, {'reviewId': 'AIe9_BGvUJd9etQojwpjZIMsiFne2SCMelI0RDVHZGwDBsXy4EiW3TiLKdeMOVnLgorisFVoqVLFuYsw8FDD7X-vapJyIG87KKyFv9dFAFdxiUL4T-XitHE', 'reviewer': {'profilePhotoUrl': 'https://lh3.googleusercontent.com/a-/AOh14Gjux4RejZsmgM4pzuFwK2MJ8VZMSPQn9GAlpvQAZSg=c0x00000000-cc-rp-ba5', 'displayName': 'Sarah McCartney'}, 'starRating': 'FIVE', 'comment': 'The most friendly - tiny - place. Outstanding coffee and a really knowledgeable teams.', 'createTime': '2019-09-14T12:11:58.606Z', 'updateTime': '2019-09-14T12:11:58.606Z', 'name': 'accounts/103081671806813149550/locations/10162385833102214158/reviews/AIe9_BGvUJd9etQojwpjZIMsiFne2SCMelI0RDVHZGwDBsXy4EiW3TiLKdeMOVnLgorisFVoqVLFuYsw8FDD7X-vapJyIG87KKyFv9dFAFdxiUL4T-XitHE'}, {'reviewId': 'AIe9_BEHZ7lh7y1sP-UInhkpmlIp9oBaam5Ilafz-XlmNK_DcmbpDKGMmIHp22nW5dNvTyHc1XdMKKExd5BTHpcaeU_mqU7bRUzLUCMlwbjp1rAhelRfet0', 'reviewer': {'profilePhotoUrl': 'https://lh3.googleusercontent.com/a-/AOh14GgbSpib9xk8gGFH7p9X9EaPvACWQs_7q8Js9LKClQ=c0x00000000-cc-rp', 'displayName': 'Niovi Alexandridou'}, 'starRating': 'FIVE', 'comment': 'Lovely, friendly staff and definitely the best flat white around! A neighbourhood gem!', 'createTime': '2019-09-05T13:47:18.823Z', 'updateTime': '2019-09-05T13:47:18.823Z', 'name': 'accounts/103081671806813149550/locations/10162385833102214158/reviews/AIe9_BEHZ7lh7y1sP-UInhkpmlIp9oBaam5Ilafz-XlmNK_DcmbpDKGMmIHp22nW5dNvTyHc1XdMKKExd5BTHpcaeU_mqU7bRUzLUCMlwbjp1rAhelRfet0'}, {'reviewId': 'AIe9_BEAgUIalCkcXZnurOUpP4uAGhZ1PV5iS8aawSgcDZrNZ3Necu72gYIQiy2q0Xjzm7PoSfpM_rKHB-ntu5NTAcX0osyCQlKsZi7KBJrpOQl0hRPD0_s', 'reviewer': {'profilePhotoUrl': 'https://lh3.googleusercontent.com/a-/AOh14GgzriQv_59-2f5GC9C6GyW8rqfDQiHsjkYj3IuzBg=c0x00000000-cc-rp', 'displayName': 'Sabina Kamber Salamanca'}, 'starRating': 'FIVE', 'comment': 'Really friendly, welcoming and warm atmosphere in this lovely cafe. The coffee is made with lots of love and attention. High recommendations.', 'createTime': '2019-09-04T10:32:56.553Z', 'updateTime': '2019-09-04T10:32:56.553Z', 'name': 'accounts/103081671806813149550/locations/10162385833102214158/reviews/AIe9_BEAgUIalCkcXZnurOUpP4uAGhZ1PV5iS8aawSgcDZrNZ3Necu72gYIQiy2q0Xjzm7PoSfpM_rKHB-ntu5NTAcX0osyCQlKsZi7KBJrpOQl0hRPD0_s'}, {'reviewId': 'AIe9_BHQRY2ZSwEqF8wFOgAU7mdNwJf09VpTkhGXZEI798UgZ1V8d5TG5MMyau0wHUdknb4EW2CG8nNeKM5joJ9kymKR0iOsnCPygaAqXw3Wpc2Q5DGerX4', 'reviewer': {'profilePhotoUrl': 'https://lh3.googleusercontent.com/-EmP1GhC0NG8/AAAAAAAAAAI/AAAAAAAAAAA/AMZuucnhmGJqImxNCv4Q-zidbXMeLbNeGQ/c0x00000000-cc-rp-ba2/photo.jpg', 'displayName': 'Dave H'}, 'starRating': 'FIVE', 'comment': \"It's our daily coffee start. A true community and family. You'll love starting your day here 😃👍☕️🥐\", 'createTime': '2019-09-04T07:54:26.863Z', 'updateTime': '2019-09-04T07:54:26.863Z', 'name': 'accounts/103081671806813149550/locations/10162385833102214158/reviews/AIe9_BHQRY2ZSwEqF8wFOgAU7mdNwJf09VpTkhGXZEI798UgZ1V8d5TG5MMyau0wHUdknb4EW2CG8nNeKM5joJ9kymKR0iOsnCPygaAqXw3Wpc2Q5DGerX4'}, {'reviewId': 'AIe9_BGTHfLB7ZAtvlQmidaL-PvDmuE4M7tyCiBrWDDkvYpI2nDGvhCmmYyy_37mkuwnSqUZXBj1D-ryoqSez1Viy6qiUCoOAjBU2FmmuamdKRTuOcG7buw', 'reviewer': {'profilePhotoUrl': 'https://lh5.googleusercontent.com/-WdhmpMuMStM/AAAAAAAAAAI/AAAAAAAAAAA/AMZuucnePgepiJ-UEGBdXzXFtR-ny8SScw/c0x00000000-cc-rp-ba2/photo.jpg', 'displayName': 'B Ul'}, 'starRating': 'FIVE', 'createTime': '2019-08-30T07:43:14.165Z', 'updateTime': '2019-08-30T07:43:14.165Z', 'name': 'accounts/103081671806813149550/locations/10162385833102214158/reviews/AIe9_BGTHfLB7ZAtvlQmidaL-PvDmuE4M7tyCiBrWDDkvYpI2nDGvhCmmYyy_37mkuwnSqUZXBj1D-ryoqSez1Viy6qiUCoOAjBU2FmmuamdKRTuOcG7buw'}, {'reviewId': 'AIe9_BGvUJd9etQojwpjZIMsiFnen1u8EDaVJ9Sl_6Gka3-RuiY9B2vHpRLH64Lyq-ZVSmN3Dy8bCITBK8zluNZo183kchQ49rwhYeFMX8GV7GFMSoXAs1Q', 'reviewer': {'profilePhotoUrl': 'https://lh3.googleusercontent.com/-QnQh6vvidfc/AAAAAAAAAAI/AAAAAAAAAAA/AMZuucmsL7uFjMIpRv4mqDcQDDYqBIhE2g/c0x00000000-cc-rp/photo.jpg', 'displayName': 'Ritesh Ramji'}, 'starRating': 'FIVE', 'comment': \"Great coffee, great food, amazing addition to West London's coffee scene\", 'createTime': '2019-08-19T17:30:42.267Z', 'updateTime': '2019-08-19T17:30:42.267Z', 'name': 'accounts/103081671806813149550/locations/10162385833102214158/reviews/AIe9_BGvUJd9etQojwpjZIMsiFnen1u8EDaVJ9Sl_6Gka3-RuiY9B2vHpRLH64Lyq-ZVSmN3Dy8bCITBK8zluNZo183kchQ49rwhYeFMX8GV7GFMSoXAs1Q'}, {'reviewId': 'AIe9_BHR7p0hPy1flx1br0TYdEUBRIenXn1dO9gVyjIxZXp7Vti9gWukfCPz_wgtrT2si2jzEC2NumHMX80G__wTno1FDPSKnaw0Q11nPS0imJY8AY6Aqm8', 'reviewer': {'profilePhotoUrl': 'https://lh3.googleusercontent.com/-zkOEt9CceOs/AAAAAAAAAAI/AAAAAAAAAAA/AMZuucntilkusJsNm71CU4_8bvloAXVpjg/c0x00000000-cc-rp-ba4/photo.jpg', 'displayName': 'Gav Hunt'}, 'starRating': 'FIVE', 'comment': \"Just great, but tiny, so please don't tell anyone\", 'createTime': '2019-08-15T23:14:29.480Z', 'updateTime': '2019-08-15T23:14:29.480Z', 'name': 'accounts/103081671806813149550/locations/10162385833102214158/reviews/AIe9_BHR7p0hPy1flx1br0TYdEUBRIenXn1dO9gVyjIxZXp7Vti9gWukfCPz_wgtrT2si2jzEC2NumHMX80G__wTno1FDPSKnaw0Q11nPS0imJY8AY6Aqm8'}], 4.9, 104, 'ABHRLXVDJU11vI2LFJfglDPtfR78AWz379yk-SHHPC9Cau1dXETCV80'])"
      ]
     },
     "execution_count": 26,
     "metadata": {},
     "output_type": "execute_result"
    }
   ],
   "source": [
    "result = r.json()\n",
    "result"
   ]
  },
  {
   "cell_type": "code",
   "execution_count": null,
   "metadata": {},
   "outputs": [],
   "source": [
    "\n",
    "df2 = pd.DataFrame(result['reviews'])\n",
    "df2"
   ]
  },
  {
   "cell_type": "code",
   "execution_count": 31,
   "metadata": {},
   "outputs": [],
   "source": [
    "df1.set_index('reviewId', inplace=True)"
   ]
  },
  {
   "cell_type": "code",
   "execution_count": 32,
   "metadata": {},
   "outputs": [
    {
     "data": {
      "text/html": [
       "<div>\n",
       "<style scoped>\n",
       "    .dataframe tbody tr th:only-of-type {\n",
       "        vertical-align: middle;\n",
       "    }\n",
       "\n",
       "    .dataframe tbody tr th {\n",
       "        vertical-align: top;\n",
       "    }\n",
       "\n",
       "    .dataframe thead th {\n",
       "        text-align: right;\n",
       "    }\n",
       "</style>\n",
       "<table border=\"1\" class=\"dataframe\">\n",
       "  <thead>\n",
       "    <tr style=\"text-align: right;\">\n",
       "      <th></th>\n",
       "      <th>reviewer</th>\n",
       "      <th>starRating</th>\n",
       "      <th>comment</th>\n",
       "      <th>createTime</th>\n",
       "      <th>updateTime</th>\n",
       "      <th>name</th>\n",
       "      <th>reviewReply</th>\n",
       "    </tr>\n",
       "    <tr>\n",
       "      <th>reviewId</th>\n",
       "      <th></th>\n",
       "      <th></th>\n",
       "      <th></th>\n",
       "      <th></th>\n",
       "      <th></th>\n",
       "      <th></th>\n",
       "      <th></th>\n",
       "    </tr>\n",
       "  </thead>\n",
       "  <tbody>\n",
       "    <tr>\n",
       "      <td>AIe9_BFL0OZrFaHgoJtqifT1GHrIjTXWiSjNZvpGing97-GDAxtJvDNRbUSQLn4ZSTVR2DNPr2TOPoboeY0D1u-Lqan91Ay56s1F3XfQk6oHoVyYXZ3NhPM</td>\n",
       "      <td>{'profilePhotoUrl': 'https://lh3.googleusercon...</td>\n",
       "      <td>FIVE</td>\n",
       "      <td>Fantastic coffee but been closed since covid. ...</td>\n",
       "      <td>2020-09-13T19:30:58.215Z</td>\n",
       "      <td>2020-09-13T19:30:58.215Z</td>\n",
       "      <td>accounts/103081671806813149550/locations/10162...</td>\n",
       "      <td>NaN</td>\n",
       "    </tr>\n",
       "    <tr>\n",
       "      <td>AIe9_BH-Y7Lwr6IxuH7aUb2G6RG2IMPCd3mi-DY1Ws9ehxhvsoXE0sr4ArxXiawM4WK33wstlK86AoNXPDACKB2WSQEyOo8rSIOHvoZYeVlPt0mcqXbRB_g</td>\n",
       "      <td>{'profilePhotoUrl': 'https://lh3.googleusercon...</td>\n",
       "      <td>FIVE</td>\n",
       "      <td>Really good coffee. Very passionate about what...</td>\n",
       "      <td>2020-09-10T21:06:15.054Z</td>\n",
       "      <td>2020-09-10T21:06:15.054Z</td>\n",
       "      <td>accounts/103081671806813149550/locations/10162...</td>\n",
       "      <td>NaN</td>\n",
       "    </tr>\n",
       "    <tr>\n",
       "      <td>AIe9_BGErQpX2pRNZrXBy5NOsH0eCtyW3yibiPBG4weYMP1ri4sBHwriGroq6dhqbR1gz6D-Zhi3kbMxgHSw5T7gbCgyXhAdEMbAnwmoNFrpQWyPQ44iN-I</td>\n",
       "      <td>{'profilePhotoUrl': 'https://lh3.googleusercon...</td>\n",
       "      <td>FIVE</td>\n",
       "      <td>Lovely place to relax and have a coffee. They ...</td>\n",
       "      <td>2020-08-20T07:42:04.657Z</td>\n",
       "      <td>2020-08-20T07:42:04.657Z</td>\n",
       "      <td>accounts/103081671806813149550/locations/10162...</td>\n",
       "      <td>NaN</td>\n",
       "    </tr>\n",
       "    <tr>\n",
       "      <td>AIe9_BGErQpX2pRNZrXBy5NOsH0eDADH6rBJaxaNqCKygzY5qaYWyFVViM8HXFAQca2iTsg7wvPUKp_OkQTHEpgjoe3QwPuuqm3nJZBR-AFGF4-IuiNVs5o</td>\n",
       "      <td>{'profilePhotoUrl': 'https://lh3.googleusercon...</td>\n",
       "      <td>FIVE</td>\n",
       "      <td>Staff are some of the most interesting and fri...</td>\n",
       "      <td>2020-08-17T18:23:04.249Z</td>\n",
       "      <td>2020-08-17T18:23:04.249Z</td>\n",
       "      <td>accounts/103081671806813149550/locations/10162...</td>\n",
       "      <td>NaN</td>\n",
       "    </tr>\n",
       "    <tr>\n",
       "      <td>AIe9_BHAFUK2tNBZL25dLQ0jVdh0N0OM7D0pqpTx4hEPEOmFKBF8LM05IqfxpkYnTaQmS-5791oAFKPesebFHNgo_dAabd9C_iFwqV9XT2lgYUJwR1UfwZc</td>\n",
       "      <td>{'profilePhotoUrl': 'https://lh3.googleusercon...</td>\n",
       "      <td>FIVE</td>\n",
       "      <td>Absolutely love this place! The staff is great...</td>\n",
       "      <td>2020-08-16T11:12:35.362Z</td>\n",
       "      <td>2020-08-16T11:12:35.362Z</td>\n",
       "      <td>accounts/103081671806813149550/locations/10162...</td>\n",
       "      <td>NaN</td>\n",
       "    </tr>\n",
       "  </tbody>\n",
       "</table>\n",
       "</div>"
      ],
      "text/plain": [
       "                                                                                             reviewer  \\\n",
       "reviewId                                                                                                \n",
       "AIe9_BFL0OZrFaHgoJtqifT1GHrIjTXWiSjNZvpGing97-G...  {'profilePhotoUrl': 'https://lh3.googleusercon...   \n",
       "AIe9_BH-Y7Lwr6IxuH7aUb2G6RG2IMPCd3mi-DY1Ws9ehxh...  {'profilePhotoUrl': 'https://lh3.googleusercon...   \n",
       "AIe9_BGErQpX2pRNZrXBy5NOsH0eCtyW3yibiPBG4weYMP1...  {'profilePhotoUrl': 'https://lh3.googleusercon...   \n",
       "AIe9_BGErQpX2pRNZrXBy5NOsH0eDADH6rBJaxaNqCKygzY...  {'profilePhotoUrl': 'https://lh3.googleusercon...   \n",
       "AIe9_BHAFUK2tNBZL25dLQ0jVdh0N0OM7D0pqpTx4hEPEOm...  {'profilePhotoUrl': 'https://lh3.googleusercon...   \n",
       "\n",
       "                                                   starRating  \\\n",
       "reviewId                                                        \n",
       "AIe9_BFL0OZrFaHgoJtqifT1GHrIjTXWiSjNZvpGing97-G...       FIVE   \n",
       "AIe9_BH-Y7Lwr6IxuH7aUb2G6RG2IMPCd3mi-DY1Ws9ehxh...       FIVE   \n",
       "AIe9_BGErQpX2pRNZrXBy5NOsH0eCtyW3yibiPBG4weYMP1...       FIVE   \n",
       "AIe9_BGErQpX2pRNZrXBy5NOsH0eDADH6rBJaxaNqCKygzY...       FIVE   \n",
       "AIe9_BHAFUK2tNBZL25dLQ0jVdh0N0OM7D0pqpTx4hEPEOm...       FIVE   \n",
       "\n",
       "                                                                                              comment  \\\n",
       "reviewId                                                                                                \n",
       "AIe9_BFL0OZrFaHgoJtqifT1GHrIjTXWiSjNZvpGing97-G...  Fantastic coffee but been closed since covid. ...   \n",
       "AIe9_BH-Y7Lwr6IxuH7aUb2G6RG2IMPCd3mi-DY1Ws9ehxh...  Really good coffee. Very passionate about what...   \n",
       "AIe9_BGErQpX2pRNZrXBy5NOsH0eCtyW3yibiPBG4weYMP1...  Lovely place to relax and have a coffee. They ...   \n",
       "AIe9_BGErQpX2pRNZrXBy5NOsH0eDADH6rBJaxaNqCKygzY...  Staff are some of the most interesting and fri...   \n",
       "AIe9_BHAFUK2tNBZL25dLQ0jVdh0N0OM7D0pqpTx4hEPEOm...  Absolutely love this place! The staff is great...   \n",
       "\n",
       "                                                                  createTime  \\\n",
       "reviewId                                                                       \n",
       "AIe9_BFL0OZrFaHgoJtqifT1GHrIjTXWiSjNZvpGing97-G...  2020-09-13T19:30:58.215Z   \n",
       "AIe9_BH-Y7Lwr6IxuH7aUb2G6RG2IMPCd3mi-DY1Ws9ehxh...  2020-09-10T21:06:15.054Z   \n",
       "AIe9_BGErQpX2pRNZrXBy5NOsH0eCtyW3yibiPBG4weYMP1...  2020-08-20T07:42:04.657Z   \n",
       "AIe9_BGErQpX2pRNZrXBy5NOsH0eDADH6rBJaxaNqCKygzY...  2020-08-17T18:23:04.249Z   \n",
       "AIe9_BHAFUK2tNBZL25dLQ0jVdh0N0OM7D0pqpTx4hEPEOm...  2020-08-16T11:12:35.362Z   \n",
       "\n",
       "                                                                  updateTime  \\\n",
       "reviewId                                                                       \n",
       "AIe9_BFL0OZrFaHgoJtqifT1GHrIjTXWiSjNZvpGing97-G...  2020-09-13T19:30:58.215Z   \n",
       "AIe9_BH-Y7Lwr6IxuH7aUb2G6RG2IMPCd3mi-DY1Ws9ehxh...  2020-09-10T21:06:15.054Z   \n",
       "AIe9_BGErQpX2pRNZrXBy5NOsH0eCtyW3yibiPBG4weYMP1...  2020-08-20T07:42:04.657Z   \n",
       "AIe9_BGErQpX2pRNZrXBy5NOsH0eDADH6rBJaxaNqCKygzY...  2020-08-17T18:23:04.249Z   \n",
       "AIe9_BHAFUK2tNBZL25dLQ0jVdh0N0OM7D0pqpTx4hEPEOm...  2020-08-16T11:12:35.362Z   \n",
       "\n",
       "                                                                                                 name  \\\n",
       "reviewId                                                                                                \n",
       "AIe9_BFL0OZrFaHgoJtqifT1GHrIjTXWiSjNZvpGing97-G...  accounts/103081671806813149550/locations/10162...   \n",
       "AIe9_BH-Y7Lwr6IxuH7aUb2G6RG2IMPCd3mi-DY1Ws9ehxh...  accounts/103081671806813149550/locations/10162...   \n",
       "AIe9_BGErQpX2pRNZrXBy5NOsH0eCtyW3yibiPBG4weYMP1...  accounts/103081671806813149550/locations/10162...   \n",
       "AIe9_BGErQpX2pRNZrXBy5NOsH0eDADH6rBJaxaNqCKygzY...  accounts/103081671806813149550/locations/10162...   \n",
       "AIe9_BHAFUK2tNBZL25dLQ0jVdh0N0OM7D0pqpTx4hEPEOm...  accounts/103081671806813149550/locations/10162...   \n",
       "\n",
       "                                                   reviewReply  \n",
       "reviewId                                                        \n",
       "AIe9_BFL0OZrFaHgoJtqifT1GHrIjTXWiSjNZvpGing97-G...         NaN  \n",
       "AIe9_BH-Y7Lwr6IxuH7aUb2G6RG2IMPCd3mi-DY1Ws9ehxh...         NaN  \n",
       "AIe9_BGErQpX2pRNZrXBy5NOsH0eCtyW3yibiPBG4weYMP1...         NaN  \n",
       "AIe9_BGErQpX2pRNZrXBy5NOsH0eDADH6rBJaxaNqCKygzY...         NaN  \n",
       "AIe9_BHAFUK2tNBZL25dLQ0jVdh0N0OM7D0pqpTx4hEPEOm...         NaN  "
      ]
     },
     "execution_count": 32,
     "metadata": {},
     "output_type": "execute_result"
    }
   ],
   "source": [
    "df1.head()"
   ]
  },
  {
   "cell_type": "code",
   "execution_count": 33,
   "metadata": {
    "collapsed": true,
    "jupyter": {
     "outputs_hidden": true
    }
   },
   "outputs": [
    {
     "data": {
      "text/html": [
       "<div>\n",
       "<style scoped>\n",
       "    .dataframe tbody tr th:only-of-type {\n",
       "        vertical-align: middle;\n",
       "    }\n",
       "\n",
       "    .dataframe tbody tr th {\n",
       "        vertical-align: top;\n",
       "    }\n",
       "\n",
       "    .dataframe thead th {\n",
       "        text-align: right;\n",
       "    }\n",
       "</style>\n",
       "<table border=\"1\" class=\"dataframe\">\n",
       "  <thead>\n",
       "    <tr style=\"text-align: right;\">\n",
       "      <th></th>\n",
       "      <th>reviewer</th>\n",
       "      <th>starRating</th>\n",
       "      <th>createTime</th>\n",
       "      <th>updateTime</th>\n",
       "      <th>name</th>\n",
       "      <th>comment</th>\n",
       "      <th>reviewReply</th>\n",
       "    </tr>\n",
       "    <tr>\n",
       "      <th>reviewId</th>\n",
       "      <th></th>\n",
       "      <th></th>\n",
       "      <th></th>\n",
       "      <th></th>\n",
       "      <th></th>\n",
       "      <th></th>\n",
       "      <th></th>\n",
       "    </tr>\n",
       "  </thead>\n",
       "  <tbody>\n",
       "    <tr>\n",
       "      <td>AIe9_BGErQpX2pRNZrXBy5NOsH0epxmheIBJ8MOH7FjO5T_ApAS2vgHXqy2PrqyzDmobb9rzAoronD7uzm0zWqlDwqW_bdW8NLvRqYRQkOn-xq0Qb74mRp4</td>\n",
       "      <td>{'profilePhotoUrl': 'https://lh3.googleusercon...</td>\n",
       "      <td>FIVE</td>\n",
       "      <td>2019-08-13T16:06:55.055Z</td>\n",
       "      <td>2019-08-13T16:06:55.055Z</td>\n",
       "      <td>accounts/103081671806813149550/locations/10162...</td>\n",
       "      <td>NaN</td>\n",
       "      <td>NaN</td>\n",
       "    </tr>\n",
       "    <tr>\n",
       "      <td>AIe9_BFLHEJ8hYqd4VCbbc-EtvgMrQM6fXxLqa_9I40x_CFV2tgYMNEH_Llz47xGT3Kq5hXs04H0JI_G2J72TELlRwFkrUTCSCYJUhoFihq3dCVnsG9753c</td>\n",
       "      <td>{'profilePhotoUrl': 'https://lh3.googleusercon...</td>\n",
       "      <td>FOUR</td>\n",
       "      <td>2019-08-09T16:53:15.488Z</td>\n",
       "      <td>2019-08-09T16:53:15.488Z</td>\n",
       "      <td>accounts/103081671806813149550/locations/10162...</td>\n",
       "      <td>Good coffee</td>\n",
       "      <td>NaN</td>\n",
       "    </tr>\n",
       "    <tr>\n",
       "      <td>AIe9_BG6xadHFAZSK79zWz9bVMwy_YUUotrBsO1pOBB7_TR5YQj1OKuafAcabmiU6bPIesCrShWIoYFG7jEVmyBvBDbzBwDJaATsTcCrcUWxG1V6GDY3F7g</td>\n",
       "      <td>{'profilePhotoUrl': 'https://lh6.googleusercon...</td>\n",
       "      <td>FIVE</td>\n",
       "      <td>2019-08-08T10:33:25.403Z</td>\n",
       "      <td>2019-08-08T10:33:25.403Z</td>\n",
       "      <td>accounts/103081671806813149550/locations/10162...</td>\n",
       "      <td>Great people, delicious single origin coffee, ...</td>\n",
       "      <td>NaN</td>\n",
       "    </tr>\n",
       "    <tr>\n",
       "      <td>AIe9_BFmRFRFwJGRfUDOW8jG3rXnSPe23GNMYAFfMUK-6Rkoe8l7dN1nkYJpPdNgG_HmvNW1k8PYXRmZ_6i1mQFSbc9dcZOQjllIbXFzanRYEnGuhC4SvCg</td>\n",
       "      <td>{'profilePhotoUrl': 'https://lh3.googleusercon...</td>\n",
       "      <td>FIVE</td>\n",
       "      <td>2019-08-07T19:50:49.374Z</td>\n",
       "      <td>2019-08-07T19:50:49.374Z</td>\n",
       "      <td>accounts/103081671806813149550/locations/10162...</td>\n",
       "      <td>If you want people passionate about coffee...t...</td>\n",
       "      <td>NaN</td>\n",
       "    </tr>\n",
       "    <tr>\n",
       "      <td>AIe9_BHkHJRvhG8n5BjqdcMSKR_FpJt21OuPmrdJ6SU-1B6kCTfTiq-yAJOmdtv1fhU2r4kmd2q15AcAW6FPaCjO-CuvvXkcVpzvtYlqM_3gQwyd_qdWIXw</td>\n",
       "      <td>{'profilePhotoUrl': 'https://lh3.googleusercon...</td>\n",
       "      <td>FIVE</td>\n",
       "      <td>2019-08-02T15:53:08.316Z</td>\n",
       "      <td>2019-08-02T15:53:08.316Z</td>\n",
       "      <td>accounts/103081671806813149550/locations/10162...</td>\n",
       "      <td>This super cozy coffee place is a Community me...</td>\n",
       "      <td>NaN</td>\n",
       "    </tr>\n",
       "  </tbody>\n",
       "</table>\n",
       "</div>"
      ],
      "text/plain": [
       "                                                                                             reviewer  \\\n",
       "reviewId                                                                                                \n",
       "AIe9_BGErQpX2pRNZrXBy5NOsH0epxmheIBJ8MOH7FjO5T_...  {'profilePhotoUrl': 'https://lh3.googleusercon...   \n",
       "AIe9_BFLHEJ8hYqd4VCbbc-EtvgMrQM6fXxLqa_9I40x_CF...  {'profilePhotoUrl': 'https://lh3.googleusercon...   \n",
       "AIe9_BG6xadHFAZSK79zWz9bVMwy_YUUotrBsO1pOBB7_TR...  {'profilePhotoUrl': 'https://lh6.googleusercon...   \n",
       "AIe9_BFmRFRFwJGRfUDOW8jG3rXnSPe23GNMYAFfMUK-6Rk...  {'profilePhotoUrl': 'https://lh3.googleusercon...   \n",
       "AIe9_BHkHJRvhG8n5BjqdcMSKR_FpJt21OuPmrdJ6SU-1B6...  {'profilePhotoUrl': 'https://lh3.googleusercon...   \n",
       "\n",
       "                                                   starRating  \\\n",
       "reviewId                                                        \n",
       "AIe9_BGErQpX2pRNZrXBy5NOsH0epxmheIBJ8MOH7FjO5T_...       FIVE   \n",
       "AIe9_BFLHEJ8hYqd4VCbbc-EtvgMrQM6fXxLqa_9I40x_CF...       FOUR   \n",
       "AIe9_BG6xadHFAZSK79zWz9bVMwy_YUUotrBsO1pOBB7_TR...       FIVE   \n",
       "AIe9_BFmRFRFwJGRfUDOW8jG3rXnSPe23GNMYAFfMUK-6Rk...       FIVE   \n",
       "AIe9_BHkHJRvhG8n5BjqdcMSKR_FpJt21OuPmrdJ6SU-1B6...       FIVE   \n",
       "\n",
       "                                                                  createTime  \\\n",
       "reviewId                                                                       \n",
       "AIe9_BGErQpX2pRNZrXBy5NOsH0epxmheIBJ8MOH7FjO5T_...  2019-08-13T16:06:55.055Z   \n",
       "AIe9_BFLHEJ8hYqd4VCbbc-EtvgMrQM6fXxLqa_9I40x_CF...  2019-08-09T16:53:15.488Z   \n",
       "AIe9_BG6xadHFAZSK79zWz9bVMwy_YUUotrBsO1pOBB7_TR...  2019-08-08T10:33:25.403Z   \n",
       "AIe9_BFmRFRFwJGRfUDOW8jG3rXnSPe23GNMYAFfMUK-6Rk...  2019-08-07T19:50:49.374Z   \n",
       "AIe9_BHkHJRvhG8n5BjqdcMSKR_FpJt21OuPmrdJ6SU-1B6...  2019-08-02T15:53:08.316Z   \n",
       "\n",
       "                                                                  updateTime  \\\n",
       "reviewId                                                                       \n",
       "AIe9_BGErQpX2pRNZrXBy5NOsH0epxmheIBJ8MOH7FjO5T_...  2019-08-13T16:06:55.055Z   \n",
       "AIe9_BFLHEJ8hYqd4VCbbc-EtvgMrQM6fXxLqa_9I40x_CF...  2019-08-09T16:53:15.488Z   \n",
       "AIe9_BG6xadHFAZSK79zWz9bVMwy_YUUotrBsO1pOBB7_TR...  2019-08-08T10:33:25.403Z   \n",
       "AIe9_BFmRFRFwJGRfUDOW8jG3rXnSPe23GNMYAFfMUK-6Rk...  2019-08-07T19:50:49.374Z   \n",
       "AIe9_BHkHJRvhG8n5BjqdcMSKR_FpJt21OuPmrdJ6SU-1B6...  2019-08-02T15:53:08.316Z   \n",
       "\n",
       "                                                                                                 name  \\\n",
       "reviewId                                                                                                \n",
       "AIe9_BGErQpX2pRNZrXBy5NOsH0epxmheIBJ8MOH7FjO5T_...  accounts/103081671806813149550/locations/10162...   \n",
       "AIe9_BFLHEJ8hYqd4VCbbc-EtvgMrQM6fXxLqa_9I40x_CF...  accounts/103081671806813149550/locations/10162...   \n",
       "AIe9_BG6xadHFAZSK79zWz9bVMwy_YUUotrBsO1pOBB7_TR...  accounts/103081671806813149550/locations/10162...   \n",
       "AIe9_BFmRFRFwJGRfUDOW8jG3rXnSPe23GNMYAFfMUK-6Rk...  accounts/103081671806813149550/locations/10162...   \n",
       "AIe9_BHkHJRvhG8n5BjqdcMSKR_FpJt21OuPmrdJ6SU-1B6...  accounts/103081671806813149550/locations/10162...   \n",
       "\n",
       "                                                                                              comment  \\\n",
       "reviewId                                                                                                \n",
       "AIe9_BGErQpX2pRNZrXBy5NOsH0epxmheIBJ8MOH7FjO5T_...                                                NaN   \n",
       "AIe9_BFLHEJ8hYqd4VCbbc-EtvgMrQM6fXxLqa_9I40x_CF...                                        Good coffee   \n",
       "AIe9_BG6xadHFAZSK79zWz9bVMwy_YUUotrBsO1pOBB7_TR...  Great people, delicious single origin coffee, ...   \n",
       "AIe9_BFmRFRFwJGRfUDOW8jG3rXnSPe23GNMYAFfMUK-6Rk...  If you want people passionate about coffee...t...   \n",
       "AIe9_BHkHJRvhG8n5BjqdcMSKR_FpJt21OuPmrdJ6SU-1B6...  This super cozy coffee place is a Community me...   \n",
       "\n",
       "                                                   reviewReply  \n",
       "reviewId                                                        \n",
       "AIe9_BGErQpX2pRNZrXBy5NOsH0epxmheIBJ8MOH7FjO5T_...         NaN  \n",
       "AIe9_BFLHEJ8hYqd4VCbbc-EtvgMrQM6fXxLqa_9I40x_CF...         NaN  \n",
       "AIe9_BG6xadHFAZSK79zWz9bVMwy_YUUotrBsO1pOBB7_TR...         NaN  \n",
       "AIe9_BFmRFRFwJGRfUDOW8jG3rXnSPe23GNMYAFfMUK-6Rk...         NaN  \n",
       "AIe9_BHkHJRvhG8n5BjqdcMSKR_FpJt21OuPmrdJ6SU-1B6...         NaN  "
      ]
     },
     "execution_count": 33,
     "metadata": {},
     "output_type": "execute_result"
    }
   ],
   "source": [
    "df2.set_index('reviewId', inplace=True)\n",
    "df2.head()"
   ]
  },
  {
   "cell_type": "code",
   "execution_count": 37,
   "metadata": {},
   "outputs": [],
   "source": [
    "df = pd.concat((df1, df2), axis=0, sort=False)"
   ]
  },
  {
   "cell_type": "code",
   "execution_count": 47,
   "metadata": {},
   "outputs": [],
   "source": [
    "df.sort_values(by='createTime', axis=0, inplace=True)"
   ]
  },
  {
   "cell_type": "code",
   "execution_count": 48,
   "metadata": {
    "collapsed": true,
    "jupyter": {
     "outputs_hidden": true
    }
   },
   "outputs": [
    {
     "data": {
      "text/html": [
       "<div>\n",
       "<style scoped>\n",
       "    .dataframe tbody tr th:only-of-type {\n",
       "        vertical-align: middle;\n",
       "    }\n",
       "\n",
       "    .dataframe tbody tr th {\n",
       "        vertical-align: top;\n",
       "    }\n",
       "\n",
       "    .dataframe thead th {\n",
       "        text-align: right;\n",
       "    }\n",
       "</style>\n",
       "<table border=\"1\" class=\"dataframe\">\n",
       "  <thead>\n",
       "    <tr style=\"text-align: right;\">\n",
       "      <th></th>\n",
       "      <th>reviewer</th>\n",
       "      <th>starRating</th>\n",
       "      <th>comment</th>\n",
       "      <th>createTime</th>\n",
       "      <th>updateTime</th>\n",
       "      <th>name</th>\n",
       "      <th>reviewReply</th>\n",
       "    </tr>\n",
       "    <tr>\n",
       "      <th>reviewId</th>\n",
       "      <th></th>\n",
       "      <th></th>\n",
       "      <th></th>\n",
       "      <th></th>\n",
       "      <th></th>\n",
       "      <th></th>\n",
       "      <th></th>\n",
       "    </tr>\n",
       "  </thead>\n",
       "  <tbody>\n",
       "    <tr>\n",
       "      <td>AIe9_BHVBnWjBJvk55vq2QEm0wl-8UCzjr_bRvhzYUTeRseNIi9_2-7iTjGKMginc7TlhB_nh7xqRNwVKhqi8BzSgYZEVJprFgvvEBIWLsEyKpl2JM9wpFk</td>\n",
       "      <td>{'profilePhotoUrl': 'https://lh3.googleusercon...</td>\n",
       "      <td>FIVE</td>\n",
       "      <td>NaN</td>\n",
       "      <td>2019-03-02T11:14:14.423Z</td>\n",
       "      <td>2019-03-02T11:14:14.423Z</td>\n",
       "      <td>accounts/103081671806813149550/locations/10162...</td>\n",
       "      <td>NaN</td>\n",
       "    </tr>\n",
       "    <tr>\n",
       "      <td>AIe9_BG84YPnR8vhxeJfV_lAYVNiyJklgjDvK2mToyGAnm5BLKXD0Nof7c3scJiNsgQwiPIldOQxZH0YSEruf1oe2D7BfTjfNguuZIhasMZG_eyP7pIHjT8</td>\n",
       "      <td>{'profilePhotoUrl': 'https://lh3.googleusercon...</td>\n",
       "      <td>FIVE</td>\n",
       "      <td>Incredibly cosy and frieindly atmosphere with ...</td>\n",
       "      <td>2019-03-02T14:04:06.497Z</td>\n",
       "      <td>2019-03-02T14:04:06.497Z</td>\n",
       "      <td>accounts/103081671806813149550/locations/10162...</td>\n",
       "      <td>NaN</td>\n",
       "    </tr>\n",
       "    <tr>\n",
       "      <td>AIe9_BG84YPnR8vhxeJfV_lAYVNieyl3sfiZ-Bg2Obdo5eL_wNbFTBw2gOkQTCc81PPhN39uVaLFRZUh12Ow6KCkMq1eEOOMft5_T-iFG3UJ3pwBdCmamxY</td>\n",
       "      <td>{'profilePhotoUrl': 'https://lh3.googleusercon...</td>\n",
       "      <td>FIVE</td>\n",
       "      <td>Great coffee, and the red velvet cake was quic...</td>\n",
       "      <td>2019-03-02T15:44:56.985Z</td>\n",
       "      <td>2019-03-02T15:44:56.985Z</td>\n",
       "      <td>accounts/103081671806813149550/locations/10162...</td>\n",
       "      <td>NaN</td>\n",
       "    </tr>\n",
       "    <tr>\n",
       "      <td>AIe9_BFFcAiX3_kRXfnRLgvL31Hr4E8x9TEaJTu1BoILutMXL9pbQgcA5OBsdQYAMiQYNVpG9ukjMu7WsnNlzMg0e2xaa9fYHfOJX02NSGA8jjeaCh4LtOI</td>\n",
       "      <td>{'profilePhotoUrl': 'https://lh3.googleusercon...</td>\n",
       "      <td>FIVE</td>\n",
       "      <td>Great coffee. Excellent service, went during t...</td>\n",
       "      <td>2019-03-02T15:58:31.612Z</td>\n",
       "      <td>2019-03-02T15:58:31.612Z</td>\n",
       "      <td>accounts/103081671806813149550/locations/10162...</td>\n",
       "      <td>NaN</td>\n",
       "    </tr>\n",
       "    <tr>\n",
       "      <td>AIe9_BG84YPnR8vhxeJfV_lAYVNi6EcIvkUtR__HCm0Tp3QYtjrY8ijyuAo6KcAztBS7bpw_ufr1W34-K6FC9c2qUqEVMWshoeydKJl88Nj73-cInEQvDLk</td>\n",
       "      <td>{'profilePhotoUrl': 'https://lh3.googleusercon...</td>\n",
       "      <td>FIVE</td>\n",
       "      <td>Cozy with delicious food!  Tried the charcoal ...</td>\n",
       "      <td>2019-03-02T16:08:02.908Z</td>\n",
       "      <td>2019-03-02T16:08:02.908Z</td>\n",
       "      <td>accounts/103081671806813149550/locations/10162...</td>\n",
       "      <td>NaN</td>\n",
       "    </tr>\n",
       "    <tr>\n",
       "      <td>...</td>\n",
       "      <td>...</td>\n",
       "      <td>...</td>\n",
       "      <td>...</td>\n",
       "      <td>...</td>\n",
       "      <td>...</td>\n",
       "      <td>...</td>\n",
       "      <td>...</td>\n",
       "    </tr>\n",
       "    <tr>\n",
       "      <td>AIe9_BHAFUK2tNBZL25dLQ0jVdh0N0OM7D0pqpTx4hEPEOmFKBF8LM05IqfxpkYnTaQmS-5791oAFKPesebFHNgo_dAabd9C_iFwqV9XT2lgYUJwR1UfwZc</td>\n",
       "      <td>{'profilePhotoUrl': 'https://lh3.googleusercon...</td>\n",
       "      <td>FIVE</td>\n",
       "      <td>Absolutely love this place! The staff is great...</td>\n",
       "      <td>2020-08-16T11:12:35.362Z</td>\n",
       "      <td>2020-08-16T11:12:35.362Z</td>\n",
       "      <td>accounts/103081671806813149550/locations/10162...</td>\n",
       "      <td>NaN</td>\n",
       "    </tr>\n",
       "    <tr>\n",
       "      <td>AIe9_BGErQpX2pRNZrXBy5NOsH0eDADH6rBJaxaNqCKygzY5qaYWyFVViM8HXFAQca2iTsg7wvPUKp_OkQTHEpgjoe3QwPuuqm3nJZBR-AFGF4-IuiNVs5o</td>\n",
       "      <td>{'profilePhotoUrl': 'https://lh3.googleusercon...</td>\n",
       "      <td>FIVE</td>\n",
       "      <td>Staff are some of the most interesting and fri...</td>\n",
       "      <td>2020-08-17T18:23:04.249Z</td>\n",
       "      <td>2020-08-17T18:23:04.249Z</td>\n",
       "      <td>accounts/103081671806813149550/locations/10162...</td>\n",
       "      <td>NaN</td>\n",
       "    </tr>\n",
       "    <tr>\n",
       "      <td>AIe9_BGErQpX2pRNZrXBy5NOsH0eCtyW3yibiPBG4weYMP1ri4sBHwriGroq6dhqbR1gz6D-Zhi3kbMxgHSw5T7gbCgyXhAdEMbAnwmoNFrpQWyPQ44iN-I</td>\n",
       "      <td>{'profilePhotoUrl': 'https://lh3.googleusercon...</td>\n",
       "      <td>FIVE</td>\n",
       "      <td>Lovely place to relax and have a coffee. They ...</td>\n",
       "      <td>2020-08-20T07:42:04.657Z</td>\n",
       "      <td>2020-08-20T07:42:04.657Z</td>\n",
       "      <td>accounts/103081671806813149550/locations/10162...</td>\n",
       "      <td>NaN</td>\n",
       "    </tr>\n",
       "    <tr>\n",
       "      <td>AIe9_BH-Y7Lwr6IxuH7aUb2G6RG2IMPCd3mi-DY1Ws9ehxhvsoXE0sr4ArxXiawM4WK33wstlK86AoNXPDACKB2WSQEyOo8rSIOHvoZYeVlPt0mcqXbRB_g</td>\n",
       "      <td>{'profilePhotoUrl': 'https://lh3.googleusercon...</td>\n",
       "      <td>FIVE</td>\n",
       "      <td>Really good coffee. Very passionate about what...</td>\n",
       "      <td>2020-09-10T21:06:15.054Z</td>\n",
       "      <td>2020-09-10T21:06:15.054Z</td>\n",
       "      <td>accounts/103081671806813149550/locations/10162...</td>\n",
       "      <td>NaN</td>\n",
       "    </tr>\n",
       "    <tr>\n",
       "      <td>AIe9_BFL0OZrFaHgoJtqifT1GHrIjTXWiSjNZvpGing97-GDAxtJvDNRbUSQLn4ZSTVR2DNPr2TOPoboeY0D1u-Lqan91Ay56s1F3XfQk6oHoVyYXZ3NhPM</td>\n",
       "      <td>{'profilePhotoUrl': 'https://lh3.googleusercon...</td>\n",
       "      <td>FIVE</td>\n",
       "      <td>Fantastic coffee but been closed since covid. ...</td>\n",
       "      <td>2020-09-13T19:30:58.215Z</td>\n",
       "      <td>2020-09-13T19:30:58.215Z</td>\n",
       "      <td>accounts/103081671806813149550/locations/10162...</td>\n",
       "      <td>NaN</td>\n",
       "    </tr>\n",
       "  </tbody>\n",
       "</table>\n",
       "<p>100 rows × 7 columns</p>\n",
       "</div>"
      ],
      "text/plain": [
       "                                                                                             reviewer  \\\n",
       "reviewId                                                                                                \n",
       "AIe9_BHVBnWjBJvk55vq2QEm0wl-8UCzjr_bRvhzYUTeRse...  {'profilePhotoUrl': 'https://lh3.googleusercon...   \n",
       "AIe9_BG84YPnR8vhxeJfV_lAYVNiyJklgjDvK2mToyGAnm5...  {'profilePhotoUrl': 'https://lh3.googleusercon...   \n",
       "AIe9_BG84YPnR8vhxeJfV_lAYVNieyl3sfiZ-Bg2Obdo5eL...  {'profilePhotoUrl': 'https://lh3.googleusercon...   \n",
       "AIe9_BFFcAiX3_kRXfnRLgvL31Hr4E8x9TEaJTu1BoILutM...  {'profilePhotoUrl': 'https://lh3.googleusercon...   \n",
       "AIe9_BG84YPnR8vhxeJfV_lAYVNi6EcIvkUtR__HCm0Tp3Q...  {'profilePhotoUrl': 'https://lh3.googleusercon...   \n",
       "...                                                                                               ...   \n",
       "AIe9_BHAFUK2tNBZL25dLQ0jVdh0N0OM7D0pqpTx4hEPEOm...  {'profilePhotoUrl': 'https://lh3.googleusercon...   \n",
       "AIe9_BGErQpX2pRNZrXBy5NOsH0eDADH6rBJaxaNqCKygzY...  {'profilePhotoUrl': 'https://lh3.googleusercon...   \n",
       "AIe9_BGErQpX2pRNZrXBy5NOsH0eCtyW3yibiPBG4weYMP1...  {'profilePhotoUrl': 'https://lh3.googleusercon...   \n",
       "AIe9_BH-Y7Lwr6IxuH7aUb2G6RG2IMPCd3mi-DY1Ws9ehxh...  {'profilePhotoUrl': 'https://lh3.googleusercon...   \n",
       "AIe9_BFL0OZrFaHgoJtqifT1GHrIjTXWiSjNZvpGing97-G...  {'profilePhotoUrl': 'https://lh3.googleusercon...   \n",
       "\n",
       "                                                   starRating  \\\n",
       "reviewId                                                        \n",
       "AIe9_BHVBnWjBJvk55vq2QEm0wl-8UCzjr_bRvhzYUTeRse...       FIVE   \n",
       "AIe9_BG84YPnR8vhxeJfV_lAYVNiyJklgjDvK2mToyGAnm5...       FIVE   \n",
       "AIe9_BG84YPnR8vhxeJfV_lAYVNieyl3sfiZ-Bg2Obdo5eL...       FIVE   \n",
       "AIe9_BFFcAiX3_kRXfnRLgvL31Hr4E8x9TEaJTu1BoILutM...       FIVE   \n",
       "AIe9_BG84YPnR8vhxeJfV_lAYVNi6EcIvkUtR__HCm0Tp3Q...       FIVE   \n",
       "...                                                       ...   \n",
       "AIe9_BHAFUK2tNBZL25dLQ0jVdh0N0OM7D0pqpTx4hEPEOm...       FIVE   \n",
       "AIe9_BGErQpX2pRNZrXBy5NOsH0eDADH6rBJaxaNqCKygzY...       FIVE   \n",
       "AIe9_BGErQpX2pRNZrXBy5NOsH0eCtyW3yibiPBG4weYMP1...       FIVE   \n",
       "AIe9_BH-Y7Lwr6IxuH7aUb2G6RG2IMPCd3mi-DY1Ws9ehxh...       FIVE   \n",
       "AIe9_BFL0OZrFaHgoJtqifT1GHrIjTXWiSjNZvpGing97-G...       FIVE   \n",
       "\n",
       "                                                                                              comment  \\\n",
       "reviewId                                                                                                \n",
       "AIe9_BHVBnWjBJvk55vq2QEm0wl-8UCzjr_bRvhzYUTeRse...                                                NaN   \n",
       "AIe9_BG84YPnR8vhxeJfV_lAYVNiyJklgjDvK2mToyGAnm5...  Incredibly cosy and frieindly atmosphere with ...   \n",
       "AIe9_BG84YPnR8vhxeJfV_lAYVNieyl3sfiZ-Bg2Obdo5eL...  Great coffee, and the red velvet cake was quic...   \n",
       "AIe9_BFFcAiX3_kRXfnRLgvL31Hr4E8x9TEaJTu1BoILutM...  Great coffee. Excellent service, went during t...   \n",
       "AIe9_BG84YPnR8vhxeJfV_lAYVNi6EcIvkUtR__HCm0Tp3Q...  Cozy with delicious food!  Tried the charcoal ...   \n",
       "...                                                                                               ...   \n",
       "AIe9_BHAFUK2tNBZL25dLQ0jVdh0N0OM7D0pqpTx4hEPEOm...  Absolutely love this place! The staff is great...   \n",
       "AIe9_BGErQpX2pRNZrXBy5NOsH0eDADH6rBJaxaNqCKygzY...  Staff are some of the most interesting and fri...   \n",
       "AIe9_BGErQpX2pRNZrXBy5NOsH0eCtyW3yibiPBG4weYMP1...  Lovely place to relax and have a coffee. They ...   \n",
       "AIe9_BH-Y7Lwr6IxuH7aUb2G6RG2IMPCd3mi-DY1Ws9ehxh...  Really good coffee. Very passionate about what...   \n",
       "AIe9_BFL0OZrFaHgoJtqifT1GHrIjTXWiSjNZvpGing97-G...  Fantastic coffee but been closed since covid. ...   \n",
       "\n",
       "                                                                  createTime  \\\n",
       "reviewId                                                                       \n",
       "AIe9_BHVBnWjBJvk55vq2QEm0wl-8UCzjr_bRvhzYUTeRse...  2019-03-02T11:14:14.423Z   \n",
       "AIe9_BG84YPnR8vhxeJfV_lAYVNiyJklgjDvK2mToyGAnm5...  2019-03-02T14:04:06.497Z   \n",
       "AIe9_BG84YPnR8vhxeJfV_lAYVNieyl3sfiZ-Bg2Obdo5eL...  2019-03-02T15:44:56.985Z   \n",
       "AIe9_BFFcAiX3_kRXfnRLgvL31Hr4E8x9TEaJTu1BoILutM...  2019-03-02T15:58:31.612Z   \n",
       "AIe9_BG84YPnR8vhxeJfV_lAYVNi6EcIvkUtR__HCm0Tp3Q...  2019-03-02T16:08:02.908Z   \n",
       "...                                                                      ...   \n",
       "AIe9_BHAFUK2tNBZL25dLQ0jVdh0N0OM7D0pqpTx4hEPEOm...  2020-08-16T11:12:35.362Z   \n",
       "AIe9_BGErQpX2pRNZrXBy5NOsH0eDADH6rBJaxaNqCKygzY...  2020-08-17T18:23:04.249Z   \n",
       "AIe9_BGErQpX2pRNZrXBy5NOsH0eCtyW3yibiPBG4weYMP1...  2020-08-20T07:42:04.657Z   \n",
       "AIe9_BH-Y7Lwr6IxuH7aUb2G6RG2IMPCd3mi-DY1Ws9ehxh...  2020-09-10T21:06:15.054Z   \n",
       "AIe9_BFL0OZrFaHgoJtqifT1GHrIjTXWiSjNZvpGing97-G...  2020-09-13T19:30:58.215Z   \n",
       "\n",
       "                                                                  updateTime  \\\n",
       "reviewId                                                                       \n",
       "AIe9_BHVBnWjBJvk55vq2QEm0wl-8UCzjr_bRvhzYUTeRse...  2019-03-02T11:14:14.423Z   \n",
       "AIe9_BG84YPnR8vhxeJfV_lAYVNiyJklgjDvK2mToyGAnm5...  2019-03-02T14:04:06.497Z   \n",
       "AIe9_BG84YPnR8vhxeJfV_lAYVNieyl3sfiZ-Bg2Obdo5eL...  2019-03-02T15:44:56.985Z   \n",
       "AIe9_BFFcAiX3_kRXfnRLgvL31Hr4E8x9TEaJTu1BoILutM...  2019-03-02T15:58:31.612Z   \n",
       "AIe9_BG84YPnR8vhxeJfV_lAYVNi6EcIvkUtR__HCm0Tp3Q...  2019-03-02T16:08:02.908Z   \n",
       "...                                                                      ...   \n",
       "AIe9_BHAFUK2tNBZL25dLQ0jVdh0N0OM7D0pqpTx4hEPEOm...  2020-08-16T11:12:35.362Z   \n",
       "AIe9_BGErQpX2pRNZrXBy5NOsH0eDADH6rBJaxaNqCKygzY...  2020-08-17T18:23:04.249Z   \n",
       "AIe9_BGErQpX2pRNZrXBy5NOsH0eCtyW3yibiPBG4weYMP1...  2020-08-20T07:42:04.657Z   \n",
       "AIe9_BH-Y7Lwr6IxuH7aUb2G6RG2IMPCd3mi-DY1Ws9ehxh...  2020-09-10T21:06:15.054Z   \n",
       "AIe9_BFL0OZrFaHgoJtqifT1GHrIjTXWiSjNZvpGing97-G...  2020-09-13T19:30:58.215Z   \n",
       "\n",
       "                                                                                                 name  \\\n",
       "reviewId                                                                                                \n",
       "AIe9_BHVBnWjBJvk55vq2QEm0wl-8UCzjr_bRvhzYUTeRse...  accounts/103081671806813149550/locations/10162...   \n",
       "AIe9_BG84YPnR8vhxeJfV_lAYVNiyJklgjDvK2mToyGAnm5...  accounts/103081671806813149550/locations/10162...   \n",
       "AIe9_BG84YPnR8vhxeJfV_lAYVNieyl3sfiZ-Bg2Obdo5eL...  accounts/103081671806813149550/locations/10162...   \n",
       "AIe9_BFFcAiX3_kRXfnRLgvL31Hr4E8x9TEaJTu1BoILutM...  accounts/103081671806813149550/locations/10162...   \n",
       "AIe9_BG84YPnR8vhxeJfV_lAYVNi6EcIvkUtR__HCm0Tp3Q...  accounts/103081671806813149550/locations/10162...   \n",
       "...                                                                                               ...   \n",
       "AIe9_BHAFUK2tNBZL25dLQ0jVdh0N0OM7D0pqpTx4hEPEOm...  accounts/103081671806813149550/locations/10162...   \n",
       "AIe9_BGErQpX2pRNZrXBy5NOsH0eDADH6rBJaxaNqCKygzY...  accounts/103081671806813149550/locations/10162...   \n",
       "AIe9_BGErQpX2pRNZrXBy5NOsH0eCtyW3yibiPBG4weYMP1...  accounts/103081671806813149550/locations/10162...   \n",
       "AIe9_BH-Y7Lwr6IxuH7aUb2G6RG2IMPCd3mi-DY1Ws9ehxh...  accounts/103081671806813149550/locations/10162...   \n",
       "AIe9_BFL0OZrFaHgoJtqifT1GHrIjTXWiSjNZvpGing97-G...  accounts/103081671806813149550/locations/10162...   \n",
       "\n",
       "                                                   reviewReply  \n",
       "reviewId                                                        \n",
       "AIe9_BHVBnWjBJvk55vq2QEm0wl-8UCzjr_bRvhzYUTeRse...         NaN  \n",
       "AIe9_BG84YPnR8vhxeJfV_lAYVNiyJklgjDvK2mToyGAnm5...         NaN  \n",
       "AIe9_BG84YPnR8vhxeJfV_lAYVNieyl3sfiZ-Bg2Obdo5eL...         NaN  \n",
       "AIe9_BFFcAiX3_kRXfnRLgvL31Hr4E8x9TEaJTu1BoILutM...         NaN  \n",
       "AIe9_BG84YPnR8vhxeJfV_lAYVNi6EcIvkUtR__HCm0Tp3Q...         NaN  \n",
       "...                                                        ...  \n",
       "AIe9_BHAFUK2tNBZL25dLQ0jVdh0N0OM7D0pqpTx4hEPEOm...         NaN  \n",
       "AIe9_BGErQpX2pRNZrXBy5NOsH0eDADH6rBJaxaNqCKygzY...         NaN  \n",
       "AIe9_BGErQpX2pRNZrXBy5NOsH0eCtyW3yibiPBG4weYMP1...         NaN  \n",
       "AIe9_BH-Y7Lwr6IxuH7aUb2G6RG2IMPCd3mi-DY1Ws9ehxh...         NaN  \n",
       "AIe9_BFL0OZrFaHgoJtqifT1GHrIjTXWiSjNZvpGing97-G...         NaN  \n",
       "\n",
       "[100 rows x 7 columns]"
      ]
     },
     "execution_count": 48,
     "metadata": {},
     "output_type": "execute_result"
    }
   ],
   "source": [
    "df"
   ]
  },
  {
   "cell_type": "code",
   "execution_count": 56,
   "metadata": {},
   "outputs": [],
   "source": [
    "df.reset_index(inplace=True)"
   ]
  },
  {
   "cell_type": "code",
   "execution_count": 59,
   "metadata": {},
   "outputs": [
    {
     "ename": "KeyError",
     "evalue": "\"['reviewId' 'reviewReply' 'updateTime' 'reviewer'] not found in axis\"",
     "output_type": "error",
     "traceback": [
      "\u001b[1;31m---------------------------------------------------------------------------\u001b[0m",
      "\u001b[1;31mKeyError\u001b[0m                                  Traceback (most recent call last)",
      "\u001b[1;32m<ipython-input-59-e1a589af880a>\u001b[0m in \u001b[0;36m<module>\u001b[1;34m\u001b[0m\n\u001b[1;32m----> 1\u001b[1;33m \u001b[0mdf\u001b[0m\u001b[1;33m.\u001b[0m\u001b[0mdrop\u001b[0m\u001b[1;33m(\u001b[0m\u001b[0mcolumns\u001b[0m\u001b[1;33m=\u001b[0m\u001b[1;33m[\u001b[0m\u001b[1;34m'reviewId'\u001b[0m\u001b[1;33m,\u001b[0m \u001b[1;34m'reviewReply'\u001b[0m\u001b[1;33m,\u001b[0m \u001b[1;34m'updateTime'\u001b[0m\u001b[1;33m,\u001b[0m \u001b[1;34m'reviewer'\u001b[0m\u001b[1;33m]\u001b[0m\u001b[1;33m,\u001b[0m \u001b[0minplace\u001b[0m\u001b[1;33m=\u001b[0m\u001b[1;32mTrue\u001b[0m\u001b[1;33m)\u001b[0m\u001b[1;33m\u001b[0m\u001b[1;33m\u001b[0m\u001b[0m\n\u001b[0m",
      "\u001b[1;32m~\\anaconda3\\envs\\learn-env\\lib\\site-packages\\pandas\\core\\frame.py\u001b[0m in \u001b[0;36mdrop\u001b[1;34m(self, labels, axis, index, columns, level, inplace, errors)\u001b[0m\n\u001b[0;32m   4100\u001b[0m             \u001b[0mlevel\u001b[0m\u001b[1;33m=\u001b[0m\u001b[0mlevel\u001b[0m\u001b[1;33m,\u001b[0m\u001b[1;33m\u001b[0m\u001b[1;33m\u001b[0m\u001b[0m\n\u001b[0;32m   4101\u001b[0m             \u001b[0minplace\u001b[0m\u001b[1;33m=\u001b[0m\u001b[0minplace\u001b[0m\u001b[1;33m,\u001b[0m\u001b[1;33m\u001b[0m\u001b[1;33m\u001b[0m\u001b[0m\n\u001b[1;32m-> 4102\u001b[1;33m             \u001b[0merrors\u001b[0m\u001b[1;33m=\u001b[0m\u001b[0merrors\u001b[0m\u001b[1;33m,\u001b[0m\u001b[1;33m\u001b[0m\u001b[1;33m\u001b[0m\u001b[0m\n\u001b[0m\u001b[0;32m   4103\u001b[0m         )\n\u001b[0;32m   4104\u001b[0m \u001b[1;33m\u001b[0m\u001b[0m\n",
      "\u001b[1;32m~\\anaconda3\\envs\\learn-env\\lib\\site-packages\\pandas\\core\\generic.py\u001b[0m in \u001b[0;36mdrop\u001b[1;34m(self, labels, axis, index, columns, level, inplace, errors)\u001b[0m\n\u001b[0;32m   3912\u001b[0m         \u001b[1;32mfor\u001b[0m \u001b[0maxis\u001b[0m\u001b[1;33m,\u001b[0m \u001b[0mlabels\u001b[0m \u001b[1;32min\u001b[0m \u001b[0maxes\u001b[0m\u001b[1;33m.\u001b[0m\u001b[0mitems\u001b[0m\u001b[1;33m(\u001b[0m\u001b[1;33m)\u001b[0m\u001b[1;33m:\u001b[0m\u001b[1;33m\u001b[0m\u001b[1;33m\u001b[0m\u001b[0m\n\u001b[0;32m   3913\u001b[0m             \u001b[1;32mif\u001b[0m \u001b[0mlabels\u001b[0m \u001b[1;32mis\u001b[0m \u001b[1;32mnot\u001b[0m \u001b[1;32mNone\u001b[0m\u001b[1;33m:\u001b[0m\u001b[1;33m\u001b[0m\u001b[1;33m\u001b[0m\u001b[0m\n\u001b[1;32m-> 3914\u001b[1;33m                 \u001b[0mobj\u001b[0m \u001b[1;33m=\u001b[0m \u001b[0mobj\u001b[0m\u001b[1;33m.\u001b[0m\u001b[0m_drop_axis\u001b[0m\u001b[1;33m(\u001b[0m\u001b[0mlabels\u001b[0m\u001b[1;33m,\u001b[0m \u001b[0maxis\u001b[0m\u001b[1;33m,\u001b[0m \u001b[0mlevel\u001b[0m\u001b[1;33m=\u001b[0m\u001b[0mlevel\u001b[0m\u001b[1;33m,\u001b[0m \u001b[0merrors\u001b[0m\u001b[1;33m=\u001b[0m\u001b[0merrors\u001b[0m\u001b[1;33m)\u001b[0m\u001b[1;33m\u001b[0m\u001b[1;33m\u001b[0m\u001b[0m\n\u001b[0m\u001b[0;32m   3915\u001b[0m \u001b[1;33m\u001b[0m\u001b[0m\n\u001b[0;32m   3916\u001b[0m         \u001b[1;32mif\u001b[0m \u001b[0minplace\u001b[0m\u001b[1;33m:\u001b[0m\u001b[1;33m\u001b[0m\u001b[1;33m\u001b[0m\u001b[0m\n",
      "\u001b[1;32m~\\anaconda3\\envs\\learn-env\\lib\\site-packages\\pandas\\core\\generic.py\u001b[0m in \u001b[0;36m_drop_axis\u001b[1;34m(self, labels, axis, level, errors)\u001b[0m\n\u001b[0;32m   3944\u001b[0m                 \u001b[0mnew_axis\u001b[0m \u001b[1;33m=\u001b[0m \u001b[0maxis\u001b[0m\u001b[1;33m.\u001b[0m\u001b[0mdrop\u001b[0m\u001b[1;33m(\u001b[0m\u001b[0mlabels\u001b[0m\u001b[1;33m,\u001b[0m \u001b[0mlevel\u001b[0m\u001b[1;33m=\u001b[0m\u001b[0mlevel\u001b[0m\u001b[1;33m,\u001b[0m \u001b[0merrors\u001b[0m\u001b[1;33m=\u001b[0m\u001b[0merrors\u001b[0m\u001b[1;33m)\u001b[0m\u001b[1;33m\u001b[0m\u001b[1;33m\u001b[0m\u001b[0m\n\u001b[0;32m   3945\u001b[0m             \u001b[1;32melse\u001b[0m\u001b[1;33m:\u001b[0m\u001b[1;33m\u001b[0m\u001b[1;33m\u001b[0m\u001b[0m\n\u001b[1;32m-> 3946\u001b[1;33m                 \u001b[0mnew_axis\u001b[0m \u001b[1;33m=\u001b[0m \u001b[0maxis\u001b[0m\u001b[1;33m.\u001b[0m\u001b[0mdrop\u001b[0m\u001b[1;33m(\u001b[0m\u001b[0mlabels\u001b[0m\u001b[1;33m,\u001b[0m \u001b[0merrors\u001b[0m\u001b[1;33m=\u001b[0m\u001b[0merrors\u001b[0m\u001b[1;33m)\u001b[0m\u001b[1;33m\u001b[0m\u001b[1;33m\u001b[0m\u001b[0m\n\u001b[0m\u001b[0;32m   3947\u001b[0m             \u001b[0mresult\u001b[0m \u001b[1;33m=\u001b[0m \u001b[0mself\u001b[0m\u001b[1;33m.\u001b[0m\u001b[0mreindex\u001b[0m\u001b[1;33m(\u001b[0m\u001b[1;33m**\u001b[0m\u001b[1;33m{\u001b[0m\u001b[0maxis_name\u001b[0m\u001b[1;33m:\u001b[0m \u001b[0mnew_axis\u001b[0m\u001b[1;33m}\u001b[0m\u001b[1;33m)\u001b[0m\u001b[1;33m\u001b[0m\u001b[1;33m\u001b[0m\u001b[0m\n\u001b[0;32m   3948\u001b[0m \u001b[1;33m\u001b[0m\u001b[0m\n",
      "\u001b[1;32m~\\anaconda3\\envs\\learn-env\\lib\\site-packages\\pandas\\core\\indexes\\base.py\u001b[0m in \u001b[0;36mdrop\u001b[1;34m(self, labels, errors)\u001b[0m\n\u001b[0;32m   5338\u001b[0m         \u001b[1;32mif\u001b[0m \u001b[0mmask\u001b[0m\u001b[1;33m.\u001b[0m\u001b[0many\u001b[0m\u001b[1;33m(\u001b[0m\u001b[1;33m)\u001b[0m\u001b[1;33m:\u001b[0m\u001b[1;33m\u001b[0m\u001b[1;33m\u001b[0m\u001b[0m\n\u001b[0;32m   5339\u001b[0m             \u001b[1;32mif\u001b[0m \u001b[0merrors\u001b[0m \u001b[1;33m!=\u001b[0m \u001b[1;34m\"ignore\"\u001b[0m\u001b[1;33m:\u001b[0m\u001b[1;33m\u001b[0m\u001b[1;33m\u001b[0m\u001b[0m\n\u001b[1;32m-> 5340\u001b[1;33m                 \u001b[1;32mraise\u001b[0m \u001b[0mKeyError\u001b[0m\u001b[1;33m(\u001b[0m\u001b[1;34m\"{} not found in axis\"\u001b[0m\u001b[1;33m.\u001b[0m\u001b[0mformat\u001b[0m\u001b[1;33m(\u001b[0m\u001b[0mlabels\u001b[0m\u001b[1;33m[\u001b[0m\u001b[0mmask\u001b[0m\u001b[1;33m]\u001b[0m\u001b[1;33m)\u001b[0m\u001b[1;33m)\u001b[0m\u001b[1;33m\u001b[0m\u001b[1;33m\u001b[0m\u001b[0m\n\u001b[0m\u001b[0;32m   5341\u001b[0m             \u001b[0mindexer\u001b[0m \u001b[1;33m=\u001b[0m \u001b[0mindexer\u001b[0m\u001b[1;33m[\u001b[0m\u001b[1;33m~\u001b[0m\u001b[0mmask\u001b[0m\u001b[1;33m]\u001b[0m\u001b[1;33m\u001b[0m\u001b[1;33m\u001b[0m\u001b[0m\n\u001b[0;32m   5342\u001b[0m         \u001b[1;32mreturn\u001b[0m \u001b[0mself\u001b[0m\u001b[1;33m.\u001b[0m\u001b[0mdelete\u001b[0m\u001b[1;33m(\u001b[0m\u001b[0mindexer\u001b[0m\u001b[1;33m)\u001b[0m\u001b[1;33m\u001b[0m\u001b[1;33m\u001b[0m\u001b[0m\n",
      "\u001b[1;31mKeyError\u001b[0m: \"['reviewId' 'reviewReply' 'updateTime' 'reviewer'] not found in axis\""
     ]
    }
   ],
   "source": [
    "df.drop(columns=['reviewId', 'reviewReply', 'updateTime', 'reviewer'], inplace=True)"
   ]
  },
  {
   "cell_type": "code",
   "execution_count": 61,
   "metadata": {},
   "outputs": [
    {
     "name": "stdout",
     "output_type": "stream",
     "text": [
      "<class 'pandas.core.frame.DataFrame'>\n",
      "RangeIndex: 100 entries, 0 to 99\n",
      "Data columns (total 4 columns):\n",
      "starRating    100 non-null object\n",
      "comment       76 non-null object\n",
      "createTime    100 non-null object\n",
      "name          100 non-null object\n",
      "dtypes: object(4)\n",
      "memory usage: 3.2+ KB\n"
     ]
    }
   ],
   "source": [
    "df.info()"
   ]
  },
  {
   "cell_type": "code",
   "execution_count": 66,
   "metadata": {},
   "outputs": [
    {
     "data": {
      "text/html": [
       "<div>\n",
       "<style scoped>\n",
       "    .dataframe tbody tr th:only-of-type {\n",
       "        vertical-align: middle;\n",
       "    }\n",
       "\n",
       "    .dataframe tbody tr th {\n",
       "        vertical-align: top;\n",
       "    }\n",
       "\n",
       "    .dataframe thead th {\n",
       "        text-align: right;\n",
       "    }\n",
       "</style>\n",
       "<table border=\"1\" class=\"dataframe\">\n",
       "  <thead>\n",
       "    <tr style=\"text-align: right;\">\n",
       "      <th></th>\n",
       "      <th>starRating</th>\n",
       "      <th>comment</th>\n",
       "      <th>createTime</th>\n",
       "      <th>name</th>\n",
       "    </tr>\n",
       "  </thead>\n",
       "  <tbody>\n",
       "    <tr>\n",
       "      <td>0</td>\n",
       "      <td>FIVE</td>\n",
       "      <td>NaN</td>\n",
       "      <td>2019-03-02T11:14:14.423Z</td>\n",
       "      <td>accounts/103081671806813149550/locations/10162...</td>\n",
       "    </tr>\n",
       "    <tr>\n",
       "      <td>1</td>\n",
       "      <td>FIVE</td>\n",
       "      <td>Incredibly cosy and frieindly atmosphere with ...</td>\n",
       "      <td>2019-03-02T14:04:06.497Z</td>\n",
       "      <td>accounts/103081671806813149550/locations/10162...</td>\n",
       "    </tr>\n",
       "    <tr>\n",
       "      <td>2</td>\n",
       "      <td>FIVE</td>\n",
       "      <td>Great coffee, and the red velvet cake was quic...</td>\n",
       "      <td>2019-03-02T15:44:56.985Z</td>\n",
       "      <td>accounts/103081671806813149550/locations/10162...</td>\n",
       "    </tr>\n",
       "    <tr>\n",
       "      <td>3</td>\n",
       "      <td>FIVE</td>\n",
       "      <td>Great coffee. Excellent service, went during t...</td>\n",
       "      <td>2019-03-02T15:58:31.612Z</td>\n",
       "      <td>accounts/103081671806813149550/locations/10162...</td>\n",
       "    </tr>\n",
       "    <tr>\n",
       "      <td>4</td>\n",
       "      <td>FIVE</td>\n",
       "      <td>Cozy with delicious food!  Tried the charcoal ...</td>\n",
       "      <td>2019-03-02T16:08:02.908Z</td>\n",
       "      <td>accounts/103081671806813149550/locations/10162...</td>\n",
       "    </tr>\n",
       "    <tr>\n",
       "      <td>...</td>\n",
       "      <td>...</td>\n",
       "      <td>...</td>\n",
       "      <td>...</td>\n",
       "      <td>...</td>\n",
       "    </tr>\n",
       "    <tr>\n",
       "      <td>95</td>\n",
       "      <td>FIVE</td>\n",
       "      <td>Absolutely love this place! The staff is great...</td>\n",
       "      <td>2020-08-16T11:12:35.362Z</td>\n",
       "      <td>accounts/103081671806813149550/locations/10162...</td>\n",
       "    </tr>\n",
       "    <tr>\n",
       "      <td>96</td>\n",
       "      <td>FIVE</td>\n",
       "      <td>Staff are some of the most interesting and fri...</td>\n",
       "      <td>2020-08-17T18:23:04.249Z</td>\n",
       "      <td>accounts/103081671806813149550/locations/10162...</td>\n",
       "    </tr>\n",
       "    <tr>\n",
       "      <td>97</td>\n",
       "      <td>FIVE</td>\n",
       "      <td>Lovely place to relax and have a coffee. They ...</td>\n",
       "      <td>2020-08-20T07:42:04.657Z</td>\n",
       "      <td>accounts/103081671806813149550/locations/10162...</td>\n",
       "    </tr>\n",
       "    <tr>\n",
       "      <td>98</td>\n",
       "      <td>FIVE</td>\n",
       "      <td>Really good coffee. Very passionate about what...</td>\n",
       "      <td>2020-09-10T21:06:15.054Z</td>\n",
       "      <td>accounts/103081671806813149550/locations/10162...</td>\n",
       "    </tr>\n",
       "    <tr>\n",
       "      <td>99</td>\n",
       "      <td>FIVE</td>\n",
       "      <td>Fantastic coffee but been closed since covid. ...</td>\n",
       "      <td>2020-09-13T19:30:58.215Z</td>\n",
       "      <td>accounts/103081671806813149550/locations/10162...</td>\n",
       "    </tr>\n",
       "  </tbody>\n",
       "</table>\n",
       "<p>100 rows × 4 columns</p>\n",
       "</div>"
      ],
      "text/plain": [
       "   starRating                                            comment  \\\n",
       "0        FIVE                                                NaN   \n",
       "1        FIVE  Incredibly cosy and frieindly atmosphere with ...   \n",
       "2        FIVE  Great coffee, and the red velvet cake was quic...   \n",
       "3        FIVE  Great coffee. Excellent service, went during t...   \n",
       "4        FIVE  Cozy with delicious food!  Tried the charcoal ...   \n",
       "..        ...                                                ...   \n",
       "95       FIVE  Absolutely love this place! The staff is great...   \n",
       "96       FIVE  Staff are some of the most interesting and fri...   \n",
       "97       FIVE  Lovely place to relax and have a coffee. They ...   \n",
       "98       FIVE  Really good coffee. Very passionate about what...   \n",
       "99       FIVE  Fantastic coffee but been closed since covid. ...   \n",
       "\n",
       "                  createTime  \\\n",
       "0   2019-03-02T11:14:14.423Z   \n",
       "1   2019-03-02T14:04:06.497Z   \n",
       "2   2019-03-02T15:44:56.985Z   \n",
       "3   2019-03-02T15:58:31.612Z   \n",
       "4   2019-03-02T16:08:02.908Z   \n",
       "..                       ...   \n",
       "95  2020-08-16T11:12:35.362Z   \n",
       "96  2020-08-17T18:23:04.249Z   \n",
       "97  2020-08-20T07:42:04.657Z   \n",
       "98  2020-09-10T21:06:15.054Z   \n",
       "99  2020-09-13T19:30:58.215Z   \n",
       "\n",
       "                                                 name  \n",
       "0   accounts/103081671806813149550/locations/10162...  \n",
       "1   accounts/103081671806813149550/locations/10162...  \n",
       "2   accounts/103081671806813149550/locations/10162...  \n",
       "3   accounts/103081671806813149550/locations/10162...  \n",
       "4   accounts/103081671806813149550/locations/10162...  \n",
       "..                                                ...  \n",
       "95  accounts/103081671806813149550/locations/10162...  \n",
       "96  accounts/103081671806813149550/locations/10162...  \n",
       "97  accounts/103081671806813149550/locations/10162...  \n",
       "98  accounts/103081671806813149550/locations/10162...  \n",
       "99  accounts/103081671806813149550/locations/10162...  \n",
       "\n",
       "[100 rows x 4 columns]"
      ]
     },
     "execution_count": 66,
     "metadata": {},
     "output_type": "execute_result"
    }
   ],
   "source": [
    "pd.to_datetime(df['createTime'])\n",
    "df"
   ]
  },
  {
   "cell_type": "code",
   "execution_count": 202,
   "metadata": {},
   "outputs": [
    {
     "data": {
      "text/html": [
       "<div>\n",
       "<style scoped>\n",
       "    .dataframe tbody tr th:only-of-type {\n",
       "        vertical-align: middle;\n",
       "    }\n",
       "\n",
       "    .dataframe tbody tr th {\n",
       "        vertical-align: top;\n",
       "    }\n",
       "\n",
       "    .dataframe thead th {\n",
       "        text-align: right;\n",
       "    }\n",
       "</style>\n",
       "<table border=\"1\" class=\"dataframe\">\n",
       "  <thead>\n",
       "    <tr style=\"text-align: right;\">\n",
       "      <th></th>\n",
       "      <th>index</th>\n",
       "      <th>starRating</th>\n",
       "      <th>comment</th>\n",
       "      <th>createTime</th>\n",
       "      <th>name</th>\n",
       "    </tr>\n",
       "  </thead>\n",
       "  <tbody>\n",
       "    <tr>\n",
       "      <td>0</td>\n",
       "      <td>1</td>\n",
       "      <td>FIVE</td>\n",
       "      <td>Incredibly cosy and frieindly atmosphere with ...</td>\n",
       "      <td>2019-03-02 14:04:06.497000+00:00</td>\n",
       "      <td>accounts/103081671806813149550/locations/10162...</td>\n",
       "    </tr>\n",
       "    <tr>\n",
       "      <td>1</td>\n",
       "      <td>2</td>\n",
       "      <td>FIVE</td>\n",
       "      <td>Great coffee, and the red velvet cake was quic...</td>\n",
       "      <td>2019-03-02 15:44:56.985000+00:00</td>\n",
       "      <td>accounts/103081671806813149550/locations/10162...</td>\n",
       "    </tr>\n",
       "    <tr>\n",
       "      <td>2</td>\n",
       "      <td>3</td>\n",
       "      <td>FIVE</td>\n",
       "      <td>Great coffee. Excellent service, went during t...</td>\n",
       "      <td>2019-03-02 15:58:31.612000+00:00</td>\n",
       "      <td>accounts/103081671806813149550/locations/10162...</td>\n",
       "    </tr>\n",
       "    <tr>\n",
       "      <td>3</td>\n",
       "      <td>4</td>\n",
       "      <td>FIVE</td>\n",
       "      <td>Cozy with delicious food!  Tried the charcoal ...</td>\n",
       "      <td>2019-03-02 16:08:02.908000+00:00</td>\n",
       "      <td>accounts/103081671806813149550/locations/10162...</td>\n",
       "    </tr>\n",
       "    <tr>\n",
       "      <td>4</td>\n",
       "      <td>5</td>\n",
       "      <td>FIVE</td>\n",
       "      <td>I hate coffee but this place offers great tea ...</td>\n",
       "      <td>2019-03-02 16:43:07.317000+00:00</td>\n",
       "      <td>accounts/103081671806813149550/locations/10162...</td>\n",
       "    </tr>\n",
       "    <tr>\n",
       "      <td>...</td>\n",
       "      <td>...</td>\n",
       "      <td>...</td>\n",
       "      <td>...</td>\n",
       "      <td>...</td>\n",
       "      <td>...</td>\n",
       "    </tr>\n",
       "    <tr>\n",
       "      <td>71</td>\n",
       "      <td>95</td>\n",
       "      <td>FIVE</td>\n",
       "      <td>Absolutely love this place! The staff is great...</td>\n",
       "      <td>2020-08-16 11:12:35.362000+00:00</td>\n",
       "      <td>accounts/103081671806813149550/locations/10162...</td>\n",
       "    </tr>\n",
       "    <tr>\n",
       "      <td>72</td>\n",
       "      <td>96</td>\n",
       "      <td>FIVE</td>\n",
       "      <td>Staff are some of the most interesting and fri...</td>\n",
       "      <td>2020-08-17 18:23:04.249000+00:00</td>\n",
       "      <td>accounts/103081671806813149550/locations/10162...</td>\n",
       "    </tr>\n",
       "    <tr>\n",
       "      <td>73</td>\n",
       "      <td>97</td>\n",
       "      <td>FIVE</td>\n",
       "      <td>Lovely place to relax and have a coffee. They ...</td>\n",
       "      <td>2020-08-20 07:42:04.657000+00:00</td>\n",
       "      <td>accounts/103081671806813149550/locations/10162...</td>\n",
       "    </tr>\n",
       "    <tr>\n",
       "      <td>74</td>\n",
       "      <td>98</td>\n",
       "      <td>FIVE</td>\n",
       "      <td>Really good coffee. Very passionate about what...</td>\n",
       "      <td>2020-09-10 21:06:15.054000+00:00</td>\n",
       "      <td>accounts/103081671806813149550/locations/10162...</td>\n",
       "    </tr>\n",
       "    <tr>\n",
       "      <td>75</td>\n",
       "      <td>99</td>\n",
       "      <td>FIVE</td>\n",
       "      <td>Fantastic coffee but been closed since covid. ...</td>\n",
       "      <td>2020-09-13 19:30:58.215000+00:00</td>\n",
       "      <td>accounts/103081671806813149550/locations/10162...</td>\n",
       "    </tr>\n",
       "  </tbody>\n",
       "</table>\n",
       "<p>76 rows × 5 columns</p>\n",
       "</div>"
      ],
      "text/plain": [
       "    index starRating                                            comment  \\\n",
       "0       1       FIVE  Incredibly cosy and frieindly atmosphere with ...   \n",
       "1       2       FIVE  Great coffee, and the red velvet cake was quic...   \n",
       "2       3       FIVE  Great coffee. Excellent service, went during t...   \n",
       "3       4       FIVE  Cozy with delicious food!  Tried the charcoal ...   \n",
       "4       5       FIVE  I hate coffee but this place offers great tea ...   \n",
       "..    ...        ...                                                ...   \n",
       "71     95       FIVE  Absolutely love this place! The staff is great...   \n",
       "72     96       FIVE  Staff are some of the most interesting and fri...   \n",
       "73     97       FIVE  Lovely place to relax and have a coffee. They ...   \n",
       "74     98       FIVE  Really good coffee. Very passionate about what...   \n",
       "75     99       FIVE  Fantastic coffee but been closed since covid. ...   \n",
       "\n",
       "                         createTime  \\\n",
       "0  2019-03-02 14:04:06.497000+00:00   \n",
       "1  2019-03-02 15:44:56.985000+00:00   \n",
       "2  2019-03-02 15:58:31.612000+00:00   \n",
       "3  2019-03-02 16:08:02.908000+00:00   \n",
       "4  2019-03-02 16:43:07.317000+00:00   \n",
       "..                              ...   \n",
       "71 2020-08-16 11:12:35.362000+00:00   \n",
       "72 2020-08-17 18:23:04.249000+00:00   \n",
       "73 2020-08-20 07:42:04.657000+00:00   \n",
       "74 2020-09-10 21:06:15.054000+00:00   \n",
       "75 2020-09-13 19:30:58.215000+00:00   \n",
       "\n",
       "                                                 name  \n",
       "0   accounts/103081671806813149550/locations/10162...  \n",
       "1   accounts/103081671806813149550/locations/10162...  \n",
       "2   accounts/103081671806813149550/locations/10162...  \n",
       "3   accounts/103081671806813149550/locations/10162...  \n",
       "4   accounts/103081671806813149550/locations/10162...  \n",
       "..                                                ...  \n",
       "71  accounts/103081671806813149550/locations/10162...  \n",
       "72  accounts/103081671806813149550/locations/10162...  \n",
       "73  accounts/103081671806813149550/locations/10162...  \n",
       "74  accounts/103081671806813149550/locations/10162...  \n",
       "75  accounts/103081671806813149550/locations/10162...  \n",
       "\n",
       "[76 rows x 5 columns]"
      ]
     },
     "execution_count": 202,
     "metadata": {},
     "output_type": "execute_result"
    }
   ],
   "source": [
    "df['createTime'] = pd.to_datetime(df['createTime'])\n",
    "df"
   ]
  },
  {
   "cell_type": "markdown",
   "metadata": {},
   "source": [
    "### Preprocessing for nlp"
   ]
  },
  {
   "cell_type": "code",
   "execution_count": 68,
   "metadata": {},
   "outputs": [],
   "source": [
    "reviews = df.comment"
   ]
  },
  {
   "cell_type": "code",
   "execution_count": 70,
   "metadata": {},
   "outputs": [],
   "source": [
    "reviews.dropna(inplace=True)"
   ]
  },
  {
   "cell_type": "code",
   "execution_count": 74,
   "metadata": {},
   "outputs": [
    {
     "data": {
      "text/plain": [
       "[\"Incredibly cosy and frieindly atmosphere with the best coffee and cakes I've had! Definitely my new favourite place to go\",\n",
       " 'Great coffee, and the red velvet cake was quickly devoured by myself and the missus. Will be back very soon',\n",
       " 'Great coffee. Excellent service, went during their opening and they were raising money for Mind. Overall nice vibe would visit again.',\n",
       " \"Cozy with delicious food!  Tried the charcoal bun salami and truffler cheese and salad.  Staff are friendly and service is fast.  I loved the Pathfinder blend coffee, and the cheese and salami were very tasty.  I'd recommend this as a good place for a lazy Saturday to drink a coffee and people watch.  Will certainly be back soon!\",\n",
       " 'I hate coffee but this place offers great tea and food. I was having a bad day, but this place was exactly what I needed to cheer me up. The owners are really lovely, grew up in the area and warm. Highly recommend.',\n",
       " 'Amazing coffee and brownie, lovely owners and atmosphere!',\n",
       " 'Very good coffee and really nice staff! Highly recommended! I hope this place will grow! :)',\n",
       " \"Amazing coffee! The owner is great and conversational. Bonus that it's right by my workplace!\",\n",
       " 'Excellent coffee, great staff and a fun atmosphere.',\n",
       " 'Coming from Australia I am always seeking out a great coffee in London and I am so happy the best coffee in London has now come to Northfields. Every coffee I have had since they have opened is a cup of perfection. Worth making the trip to Northfields to taste their brew',\n",
       " 'Everything is good about this space.',\n",
       " 'Really friendly and the best coffee in Northfields.',\n",
       " 'Great new addition to the area, which seriously lacked good coffee 😏! Albeit a small space, the atmosphere is really welcoming and relaxed, lovely owners! Will definitely go back again.',\n",
       " 'Best coffee and cake had,lovely owenrs',\n",
       " 'Warm friendly atmosphere lovely selection of delicious savoury and sweet  foods. Directly opposite Northfields tube .recommend',\n",
       " 'What a find ! Fabulous new coffee shop in Northfields. Friendly atmosphere, lovely selection of food and the BEST coffee made by barista/ owner Louis.',\n",
       " 'Lovely staff, delicious food and beverages, chilled vibe.',\n",
       " 'Great Coffee and Great People :)',\n",
       " 'Lovely people, would go again',\n",
       " \"Keep in mind that it is super small, but that's the only issue as the coffee was great, and the food looks great too\",\n",
       " 'Fantastic chats and great European coffee. Highly knowledgeable about their craft.',\n",
       " 'Friendly humans and good coffee. Cant ask for more!',\n",
       " \"Very good coffee. Nice vibe. Friendly staff. What's not to like?\",\n",
       " \"It's rare in London to find a place like this where they actually make a coffee properly.\",\n",
       " 'Great coffee, cutsie place, really sociable, friendly vibe - thank you x',\n",
       " 'Definitely Best coffee for Mondays.',\n",
       " 'Impressive coffee!!!! Went to the Element coffee shop(just opposite Northfields tube station in London) this morning. The staff guy was treating everyone with respect including me. The coffee was not prepared in rush and the coffee taste was worth the wait. Will definitely visit again..✨👌',\n",
       " 'My favourite coffee and I believe the only specialist coffee in South Ealing/Northfields. Amazing pastries and cakes too. The owners Louis and Natalia are lovely!',\n",
       " 'Tried their Raspberry Lemonade CBD Tea, and it was absolutely delicious!! Paired along with the Pistachio loaf, I now feel very relaxed, full and happy!\\nWill be making this my regular morning stop on my way to work!',\n",
       " 'Awful coffee and rude staff. Never again',\n",
       " 'An exquisite place to go for coffee. The staff are very friendly and chatty, and the coffee and food are each top-notch. Coffee is also made quickly but also to perfection; ideal if you have limited time. I would recommend their chocolate brownies in particular; they are unlike anything else I have ever tasted.',\n",
       " 'Great food and coffee and an even better atmosphere, my new favourite place!',\n",
       " 'Amazing.',\n",
       " 'Excellent coffee. Wonderful flat whites. Vegan options. And very convenient to the E2 bus.',\n",
       " 'A newly opened independent place, with a cute decor, tasty coffee and some cakes. Also sells CBD products and you can have it with your coffee as well. Worth trying it out.',\n",
       " 'Great atmosphere, amazing energy and conversation. Coffee was A+++ !!',\n",
       " 'This super cozy coffee place is a Community meeting point, where inclusive and super welcoming atmosphere together with the unbeatable knowledge of Nat on coffee brews and baristas skills represent the highlight of the place. Highly recommended if you are around: I entered as a stranger, now I cannot wait to go back.',\n",
       " 'If you want people passionate about coffee...this is the place to go. Coffee is unreal and the staff are mega friendly',\n",
       " 'Great people, delicious single origin coffee, hot chocolate, tea',\n",
       " 'Good coffee',\n",
       " \"Just great, but tiny, so please don't tell anyone\",\n",
       " \"Great coffee, great food, amazing addition to West London's coffee scene\",\n",
       " \"It's our daily coffee start. A true community and family. You'll love starting your day here 😃👍☕️🥐\",\n",
       " 'Really friendly, welcoming and warm atmosphere in this lovely cafe. The coffee is made with lots of love and attention. High recommendations.',\n",
       " 'Lovely, friendly staff and definitely the best flat white around! A neighbourhood gem!',\n",
       " 'The most friendly - tiny - place. Outstanding coffee and a really knowledgeable teams.',\n",
       " 'Element Coffee is excellent. The owners are very skilled, knowledgeable, and friendly. The coffee selection (and preparation) is superb, the food offerings are delicious, and the prices are fair. The owners have put a tremendous amount of thought into every detail, and it makes for an outstanding experience. Definitely worth checking out.',\n",
       " 'love Element Coffee and the staff are lovely and welcoming best coffee in Northfields by far',\n",
       " 'Always excellent coffee and always friendly staff + great vibe :D',\n",
       " 'I absolutely adore this coffee shop! I work in a busy NHS dental practice and I would not make it through my day without the amazing coffee and wonderful service from this cafe. Keep up the amazing work! It’s always lovely to see a happy face in the morning, the entire staff at element coffee are always cheerful, helpful, and always brighten up my day.',\n",
       " 'If you are out and about Northfields station, show them some love. Great ambience, great music, great service. We felt transported to Provincetown.',\n",
       " \"Cute coffee shop and lovely staff, coffee is amazing and they're very on top of new trends and food is great quality, highly recommend to anyone.\",\n",
       " \"Lovely atmosphere, staff are super friendly and wonderful people. Lovely range of food and drinks. I can't wait to come back.\",\n",
       " 'Amazing coffee and snacks you must popin...',\n",
       " 'Vgood service and v good coffee and cake',\n",
       " 'Great coffee, great people.',\n",
       " 'Great coffee shop with lovely staff and amazing cakes.',\n",
       " 'Coffee if fantastic! Which as an Aussie I have sometimes struggled to find here outside the city. Food also great and lovely barista! Definitely going back!',\n",
       " 'New place, good coffee, food enjoyable',\n",
       " 'Great coffee.',\n",
       " 'Best coffee , nice little place and friendly owners',\n",
       " \"This place is amazing. The staff are always friendly and welcoming. The coffee is always fresh and delicious, and there's always a tasty variety of teas as well as desserts and savoury food (vegan and other wise!).\\nIt's a great cosy venue on a winter rainy day, but also lovely in the summer when you can sit outside and pet the local dogs that walk by ❤️🐶\\nHighly recommend!\",\n",
       " 'A neighborhood gem, the coffee is great and the staff are extremely friendly. The best local cafe.',\n",
       " 'Lovely cafe, tasty coffee and snacks.',\n",
       " 'Best cafe in Northfields. Few peers in Ealing. The staff are brilliant. In Michelan stars terms, it is worth a detour.',\n",
       " 'On my walk, I have noticed that little cafe. A really cosy place and delicious coffee. I’ll definitely come back to that place to have something to eat.',\n",
       " 'The worst, most overpriced coffee in Ealing.',\n",
       " \"Amazing coffee and amazing staff, with dairy-free options available. The coffee shop has a great chilled-out vibe too. Some lovely cakes and treats available too with a fair few options for those with dietary requests/allergies. Conveniently located over the road from Northfields Station too (and directly next to the Ealing-bound E2/E3 bus stop), so there really is no excuse to skip this place if you're after decent coffee.\\n\\nUpdate 13/03/2020: The shop continues to go from strength to strength. One year since opening and the range of fresh food and coffee has greatly expanded and Nat and Louis have done great things with the shop, such as opening a little stand selling curated items, coffee, CBD products and small gifts. Nothing has changed in terms of the relaxed and friendly atmosphere, and I hope this place stays a good while yet.\",\n",
       " 'Great drinks and staff.',\n",
       " 'This is a great little place...serving their own delicious coffee microbrewed locally.Four different delicious roasts.Lovely selection of sandwiches,a daily salad,baked goods,muffins and cake.Lovely owners Louis and Nat.Highly recommend.',\n",
       " 'Great coffee, great food, and great staff!\\n\\nNow great coffee to make at home from their excellent roastery!',\n",
       " 'Absolutely love this place! The staff is great and the coffee and snacks are fantastic. Definitely one of my favourite places to get a caffeine fix.',\n",
       " 'Staff are some of the most interesting and friendly people you could ever hope to meet. Great place to spend an afternoon.',\n",
       " 'Lovely place to relax and have a coffee. They really know their stuff when it comes to coffee and the food delicacies have really been thought about. Makes a change from the large coffee chains full of laptops and generic food, this is where you find quality coffee with a nice environment to relax!',\n",
       " 'Really good coffee. Very passionate about what they do.',\n",
       " 'Fantastic coffee but been closed since covid.  Rumour is they won the lotto and retired in Caribbean.']"
      ]
     },
     "execution_count": 74,
     "metadata": {},
     "output_type": "execute_result"
    }
   ],
   "source": [
    "reviews = list(reviews)\n",
    "reviews"
   ]
  },
  {
   "cell_type": "markdown",
   "metadata": {},
   "source": [
    "### NLP Sentiment-Analysis with Transformers Library"
   ]
  },
  {
   "cell_type": "code",
   "execution_count": 76,
   "metadata": {},
   "outputs": [],
   "source": [
    "classifier = pipeline(\"sentiment-analysis\")"
   ]
  },
  {
   "cell_type": "code",
   "execution_count": 84,
   "metadata": {},
   "outputs": [],
   "source": [
    "results = classifier(reviews)\n",
    "# def nlp_labels(results):\n",
    "#     nlp_results = []\n",
    "#     for result in results:\n",
    "#         nlp_results.append(f\"label: {result['label']}, with score: {round(result['score'], 4)}\")\n",
    "#     return nlp_results\n",
    "# review_labels = nlp_labels(results)"
   ]
  },
  {
   "cell_type": "code",
   "execution_count": 110,
   "metadata": {},
   "outputs": [],
   "source": [
    "# review_labels # maybe make these dict? to be able to make a df out of it?\n",
    "nlp_results_df = pd.DataFrame(results)"
   ]
  },
  {
   "cell_type": "code",
   "execution_count": 93,
   "metadata": {},
   "outputs": [],
   "source": [
    "# nlp_df = df.dropna(how='any', subset=['comment'], inplace=True)"
   ]
  },
  {
   "cell_type": "code",
   "execution_count": 107,
   "metadata": {},
   "outputs": [
    {
     "data": {
      "text/plain": [
       "(76, 4)"
      ]
     },
     "execution_count": 107,
     "metadata": {},
     "output_type": "execute_result"
    }
   ],
   "source": [
    "df.shape # the right shape for the df to take nlp results is 76, 4"
   ]
  },
  {
   "cell_type": "code",
   "execution_count": 148,
   "metadata": {},
   "outputs": [],
   "source": [
    "nlp_results_df.reset_index(inplace=True)"
   ]
  },
  {
   "cell_type": "code",
   "execution_count": 144,
   "metadata": {},
   "outputs": [],
   "source": [
    "df.reset_index(inplace=True)"
   ]
  },
  {
   "cell_type": "code",
   "execution_count": 155,
   "metadata": {},
   "outputs": [],
   "source": [
    "nlp_results_df.drop(columns='index', inplace=True)"
   ]
  },
  {
   "cell_type": "code",
   "execution_count": 156,
   "metadata": {},
   "outputs": [],
   "source": [
    "final_df = df.join(nlp_results_df)"
   ]
  },
  {
   "cell_type": "code",
   "execution_count": 204,
   "metadata": {},
   "outputs": [],
   "source": [
    "final_df['createTime'] = pd.to_datetime(final_df['createTime']).dt.date"
   ]
  },
  {
   "cell_type": "code",
   "execution_count": 205,
   "metadata": {},
   "outputs": [
    {
     "data": {
      "text/html": [
       "<div>\n",
       "<style scoped>\n",
       "    .dataframe tbody tr th:only-of-type {\n",
       "        vertical-align: middle;\n",
       "    }\n",
       "\n",
       "    .dataframe tbody tr th {\n",
       "        vertical-align: top;\n",
       "    }\n",
       "\n",
       "    .dataframe thead th {\n",
       "        text-align: right;\n",
       "    }\n",
       "</style>\n",
       "<table border=\"1\" class=\"dataframe\">\n",
       "  <thead>\n",
       "    <tr style=\"text-align: right;\">\n",
       "      <th></th>\n",
       "      <th>index</th>\n",
       "      <th>starRating</th>\n",
       "      <th>comment</th>\n",
       "      <th>createTime</th>\n",
       "      <th>name</th>\n",
       "      <th>label</th>\n",
       "      <th>score</th>\n",
       "    </tr>\n",
       "  </thead>\n",
       "  <tbody>\n",
       "    <tr>\n",
       "      <td>0</td>\n",
       "      <td>1</td>\n",
       "      <td>FIVE</td>\n",
       "      <td>Incredibly cosy and frieindly atmosphere with ...</td>\n",
       "      <td>2019-03-02</td>\n",
       "      <td>accounts/103081671806813149550/locations/10162...</td>\n",
       "      <td>POSITIVE</td>\n",
       "      <td>0.999793</td>\n",
       "    </tr>\n",
       "    <tr>\n",
       "      <td>1</td>\n",
       "      <td>2</td>\n",
       "      <td>FIVE</td>\n",
       "      <td>Great coffee, and the red velvet cake was quic...</td>\n",
       "      <td>2019-03-02</td>\n",
       "      <td>accounts/103081671806813149550/locations/10162...</td>\n",
       "      <td>POSITIVE</td>\n",
       "      <td>0.996087</td>\n",
       "    </tr>\n",
       "    <tr>\n",
       "      <td>2</td>\n",
       "      <td>3</td>\n",
       "      <td>FIVE</td>\n",
       "      <td>Great coffee. Excellent service, went during t...</td>\n",
       "      <td>2019-03-02</td>\n",
       "      <td>accounts/103081671806813149550/locations/10162...</td>\n",
       "      <td>POSITIVE</td>\n",
       "      <td>0.999741</td>\n",
       "    </tr>\n",
       "    <tr>\n",
       "      <td>3</td>\n",
       "      <td>4</td>\n",
       "      <td>FIVE</td>\n",
       "      <td>Cozy with delicious food!  Tried the charcoal ...</td>\n",
       "      <td>2019-03-02</td>\n",
       "      <td>accounts/103081671806813149550/locations/10162...</td>\n",
       "      <td>POSITIVE</td>\n",
       "      <td>0.999793</td>\n",
       "    </tr>\n",
       "    <tr>\n",
       "      <td>4</td>\n",
       "      <td>5</td>\n",
       "      <td>FIVE</td>\n",
       "      <td>I hate coffee but this place offers great tea ...</td>\n",
       "      <td>2019-03-02</td>\n",
       "      <td>accounts/103081671806813149550/locations/10162...</td>\n",
       "      <td>POSITIVE</td>\n",
       "      <td>0.999868</td>\n",
       "    </tr>\n",
       "    <tr>\n",
       "      <td>...</td>\n",
       "      <td>...</td>\n",
       "      <td>...</td>\n",
       "      <td>...</td>\n",
       "      <td>...</td>\n",
       "      <td>...</td>\n",
       "      <td>...</td>\n",
       "      <td>...</td>\n",
       "    </tr>\n",
       "    <tr>\n",
       "      <td>71</td>\n",
       "      <td>95</td>\n",
       "      <td>FIVE</td>\n",
       "      <td>Absolutely love this place! The staff is great...</td>\n",
       "      <td>2020-08-16</td>\n",
       "      <td>accounts/103081671806813149550/locations/10162...</td>\n",
       "      <td>POSITIVE</td>\n",
       "      <td>0.999882</td>\n",
       "    </tr>\n",
       "    <tr>\n",
       "      <td>72</td>\n",
       "      <td>96</td>\n",
       "      <td>FIVE</td>\n",
       "      <td>Staff are some of the most interesting and fri...</td>\n",
       "      <td>2020-08-17</td>\n",
       "      <td>accounts/103081671806813149550/locations/10162...</td>\n",
       "      <td>POSITIVE</td>\n",
       "      <td>0.999870</td>\n",
       "    </tr>\n",
       "    <tr>\n",
       "      <td>73</td>\n",
       "      <td>97</td>\n",
       "      <td>FIVE</td>\n",
       "      <td>Lovely place to relax and have a coffee. They ...</td>\n",
       "      <td>2020-08-20</td>\n",
       "      <td>accounts/103081671806813149550/locations/10162...</td>\n",
       "      <td>POSITIVE</td>\n",
       "      <td>0.999735</td>\n",
       "    </tr>\n",
       "    <tr>\n",
       "      <td>74</td>\n",
       "      <td>98</td>\n",
       "      <td>FIVE</td>\n",
       "      <td>Really good coffee. Very passionate about what...</td>\n",
       "      <td>2020-09-10</td>\n",
       "      <td>accounts/103081671806813149550/locations/10162...</td>\n",
       "      <td>POSITIVE</td>\n",
       "      <td>0.999881</td>\n",
       "    </tr>\n",
       "    <tr>\n",
       "      <td>75</td>\n",
       "      <td>99</td>\n",
       "      <td>FIVE</td>\n",
       "      <td>Fantastic coffee but been closed since covid. ...</td>\n",
       "      <td>2020-09-13</td>\n",
       "      <td>accounts/103081671806813149550/locations/10162...</td>\n",
       "      <td>NEGATIVE</td>\n",
       "      <td>0.826600</td>\n",
       "    </tr>\n",
       "  </tbody>\n",
       "</table>\n",
       "<p>76 rows × 7 columns</p>\n",
       "</div>"
      ],
      "text/plain": [
       "    index starRating                                            comment  \\\n",
       "0       1       FIVE  Incredibly cosy and frieindly atmosphere with ...   \n",
       "1       2       FIVE  Great coffee, and the red velvet cake was quic...   \n",
       "2       3       FIVE  Great coffee. Excellent service, went during t...   \n",
       "3       4       FIVE  Cozy with delicious food!  Tried the charcoal ...   \n",
       "4       5       FIVE  I hate coffee but this place offers great tea ...   \n",
       "..    ...        ...                                                ...   \n",
       "71     95       FIVE  Absolutely love this place! The staff is great...   \n",
       "72     96       FIVE  Staff are some of the most interesting and fri...   \n",
       "73     97       FIVE  Lovely place to relax and have a coffee. They ...   \n",
       "74     98       FIVE  Really good coffee. Very passionate about what...   \n",
       "75     99       FIVE  Fantastic coffee but been closed since covid. ...   \n",
       "\n",
       "    createTime                                               name     label  \\\n",
       "0   2019-03-02  accounts/103081671806813149550/locations/10162...  POSITIVE   \n",
       "1   2019-03-02  accounts/103081671806813149550/locations/10162...  POSITIVE   \n",
       "2   2019-03-02  accounts/103081671806813149550/locations/10162...  POSITIVE   \n",
       "3   2019-03-02  accounts/103081671806813149550/locations/10162...  POSITIVE   \n",
       "4   2019-03-02  accounts/103081671806813149550/locations/10162...  POSITIVE   \n",
       "..         ...                                                ...       ...   \n",
       "71  2020-08-16  accounts/103081671806813149550/locations/10162...  POSITIVE   \n",
       "72  2020-08-17  accounts/103081671806813149550/locations/10162...  POSITIVE   \n",
       "73  2020-08-20  accounts/103081671806813149550/locations/10162...  POSITIVE   \n",
       "74  2020-09-10  accounts/103081671806813149550/locations/10162...  POSITIVE   \n",
       "75  2020-09-13  accounts/103081671806813149550/locations/10162...  NEGATIVE   \n",
       "\n",
       "       score  \n",
       "0   0.999793  \n",
       "1   0.996087  \n",
       "2   0.999741  \n",
       "3   0.999793  \n",
       "4   0.999868  \n",
       "..       ...  \n",
       "71  0.999882  \n",
       "72  0.999870  \n",
       "73  0.999735  \n",
       "74  0.999881  \n",
       "75  0.826600  \n",
       "\n",
       "[76 rows x 7 columns]"
      ]
     },
     "execution_count": 205,
     "metadata": {},
     "output_type": "execute_result"
    }
   ],
   "source": [
    "final_df"
   ]
  },
  {
   "cell_type": "code",
   "execution_count": 206,
   "metadata": {},
   "outputs": [
    {
     "data": {
      "text/html": [
       "<div>\n",
       "<style scoped>\n",
       "    .dataframe tbody tr th:only-of-type {\n",
       "        vertical-align: middle;\n",
       "    }\n",
       "\n",
       "    .dataframe tbody tr th {\n",
       "        vertical-align: top;\n",
       "    }\n",
       "\n",
       "    .dataframe thead th {\n",
       "        text-align: right;\n",
       "    }\n",
       "</style>\n",
       "<table border=\"1\" class=\"dataframe\">\n",
       "  <thead>\n",
       "    <tr style=\"text-align: right;\">\n",
       "      <th></th>\n",
       "      <th>index</th>\n",
       "      <th>starRating</th>\n",
       "      <th>comment</th>\n",
       "      <th>createTime</th>\n",
       "      <th>name</th>\n",
       "      <th>label</th>\n",
       "      <th>score</th>\n",
       "    </tr>\n",
       "  </thead>\n",
       "  <tbody>\n",
       "    <tr>\n",
       "      <td>29</td>\n",
       "      <td>37</td>\n",
       "      <td>ONE</td>\n",
       "      <td>Awful coffee and rude staff. Never again</td>\n",
       "      <td>2019-06-26</td>\n",
       "      <td>accounts/103081671806813149550/locations/10162...</td>\n",
       "      <td>NEGATIVE</td>\n",
       "      <td>0.999407</td>\n",
       "    </tr>\n",
       "    <tr>\n",
       "      <td>40</td>\n",
       "      <td>50</td>\n",
       "      <td>FIVE</td>\n",
       "      <td>Just great, but tiny, so please don't tell anyone</td>\n",
       "      <td>2019-08-15</td>\n",
       "      <td>accounts/103081671806813149550/locations/10162...</td>\n",
       "      <td>NEGATIVE</td>\n",
       "      <td>0.590078</td>\n",
       "    </tr>\n",
       "    <tr>\n",
       "      <td>66</td>\n",
       "      <td>88</td>\n",
       "      <td>ONE</td>\n",
       "      <td>The worst, most overpriced coffee in Ealing.</td>\n",
       "      <td>2020-03-04</td>\n",
       "      <td>accounts/103081671806813149550/locations/10162...</td>\n",
       "      <td>NEGATIVE</td>\n",
       "      <td>0.999781</td>\n",
       "    </tr>\n",
       "    <tr>\n",
       "      <td>75</td>\n",
       "      <td>99</td>\n",
       "      <td>FIVE</td>\n",
       "      <td>Fantastic coffee but been closed since covid. ...</td>\n",
       "      <td>2020-09-13</td>\n",
       "      <td>accounts/103081671806813149550/locations/10162...</td>\n",
       "      <td>NEGATIVE</td>\n",
       "      <td>0.826600</td>\n",
       "    </tr>\n",
       "  </tbody>\n",
       "</table>\n",
       "</div>"
      ],
      "text/plain": [
       "    index starRating                                            comment  \\\n",
       "29     37        ONE           Awful coffee and rude staff. Never again   \n",
       "40     50       FIVE  Just great, but tiny, so please don't tell anyone   \n",
       "66     88        ONE       The worst, most overpriced coffee in Ealing.   \n",
       "75     99       FIVE  Fantastic coffee but been closed since covid. ...   \n",
       "\n",
       "    createTime                                               name     label  \\\n",
       "29  2019-06-26  accounts/103081671806813149550/locations/10162...  NEGATIVE   \n",
       "40  2019-08-15  accounts/103081671806813149550/locations/10162...  NEGATIVE   \n",
       "66  2020-03-04  accounts/103081671806813149550/locations/10162...  NEGATIVE   \n",
       "75  2020-09-13  accounts/103081671806813149550/locations/10162...  NEGATIVE   \n",
       "\n",
       "       score  \n",
       "29  0.999407  \n",
       "40  0.590078  \n",
       "66  0.999781  \n",
       "75  0.826600  "
      ]
     },
     "execution_count": 206,
     "metadata": {},
     "output_type": "execute_result"
    }
   ],
   "source": [
    "final_df.loc[final_df['label'] == 'NEGATIVE']"
   ]
  },
  {
   "cell_type": "code",
   "execution_count": 207,
   "metadata": {},
   "outputs": [
    {
     "data": {
      "text/plain": [
       "(array([ 1.,  0.,  0.,  0.,  0.,  1.,  0.,  0.,  0., 74.]),\n",
       " array([0.59007847, 0.63105941, 0.67204036, 0.7130213 , 0.75400224,\n",
       "        0.79498318, 0.83596412, 0.87694506, 0.917926  , 0.95890694,\n",
       "        0.99988788]),\n",
       " <a list of 10 Patch objects>)"
      ]
     },
     "execution_count": 207,
     "metadata": {},
     "output_type": "execute_result"
    },
    {
     "data": {
      "image/png": "[encoded data removed]",
      "text/plain": [
       "<Figure size 432x288 with 1 Axes>"
      ]
     },
     "metadata": {
      "needs_background": "light"
     },
     "output_type": "display_data"
    }
   ],
   "source": [
    "plt.hist(final_df['score'])"
   ]
  },
  {
   "cell_type": "code",
   "execution_count": 171,
   "metadata": {},
   "outputs": [
    {
     "data": {
      "text/plain": [
       "(array([72.,  0.,  0.,  0.,  0.,  0.,  0.,  0.,  0.,  4.]),\n",
       " array([0. , 0.1, 0.2, 0.3, 0.4, 0.5, 0.6, 0.7, 0.8, 0.9, 1. ]),\n",
       " <a list of 10 Patch objects>)"
      ]
     },
     "execution_count": 171,
     "metadata": {},
     "output_type": "execute_result"
    },
    {
     "data": {
      "image/png": "[encoded data removed]",
      "text/plain": [
       "<Figure size 432x288 with 1 Axes>"
      ]
     },
     "metadata": {
      "needs_background": "light"
     },
     "output_type": "display_data"
    }
   ],
   "source": [
    "plt.hist(final_df['label'])\n",
    "plt.title"
   ]
  },
  {
   "cell_type": "code",
   "execution_count": 175,
   "metadata": {},
   "outputs": [
    {
     "data": {
      "text/plain": [
       "(array([71.,  0.,  0.,  0.,  0.,  3.,  0.,  0.,  0.,  2.]),\n",
       " array([0. , 0.2, 0.4, 0.6, 0.8, 1. , 1.2, 1.4, 1.6, 1.8, 2. ]),\n",
       " <a list of 10 Patch objects>)"
      ]
     },
     "execution_count": 175,
     "metadata": {},
     "output_type": "execute_result"
    },
    {
     "data": {
      "image/png": "[encoded data removed]",
      "text/plain": [
       "<Figure size 432x288 with 1 Axes>"
      ]
     },
     "metadata": {
      "needs_background": "light"
     },
     "output_type": "display_data"
    }
   ],
   "source": [
    "plt.hist(final_df['starRating'])"
   ]
  },
  {
   "cell_type": "code",
   "execution_count": 213,
   "metadata": {},
   "outputs": [
    {
     "data": {
      "text/plain": [
       "Text(0, 0.5, 'Review Score')"
      ]
     },
     "execution_count": 213,
     "metadata": {},
     "output_type": "execute_result"
    },
    {
     "data": {
      "image/png": "[encoded data removed]",
      "text/plain": [
       "<Figure size 1080x720 with 1 Axes>"
      ]
     },
     "metadata": {
      "needs_background": "light"
     },
     "output_type": "display_data"
    }
   ],
   "source": [
    "plt.figure(figsize=(15,10))\n",
    "plt.plot(final_df['createTime'], final_df['score'])\n",
    "plt.title('Review Score over time')\n",
    "plt.xticks(rotation=90)\n",
    "plt.xlabel(\"Date\")\n",
    "plt.ylabel(\"Review Score\")"
   ]
  },
  {
   "cell_type": "code",
   "execution_count": 172,
   "metadata": {},
   "outputs": [
    {
     "data": {
      "text/plain": [
       "[{'label': 'POSITIVE', 'score': 0.9997926354408264},\n",
       " {'label': 'POSITIVE', 'score': 0.9960873126983643},\n",
       " {'label': 'POSITIVE', 'score': 0.9997410774230957},\n",
       " {'label': 'POSITIVE', 'score': 0.9997931718826294},\n",
       " {'label': 'POSITIVE', 'score': 0.9998675584793091},\n",
       " {'label': 'POSITIVE', 'score': 0.9998859167098999},\n",
       " {'label': 'POSITIVE', 'score': 0.9998655319213867},\n",
       " {'label': 'POSITIVE', 'score': 0.9998761415481567},\n",
       " {'label': 'POSITIVE', 'score': 0.9998875260353088},\n",
       " {'label': 'POSITIVE', 'score': 0.9998487830162048},\n",
       " {'label': 'POSITIVE', 'score': 0.9998602867126465},\n",
       " {'label': 'POSITIVE', 'score': 0.9998408555984497},\n",
       " {'label': 'POSITIVE', 'score': 0.9987800717353821},\n",
       " {'label': 'POSITIVE', 'score': 0.9997385144233704},\n",
       " {'label': 'POSITIVE', 'score': 0.9998398423194885},\n",
       " {'label': 'POSITIVE', 'score': 0.9998830556869507},\n",
       " {'label': 'POSITIVE', 'score': 0.9998809695243835},\n",
       " {'label': 'POSITIVE', 'score': 0.9998055696487427},\n",
       " {'label': 'POSITIVE', 'score': 0.9998483061790466},\n",
       " {'label': 'POSITIVE', 'score': 0.9945133924484253},\n",
       " {'label': 'POSITIVE', 'score': 0.9998631477355957},\n",
       " {'label': 'POSITIVE', 'score': 0.997107744216919},\n",
       " {'label': 'POSITIVE', 'score': 0.9998485445976257},\n",
       " {'label': 'POSITIVE', 'score': 0.9982346892356873},\n",
       " {'label': 'POSITIVE', 'score': 0.9998477697372437},\n",
       " {'label': 'POSITIVE', 'score': 0.9995139241218567},\n",
       " {'label': 'POSITIVE', 'score': 0.9993488192558289},\n",
       " {'label': 'POSITIVE', 'score': 0.9995166063308716},\n",
       " {'label': 'POSITIVE', 'score': 0.9998778700828552},\n",
       " {'label': 'NEGATIVE', 'score': 0.9994072914123535},\n",
       " {'label': 'POSITIVE', 'score': 0.9997785091400146},\n",
       " {'label': 'POSITIVE', 'score': 0.9998771548271179},\n",
       " {'label': 'POSITIVE', 'score': 0.999868631362915},\n",
       " {'label': 'POSITIVE', 'score': 0.9995959401130676},\n",
       " {'label': 'POSITIVE', 'score': 0.9997690916061401},\n",
       " {'label': 'POSITIVE', 'score': 0.9998877048492432},\n",
       " {'label': 'POSITIVE', 'score': 0.9995039701461792},\n",
       " {'label': 'POSITIVE', 'score': 0.9889203906059265},\n",
       " {'label': 'POSITIVE', 'score': 0.9998820424079895},\n",
       " {'label': 'POSITIVE', 'score': 0.9998444318771362},\n",
       " {'label': 'NEGATIVE', 'score': 0.5900784730911255},\n",
       " {'label': 'POSITIVE', 'score': 0.999884307384491},\n",
       " {'label': 'POSITIVE', 'score': 0.9997711181640625},\n",
       " {'label': 'POSITIVE', 'score': 0.9998878836631775},\n",
       " {'label': 'POSITIVE', 'score': 0.999885082244873},\n",
       " {'label': 'POSITIVE', 'score': 0.9998700618743896},\n",
       " {'label': 'POSITIVE', 'score': 0.9998875260353088},\n",
       " {'label': 'POSITIVE', 'score': 0.9998713135719299},\n",
       " {'label': 'POSITIVE', 'score': 0.9998641610145569},\n",
       " {'label': 'POSITIVE', 'score': 0.9998605847358704},\n",
       " {'label': 'POSITIVE', 'score': 0.9998062252998352},\n",
       " {'label': 'POSITIVE', 'score': 0.9998878240585327},\n",
       " {'label': 'POSITIVE', 'score': 0.9998819231987},\n",
       " {'label': 'POSITIVE', 'score': 0.999879002571106},\n",
       " {'label': 'POSITIVE', 'score': 0.9840934872627258},\n",
       " {'label': 'POSITIVE', 'score': 0.9998685717582703},\n",
       " {'label': 'POSITIVE', 'score': 0.9998831748962402},\n",
       " {'label': 'POSITIVE', 'score': 0.9998371601104736},\n",
       " {'label': 'POSITIVE', 'score': 0.9998822808265686},\n",
       " {'label': 'POSITIVE', 'score': 0.9998412728309631},\n",
       " {'label': 'POSITIVE', 'score': 0.9998500943183899},\n",
       " {'label': 'POSITIVE', 'score': 0.9998556971549988},\n",
       " {'label': 'POSITIVE', 'score': 0.9998832941055298},\n",
       " {'label': 'POSITIVE', 'score': 0.9998811483383179},\n",
       " {'label': 'POSITIVE', 'score': 0.9997375011444092},\n",
       " {'label': 'POSITIVE', 'score': 0.9996410608291626},\n",
       " {'label': 'NEGATIVE', 'score': 0.9997810125350952},\n",
       " {'label': 'POSITIVE', 'score': 0.9975509643554688},\n",
       " {'label': 'POSITIVE', 'score': 0.9998598694801331},\n",
       " {'label': 'POSITIVE', 'score': 0.9998733401298523},\n",
       " {'label': 'POSITIVE', 'score': 0.9998640418052673},\n",
       " {'label': 'POSITIVE', 'score': 0.9998822808265686},\n",
       " {'label': 'POSITIVE', 'score': 0.9998700022697449},\n",
       " {'label': 'POSITIVE', 'score': 0.9997354745864868},\n",
       " {'label': 'POSITIVE', 'score': 0.9998809099197388},\n",
       " {'label': 'NEGATIVE', 'score': 0.8266004323959351}]"
      ]
     },
     "execution_count": 172,
     "metadata": {},
     "output_type": "execute_result"
    }
   ],
   "source": [
    "results"
   ]
  },
  {
   "cell_type": "code",
   "execution_count": 179,
   "metadata": {},
   "outputs": [
    {
     "data": {
      "text/plain": [
       "0.9992185019784503"
      ]
     },
     "execution_count": 179,
     "metadata": {},
     "output_type": "execute_result"
    }
   ],
   "source": [
    "np.mean(final_df['score'].where(final_df['label']=='POSITIVE'))"
   ]
  },
  {
   "cell_type": "code",
   "execution_count": 180,
   "metadata": {},
   "outputs": [
    {
     "data": {
      "text/plain": [
       "0.8539668023586273"
      ]
     },
     "execution_count": 180,
     "metadata": {},
     "output_type": "execute_result"
    }
   ],
   "source": [
    "np.mean(final_df['score'].where(final_df['label']=='NEGATIVE'))"
   ]
  },
  {
   "cell_type": "code",
   "execution_count": 188,
   "metadata": {},
   "outputs": [
    {
     "data": {
      "text/plain": [
       "FIVE    71\n",
       "FOUR     3\n",
       "ONE      2\n",
       "Name: starRating, dtype: int64"
      ]
     },
     "execution_count": 188,
     "metadata": {},
     "output_type": "execute_result"
    }
   ],
   "source": [
    "df['starRating'].value_counts()"
   ]
  },
  {
   "cell_type": "code",
   "execution_count": 218,
   "metadata": {},
   "outputs": [
    {
     "data": {
      "text/plain": [
       "0     NaN\n",
       "1     NaN\n",
       "2     NaN\n",
       "3     NaN\n",
       "4     NaN\n",
       "     ... \n",
       "71    NaN\n",
       "72    NaN\n",
       "73    NaN\n",
       "74    NaN\n",
       "75    NaN\n",
       "Name: comment, Length: 76, dtype: object"
      ]
     },
     "execution_count": 218,
     "metadata": {},
     "output_type": "execute_result"
    }
   ],
   "source": [
    "final_df['comment'].where(final_df['score'] < 0.8)"
   ]
  },
  {
   "cell_type": "markdown",
   "metadata": {},
   "source": [
    "## Wordcloud generation with Wordcloud:"
   ]
  },
  {
   "cell_type": "code",
   "execution_count": 240,
   "metadata": {},
   "outputs": [],
   "source": [
    "from PIL import Image\n",
    "from wordcloud import WordCloud, STOPWORDS, ImageColorGenerator"
   ]
  },
  {
   "cell_type": "code",
   "execution_count": 241,
   "metadata": {},
   "outputs": [
    {
     "data": {
      "image/png": "[encoded data removed]",
      "text/plain": [
       "<Figure size 432x288 with 1 Axes>"
      ]
     },
     "metadata": {
      "needs_background": "light"
     },
     "output_type": "display_data"
    }
   ],
   "source": [
    "# Start with one review:\n",
    "text = final_df.comment[0]\n",
    "\n",
    "# Create and generate a word cloud image:\n",
    "wordcloud = WordCloud(max_font_size= 70, max_words=100, background_color=\"white\").generate(text)\n",
    "\n",
    "# Display the generated image:\n",
    "plt.imshow(wordcloud, interpolation='bilinear')\n",
    "plt.axis(\"off\")\n",
    "plt.show()"
   ]
  },
  {
   "cell_type": "code",
   "execution_count": 243,
   "metadata": {},
   "outputs": [
    {
     "ename": "FileNotFoundError",
     "evalue": "[Errno 2] No such file or directory: 'img/first_review.png'",
     "output_type": "error",
     "traceback": [
      "\u001b[1;31m---------------------------------------------------------------------------\u001b[0m",
      "\u001b[1;31mFileNotFoundError\u001b[0m                         Traceback (most recent call last)",
      "\u001b[1;32m<ipython-input-243-9a69f675eae9>\u001b[0m in \u001b[0;36m<module>\u001b[1;34m\u001b[0m\n\u001b[1;32m----> 1\u001b[1;33m \u001b[0mwordcloud\u001b[0m\u001b[1;33m.\u001b[0m\u001b[0mto_file\u001b[0m\u001b[1;33m(\u001b[0m\u001b[1;34m\"img/first_review.png\"\u001b[0m\u001b[1;33m)\u001b[0m\u001b[1;33m\u001b[0m\u001b[1;33m\u001b[0m\u001b[0m\n\u001b[0m",
      "\u001b[1;32m~\\anaconda3\\envs\\learn-env\\lib\\site-packages\\wordcloud\\wordcloud.py\u001b[0m in \u001b[0;36mto_file\u001b[1;34m(self, filename)\u001b[0m\n\u001b[0;32m    716\u001b[0m \u001b[1;33m\u001b[0m\u001b[0m\n\u001b[0;32m    717\u001b[0m         \u001b[0mimg\u001b[0m \u001b[1;33m=\u001b[0m \u001b[0mself\u001b[0m\u001b[1;33m.\u001b[0m\u001b[0mto_image\u001b[0m\u001b[1;33m(\u001b[0m\u001b[1;33m)\u001b[0m\u001b[1;33m\u001b[0m\u001b[1;33m\u001b[0m\u001b[0m\n\u001b[1;32m--> 718\u001b[1;33m         \u001b[0mimg\u001b[0m\u001b[1;33m.\u001b[0m\u001b[0msave\u001b[0m\u001b[1;33m(\u001b[0m\u001b[0mfilename\u001b[0m\u001b[1;33m,\u001b[0m \u001b[0moptimize\u001b[0m\u001b[1;33m=\u001b[0m\u001b[1;32mTrue\u001b[0m\u001b[1;33m)\u001b[0m\u001b[1;33m\u001b[0m\u001b[1;33m\u001b[0m\u001b[0m\n\u001b[0m\u001b[0;32m    719\u001b[0m         \u001b[1;32mreturn\u001b[0m \u001b[0mself\u001b[0m\u001b[1;33m\u001b[0m\u001b[1;33m\u001b[0m\u001b[0m\n\u001b[0;32m    720\u001b[0m \u001b[1;33m\u001b[0m\u001b[0m\n",
      "\u001b[1;32m~\\anaconda3\\envs\\learn-env\\lib\\site-packages\\PIL\\Image.py\u001b[0m in \u001b[0;36msave\u001b[1;34m(self, fp, format, **params)\u001b[0m\n\u001b[0;32m   2129\u001b[0m                 \u001b[0mfp\u001b[0m \u001b[1;33m=\u001b[0m \u001b[0mbuiltins\u001b[0m\u001b[1;33m.\u001b[0m\u001b[0mopen\u001b[0m\u001b[1;33m(\u001b[0m\u001b[0mfilename\u001b[0m\u001b[1;33m,\u001b[0m \u001b[1;34m\"r+b\"\u001b[0m\u001b[1;33m)\u001b[0m\u001b[1;33m\u001b[0m\u001b[1;33m\u001b[0m\u001b[0m\n\u001b[0;32m   2130\u001b[0m             \u001b[1;32melse\u001b[0m\u001b[1;33m:\u001b[0m\u001b[1;33m\u001b[0m\u001b[1;33m\u001b[0m\u001b[0m\n\u001b[1;32m-> 2131\u001b[1;33m                 \u001b[0mfp\u001b[0m \u001b[1;33m=\u001b[0m \u001b[0mbuiltins\u001b[0m\u001b[1;33m.\u001b[0m\u001b[0mopen\u001b[0m\u001b[1;33m(\u001b[0m\u001b[0mfilename\u001b[0m\u001b[1;33m,\u001b[0m \u001b[1;34m\"w+b\"\u001b[0m\u001b[1;33m)\u001b[0m\u001b[1;33m\u001b[0m\u001b[1;33m\u001b[0m\u001b[0m\n\u001b[0m\u001b[0;32m   2132\u001b[0m \u001b[1;33m\u001b[0m\u001b[0m\n\u001b[0;32m   2133\u001b[0m         \u001b[1;32mtry\u001b[0m\u001b[1;33m:\u001b[0m\u001b[1;33m\u001b[0m\u001b[1;33m\u001b[0m\u001b[0m\n",
      "\u001b[1;31mFileNotFoundError\u001b[0m: [Errno 2] No such file or directory: 'img/first_review.png'"
     ]
    }
   ],
   "source": [
    "wordcloud.to_file(\"img/first_review.png\")"
   ]
  },
  {
   "cell_type": "code",
   "execution_count": 226,
   "metadata": {},
   "outputs": [],
   "source": [
    "# all reviews plus some processing"
   ]
  },
  {
   "cell_type": "code",
   "execution_count": 236,
   "metadata": {},
   "outputs": [
    {
     "name": "stdout",
     "output_type": "stream",
     "text": [
      "There are 9683 words in the combination of all review.\n"
     ]
    }
   ],
   "source": [
    "text = \" \".join(review for review in final_df.comment)\n",
    "print (\"There are {} words in the combination of all review.\".format(len(text)))"
   ]
  },
  {
   "cell_type": "code",
   "execution_count": 237,
   "metadata": {},
   "outputs": [
    {
     "data": {
      "image/png": "[encoded data removed]",
      "text/plain": [
       "<Figure size 432x288 with 1 Axes>"
      ]
     },
     "metadata": {
      "needs_background": "light"
     },
     "output_type": "display_data"
    }
   ],
   "source": [
    "# lower max_font_size, change the maximum number of word and lighten the background:\n",
    "wordcloud = WordCloud(max_font_size= 70, max_words=100, background_color=\"white\").generate(text)\n",
    "plt.figure()\n",
    "plt.imshow(wordcloud, interpolation=\"bilinear\")\n",
    "plt.axis(\"off\")\n",
    "plt.show()"
   ]
  },
  {
   "cell_type": "code",
   "execution_count": null,
   "metadata": {},
   "outputs": [],
   "source": [
    "worldc"
   ]
  },
  {
   "cell_type": "code",
   "execution_count": null,
   "metadata": {},
   "outputs": [],
   "source": []
  }
 ],
 "metadata": {
  "kernelspec": {
   "display_name": "learn-env",
   "language": "python",
   "name": "learn-env"
  },
  "language_info": {
   "codemirror_mode": {
    "name": "ipython",
    "version": 3
   },
   "file_extension": ".py",
   "mimetype": "text/x-python",
   "name": "python",
   "nbconvert_exporter": "python",
   "pygments_lexer": "ipython3",
   "version": "3.6.9"
  }
 },
 "nbformat": 4,
 "nbformat_minor": 4
}
