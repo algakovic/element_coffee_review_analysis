{
 "cells": [
  {
   "cell_type": "markdown",
   "metadata": {},
   "source": [
    "# Google My Business Locations Insights for Element Coffee"
   ]
  },
  {
   "cell_type": "markdown",
   "metadata": {},
   "source": [
    "#### Retrieve Location Metrics in Google My Business"
   ]
  },
  {
   "cell_type": "markdown",
   "metadata": {},
   "source": [
    "## Executive Summary"
   ]
  },
  {
   "cell_type": "markdown",
   "metadata": {},
   "source": [
    "The Google My Business API provides you with several location insights and metrics.\n",
    "\n",
    "For each location, the following metrics are available for you to analyse:\n",
    "\n",
    "- The frequency that the resource was shown when the location is searched for directly.\n",
    "- The frequency that the resource was shown as a result of a categorical search, such as for a restaurant.\n",
    "- How many times that the resource was viewed on Google Search.\n",
    "- How many times that the local post was viewed on Google Search.\n",
    "- How many times that the resource was viewed on Google Maps.\n",
    "- How many times that the website was clicked.\n",
    "- How many times that the phone number was clicked.\n",
    "- How many times that the driving directions were requested.\n",
    "- How many times that the call-to-action button was clicked.\n",
    "- The amount of views of photos uploaded by the merchant.\n",
    "- The total number of photos that are currently live that were uploaded by the merchant."
   ]
  },
  {
   "cell_type": "markdown",
   "metadata": {},
   "source": [
    "## Obtain Insights from Google 02Auth Playground"
   ]
  }
 ],
 "metadata": {
  "kernelspec": {
   "display_name": "learn-env",
   "language": "python",
   "name": "learn-env"
  },
  "language_info": {
   "name": ""
  }
 },
 "nbformat": 4,
 "nbformat_minor": 4
}
