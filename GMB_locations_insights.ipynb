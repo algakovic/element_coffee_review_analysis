{
 "cells": [
  {
   "cell_type": "markdown",
   "metadata": {},
   "source": [
    "# Google My Business Locations Insights for Element Coffee"
   ]
  },
  {
   "cell_type": "markdown",
   "metadata": {},
   "source": [
    "#### Retrieve Location Metrics in Google My Business"
   ]
  },
  {
   "cell_type": "markdown",
   "metadata": {},
   "source": [
    "## Executive Summary"
   ]
  },
  {
   "cell_type": "markdown",
   "metadata": {},
   "source": [
    "The Google My Business API provides you with several location insights and metrics.\n",
    "\n",
    "For each location, the following metrics are available for you to analyse:\n",
    "\n",
    "- The frequency that the resource was shown when the location is searched for directly.\n",
    "- The frequency that the resource was shown as a result of a categorical search, such as for a restaurant.\n",
    "- How many times that the resource was viewed on Google Search.\n",
    "- How many times that the local post was viewed on Google Search.\n",
    "- How many times that the resource was viewed on Google Maps.\n",
    "- How many times that the website was clicked.\n",
    "- How many times that the phone number was clicked.\n",
    "- How many times that the driving directions were requested.\n",
    "- How many times that the call-to-action button was clicked.\n",
    "- The amount of views of photos uploaded by the merchant.\n",
    "- The total number of photos that are currently live that were uploaded by the merchant."
   ]
  },
  {
   "cell_type": "code",
   "execution_count": 16,
   "metadata": {},
   "outputs": [],
   "source": [
    "import os.path\n",
    "import requests\n",
    "import time\n",
    "import json\n",
    "\n",
    "\n",
    "\n",
    "import pandas as pd\n",
    "from pandas.io.json import json_normalize\n",
    "import numpy as np\n",
    "import matplotlib.pyplot as plt\n",
    "import seaborn as sns\n",
    "\n",
    "%matplotlib inline"
   ]
  },
  {
   "cell_type": "markdown",
   "metadata": {},
   "source": [
    "## Obtain Insights from Google 02Auth Playground"
   ]
  },
  {
   "cell_type": "code",
   "execution_count": 42,
   "metadata": {},
   "outputs": [],
   "source": [
    "# Cell missing data intentionally\n",
    "headers = {'Content-Length': '390', 'Content-Type': 'application/json', 'Authorization': '',\n",
    "          }\n",
    "accountId = \n",
    "locationId = \n",
    "URI = f'https://mybusiness.googleapis.com/v4/accounts/{accountId}/locations:reportInsights'\n",
    "# body of the POST request\n",
    "data = {\n",
    "  \"locationNames\": [\n",
    "    f\"accounts/{accountId}/locations/{locationId}\"\n",
    "  ],\n",
    "  \"basicRequest\": {\n",
    "          \"metricRequests\": [\n",
    "             {\n",
    "               \"metric\": \"ALL\"\n",
    "             },\n",
    "   \n",
    "          ],\n",
    "          \"timeRange\": {\n",
    "               \"startTime\": \"2019-04-22T01:01:23.045123456Z\",\n",
    "               \"endTime\": \"2020-10-20T23:59:59.045123456Z\"\n",
    "          }\n",
    "    }\n",
    "}\n",
    "# Jsonify the data object\n",
    "data = json.dumps(data)"
   ]
  },
  {
   "cell_type": "code",
   "execution_count": 43,
   "metadata": {
    "collapsed": true,
    "jupyter": {
     "outputs_hidden": true
    }
   },
   "outputs": [
    {
     "name": "stdout",
     "output_type": "stream",
     "text": [
      "status code: 200\n"
     ]
    },
    {
     "data": {
      "text/plain": [
       "{'locationMetrics': [{'locationName': 'accounts/103081671806813149550/locations/10162385833102214158',\n",
       "   'timeZone': 'Europe/London',\n",
       "   'metricValues': [{'metric': 'QUERIES_DIRECT',\n",
       "     'totalValue': {'metricOption': 'AGGREGATED_TOTAL',\n",
       "      'timeDimension': {'timeRange': {'startTime': '2019-04-22T01:01:23.045123456Z',\n",
       "        'endTime': '2020-10-20T23:59:59.045123456Z'}},\n",
       "      'value': '18853'}},\n",
       "    {'metric': 'QUERIES_INDIRECT',\n",
       "     'totalValue': {'metricOption': 'AGGREGATED_TOTAL',\n",
       "      'timeDimension': {'timeRange': {'startTime': '2019-04-22T01:01:23.045123456Z',\n",
       "        'endTime': '2020-10-20T23:59:59.045123456Z'}},\n",
       "      'value': '59843'}},\n",
       "    {'metric': 'QUERIES_CHAIN',\n",
       "     'totalValue': {'metricOption': 'AGGREGATED_TOTAL',\n",
       "      'timeDimension': {'timeRange': {'startTime': '2019-04-22T01:01:23.045123456Z',\n",
       "        'endTime': '2020-10-20T23:59:59.045123456Z'}},\n",
       "      'value': '1109'}},\n",
       "    {'metric': 'VIEWS_MAPS',\n",
       "     'totalValue': {'metricOption': 'AGGREGATED_TOTAL',\n",
       "      'timeDimension': {'timeRange': {'startTime': '2019-04-22T01:01:23.045123456Z',\n",
       "        'endTime': '2020-10-20T23:59:59.045123456Z'}},\n",
       "      'value': '103922'}},\n",
       "    {'metric': 'VIEWS_SEARCH',\n",
       "     'totalValue': {'metricOption': 'AGGREGATED_TOTAL',\n",
       "      'timeDimension': {'timeRange': {'startTime': '2019-04-22T01:01:23.045123456Z',\n",
       "        'endTime': '2020-10-20T23:59:59.045123456Z'}},\n",
       "      'value': '16680'}},\n",
       "    {'metric': 'ACTIONS_WEBSITE',\n",
       "     'totalValue': {'metricOption': 'AGGREGATED_TOTAL',\n",
       "      'timeDimension': {'timeRange': {'startTime': '2019-04-22T01:01:23.045123456Z',\n",
       "        'endTime': '2020-10-20T23:59:59.045123456Z'}},\n",
       "      'value': '1050'}},\n",
       "    {'metric': 'ACTIONS_PHONE',\n",
       "     'totalValue': {'metricOption': 'AGGREGATED_TOTAL',\n",
       "      'timeDimension': {'timeRange': {'startTime': '2019-04-22T01:01:23.045123456Z',\n",
       "        'endTime': '2020-10-20T23:59:59.045123456Z'}},\n",
       "      'value': '0'}},\n",
       "    {'metric': 'ACTIONS_DRIVING_DIRECTIONS',\n",
       "     'totalValue': {'metricOption': 'AGGREGATED_TOTAL',\n",
       "      'timeDimension': {'timeRange': {'startTime': '2019-04-22T01:01:23.045123456Z',\n",
       "        'endTime': '2020-10-20T23:59:59.045123456Z'}},\n",
       "      'value': '659'}},\n",
       "    {'metric': 'PHOTOS_VIEWS_MERCHANT',\n",
       "     'totalValue': {'metricOption': 'AGGREGATED_TOTAL',\n",
       "      'timeDimension': {'timeRange': {'startTime': '2019-04-22T01:01:23.045123456Z',\n",
       "        'endTime': '2020-10-20T23:59:59.045123456Z'}},\n",
       "      'value': '79389'}},\n",
       "    {'metric': 'PHOTOS_VIEWS_CUSTOMERS',\n",
       "     'totalValue': {'metricOption': 'AGGREGATED_TOTAL',\n",
       "      'timeDimension': {'timeRange': {'startTime': '2019-04-22T01:01:23.045123456Z',\n",
       "        'endTime': '2020-10-20T23:59:59.045123456Z'}},\n",
       "      'value': '102945'}},\n",
       "    {'metric': 'PHOTOS_COUNT_MERCHANT',\n",
       "     'totalValue': {'metricOption': 'AGGREGATED_TOTAL',\n",
       "      'timeDimension': {'timeRange': {'startTime': '2019-04-22T01:01:23.045123456Z',\n",
       "        'endTime': '2020-10-20T23:59:59.045123456Z'}},\n",
       "      'value': '3142'}},\n",
       "    {'metric': 'PHOTOS_COUNT_CUSTOMERS',\n",
       "     'totalValue': {'metricOption': 'AGGREGATED_TOTAL',\n",
       "      'timeDimension': {'timeRange': {'startTime': '2019-04-22T01:01:23.045123456Z',\n",
       "        'endTime': '2020-10-20T23:59:59.045123456Z'}},\n",
       "      'value': '18983'}},\n",
       "    {'metric': 'LOCAL_POST_VIEWS_SEARCH',\n",
       "     'totalValue': {'metricOption': 'AGGREGATED_TOTAL',\n",
       "      'timeDimension': {'timeRange': {'startTime': '2019-04-22T01:01:23.045123456Z',\n",
       "        'endTime': '2020-10-20T23:59:59.045123456Z'}},\n",
       "      'value': '76'}},\n",
       "    {'totalValue': {'metricOption': 'AGGREGATED_TOTAL',\n",
       "      'timeDimension': {'timeRange': {'startTime': '2019-04-22T01:01:23.045123456Z',\n",
       "        'endTime': '2020-10-20T23:59:59.045123456Z'}},\n",
       "      'value': '3'}}]}]}"
      ]
     },
     "execution_count": 43,
     "metadata": {},
     "output_type": "execute_result"
    }
   ],
   "source": [
    "r = requests.post(URI, headers=headers, data=data)\n",
    "print(f'status code: {r.status_code}')\n",
    "result = r.json()\n",
    "result"
   ]
  },
  {
   "cell_type": "markdown",
   "metadata": {},
   "source": [
    "### Save data to JSON file"
   ]
  },
  {
   "cell_type": "code",
   "execution_count": 57,
   "metadata": {},
   "outputs": [],
   "source": [
    "with open('C:/Users/kamik/code/projects/element_coffee/review_analysis/insights_data.json', 'w') as outfile:\n",
    "    json.dump(result, outfile)"
   ]
  },
  {
   "cell_type": "markdown",
   "metadata": {},
   "source": [
    "## Load data into DataFrame from JSON file"
   ]
  },
  {
   "cell_type": "code",
   "execution_count": 22,
   "metadata": {},
   "outputs": [],
   "source": [
    "with open('insights_data.json') as json_file:\n",
    "    data = json.load(json_file)"
   ]
  },
  {
   "cell_type": "code",
   "execution_count": 30,
   "metadata": {
    "collapsed": true,
    "jupyter": {
     "outputs_hidden": true
    }
   },
   "outputs": [
    {
     "data": {
      "text/plain": [
       "{'locationMetrics': [{'locationName': 'accounts/103081671806813149550/locations/10162385833102214158',\n",
       "   'timeZone': 'Europe/London',\n",
       "   'metricValues': [{'metric': 'QUERIES_DIRECT',\n",
       "     'totalValue': {'metricOption': 'AGGREGATED_TOTAL',\n",
       "      'timeDimension': {'timeRange': {'startTime': '2019-04-22T01:01:23.045123456Z',\n",
       "        'endTime': '2020-10-20T23:59:59.045123456Z'}},\n",
       "      'value': '18853'}},\n",
       "    {'metric': 'QUERIES_INDIRECT',\n",
       "     'totalValue': {'metricOption': 'AGGREGATED_TOTAL',\n",
       "      'timeDimension': {'timeRange': {'startTime': '2019-04-22T01:01:23.045123456Z',\n",
       "        'endTime': '2020-10-20T23:59:59.045123456Z'}},\n",
       "      'value': '59843'}},\n",
       "    {'metric': 'QUERIES_CHAIN',\n",
       "     'totalValue': {'metricOption': 'AGGREGATED_TOTAL',\n",
       "      'timeDimension': {'timeRange': {'startTime': '2019-04-22T01:01:23.045123456Z',\n",
       "        'endTime': '2020-10-20T23:59:59.045123456Z'}},\n",
       "      'value': '1109'}},\n",
       "    {'metric': 'VIEWS_MAPS',\n",
       "     'totalValue': {'metricOption': 'AGGREGATED_TOTAL',\n",
       "      'timeDimension': {'timeRange': {'startTime': '2019-04-22T01:01:23.045123456Z',\n",
       "        'endTime': '2020-10-20T23:59:59.045123456Z'}},\n",
       "      'value': '103922'}},\n",
       "    {'metric': 'VIEWS_SEARCH',\n",
       "     'totalValue': {'metricOption': 'AGGREGATED_TOTAL',\n",
       "      'timeDimension': {'timeRange': {'startTime': '2019-04-22T01:01:23.045123456Z',\n",
       "        'endTime': '2020-10-20T23:59:59.045123456Z'}},\n",
       "      'value': '16680'}},\n",
       "    {'metric': 'ACTIONS_WEBSITE',\n",
       "     'totalValue': {'metricOption': 'AGGREGATED_TOTAL',\n",
       "      'timeDimension': {'timeRange': {'startTime': '2019-04-22T01:01:23.045123456Z',\n",
       "        'endTime': '2020-10-20T23:59:59.045123456Z'}},\n",
       "      'value': '1050'}},\n",
       "    {'metric': 'ACTIONS_PHONE',\n",
       "     'totalValue': {'metricOption': 'AGGREGATED_TOTAL',\n",
       "      'timeDimension': {'timeRange': {'startTime': '2019-04-22T01:01:23.045123456Z',\n",
       "        'endTime': '2020-10-20T23:59:59.045123456Z'}},\n",
       "      'value': '0'}},\n",
       "    {'metric': 'ACTIONS_DRIVING_DIRECTIONS',\n",
       "     'totalValue': {'metricOption': 'AGGREGATED_TOTAL',\n",
       "      'timeDimension': {'timeRange': {'startTime': '2019-04-22T01:01:23.045123456Z',\n",
       "        'endTime': '2020-10-20T23:59:59.045123456Z'}},\n",
       "      'value': '659'}},\n",
       "    {'metric': 'PHOTOS_VIEWS_MERCHANT',\n",
       "     'totalValue': {'metricOption': 'AGGREGATED_TOTAL',\n",
       "      'timeDimension': {'timeRange': {'startTime': '2019-04-22T01:01:23.045123456Z',\n",
       "        'endTime': '2020-10-20T23:59:59.045123456Z'}},\n",
       "      'value': '79389'}},\n",
       "    {'metric': 'PHOTOS_VIEWS_CUSTOMERS',\n",
       "     'totalValue': {'metricOption': 'AGGREGATED_TOTAL',\n",
       "      'timeDimension': {'timeRange': {'startTime': '2019-04-22T01:01:23.045123456Z',\n",
       "        'endTime': '2020-10-20T23:59:59.045123456Z'}},\n",
       "      'value': '102945'}},\n",
       "    {'metric': 'PHOTOS_COUNT_MERCHANT',\n",
       "     'totalValue': {'metricOption': 'AGGREGATED_TOTAL',\n",
       "      'timeDimension': {'timeRange': {'startTime': '2019-04-22T01:01:23.045123456Z',\n",
       "        'endTime': '2020-10-20T23:59:59.045123456Z'}},\n",
       "      'value': '3142'}},\n",
       "    {'metric': 'PHOTOS_COUNT_CUSTOMERS',\n",
       "     'totalValue': {'metricOption': 'AGGREGATED_TOTAL',\n",
       "      'timeDimension': {'timeRange': {'startTime': '2019-04-22T01:01:23.045123456Z',\n",
       "        'endTime': '2020-10-20T23:59:59.045123456Z'}},\n",
       "      'value': '18983'}},\n",
       "    {'metric': 'LOCAL_POST_VIEWS_SEARCH',\n",
       "     'totalValue': {'metricOption': 'AGGREGATED_TOTAL',\n",
       "      'timeDimension': {'timeRange': {'startTime': '2019-04-22T01:01:23.045123456Z',\n",
       "        'endTime': '2020-10-20T23:59:59.045123456Z'}},\n",
       "      'value': '76'}},\n",
       "    {'totalValue': {'metricOption': 'AGGREGATED_TOTAL',\n",
       "      'timeDimension': {'timeRange': {'startTime': '2019-04-22T01:01:23.045123456Z',\n",
       "        'endTime': '2020-10-20T23:59:59.045123456Z'}},\n",
       "      'value': '3'}}]}]}"
      ]
     },
     "execution_count": 30,
     "metadata": {},
     "output_type": "execute_result"
    }
   ],
   "source": [
    "data"
   ]
  },
  {
   "cell_type": "code",
   "execution_count": 42,
   "metadata": {},
   "outputs": [],
   "source": [
    "df = pd.DataFrame.from_dict(json_normalize(data['locationMetrics'][0]['metricValues']), orient='columns')"
   ]
  },
  {
   "cell_type": "code",
   "execution_count": 44,
   "metadata": {},
   "outputs": [
    {
     "name": "stdout",
     "output_type": "stream",
     "text": [
      "<class 'pandas.core.frame.DataFrame'>\n",
      "RangeIndex: 14 entries, 0 to 13\n",
      "Data columns (total 5 columns):\n",
      "metric                                          13 non-null object\n",
      "totalValue.metricOption                         14 non-null object\n",
      "totalValue.timeDimension.timeRange.startTime    14 non-null object\n",
      "totalValue.timeDimension.timeRange.endTime      14 non-null object\n",
      "totalValue.value                                14 non-null object\n",
      "dtypes: object(5)\n",
      "memory usage: 688.0+ bytes\n"
     ]
    }
   ],
   "source": [
    "df.info()"
   ]
  },
  {
   "cell_type": "code",
   "execution_count": null,
   "metadata": {},
   "outputs": [],
   "source": []
  }
 ],
 "metadata": {
  "kernelspec": {
   "display_name": "learn-env",
   "language": "python",
   "name": "learn-env"
  },
  "language_info": {
   "codemirror_mode": {
    "name": "ipython",
    "version": 3
   },
   "file_extension": ".py",
   "mimetype": "text/x-python",
   "name": "python",
   "nbconvert_exporter": "python",
   "pygments_lexer": "ipython3",
   "version": "3.6.9"
  }
 },
 "nbformat": 4,
 "nbformat_minor": 4
}
